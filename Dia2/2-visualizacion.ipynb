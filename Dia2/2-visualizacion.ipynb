{
  "cells": [
    {
      "cell_type": "markdown",
      "id": "4e378048-d8f0-4e8f-9a9b-01a0951507b9",
      "metadata": {
        "id": "4e378048-d8f0-4e8f-9a9b-01a0951507b9"
      },
      "source": [
        "<font size=6>\n",
        "\n",
        "<b>Taller de Análisis de Datos</b>\n",
        "</font>\n",
        "\n",
        "<font size=4>\n",
        "    \n",
        "InpsiraSTEM 2025 <br/>\n",
        "24 de Julio de 2025\n",
        "\n",
        "</font>\n",
        "\n",
        "https://github.com/michaelsanchez2025/inspirastem2025-data-analises/\n",
        "\n",
        "<br/>"
      ]
    },
    {
      "cell_type": "markdown",
      "id": "86d63b96-2a12-4ab6-9c49-729e4222023a",
      "metadata": {
        "id": "86d63b96-2a12-4ab6-9c49-729e4222023a"
      },
      "source": [
        "# Día 2 - Visualización"
      ]
    },
    {
      "cell_type": "markdown",
      "id": "7cd20817-50d0-49e3-b2f4-fa82a7302fba",
      "metadata": {
        "id": "7cd20817-50d0-49e3-b2f4-fa82a7302fba"
      },
      "source": [
        "## Objetivos\n",
        "\n",
        "- Introducir las diferentes librerías para visualización de datos en Python, describiendo sus principales características.\n",
        "\n",
        "- Conocer los fundamentos del uso de la librería _Matplotlib_, la más utilizada para la creación de gráficos en Python.\n",
        "\n",
        "- Introducir las capacidades gráficas de _Pandas_ y la librería de alto nivel _Seaborn_, basadas en Matplotlib."
      ]
    },
    {
      "cell_type": "markdown",
      "id": "11d04d2e-955f-41d3-a524-b3dae0ebe9f6",
      "metadata": {
        "id": "11d04d2e-955f-41d3-a524-b3dae0ebe9f6"
      },
      "source": [
        "## Introducción\n",
        "Como suele decirse, _una imagen vale más que mil palabras_. Para entender mejor nuestros datos, o para comunicar resultados, es imprescindible ser capaz de producir visualizaciones adecuadas.\n",
        "\n",
        "Podríamos dedicar un curso entero solo a hablar de los diferentes tipos de gráficos existentes, y cuáles son las cualidades que estos deben reunir. Aunque a lo largo del curso, veremos algunos ejemplos de gráficos interesantes para el análisis de datos, en este tema vamos a centrarnos en describir las librerías de visualización más importantes para Python, y en los fundamentos del uso de algunas de ellas (las que utilizaremos en los temas siguientes)."
      ]
    },
    {
      "cell_type": "markdown",
      "id": "cc945c49-a0fd-4b14-ac34-c2df58929e87",
      "metadata": {
        "tags": [],
        "id": "cc945c49-a0fd-4b14-ac34-c2df58929e87"
      },
      "source": [
        "## Librerías de visualización en Python\n",
        "\n",
        "### Matplotlib\n",
        "Matplotlib ha sido considerada desde hace mucho tiempo la librería de referencia para la creación gráfica en Python. Aunque hoy en día existen diferentes alternativas, algunas de ellas muy populares, Matplotlib sigue siendo seguramente la más utilizada. Además, algunas librerías gráficas que ofrecen interfaces de alto nivel utilizan Matplotlib internamente.\n",
        "\n",
        "Matplotlib se inspiró en Matlab para su interfaz a usuarios (la referencia en el momento de su creación). A lo largo del tiempo el interfaz y las recomendaciones de uso han ido evolucionando. En este curso, utilizaremos versiones recientes y las prácticas de uso recomendadas en la actualidad.\n",
        "\n",
        "Algunas deficiencias de Matplotlib son su escasa funcionalidad de interactividad, una complicada gestión de las series de datos temporales y el soporte a gráficos 3D.\n",
        "\n",
        "### Interfaces de alto nivel sobre Matplotlib: Seaborn y Pandas\n",
        "\n",
        "**Seaborn**\n",
        "Seaborn es un interfaz de alto nivel a Matplotlib. Su objetivo es facilitar la producción de gráficos de calidad (quizás con mejor acabado que los de Matplotlib), principalmente a partir de DataFrames de Pandas.\n",
        "\n",
        "Además, Seaborn ofrece buen soporte para una fácil representacion de análisis estadístico (como los gráficos de regresión).\n",
        "\n",
        "**Pandas**\n",
        "Los objetos Pandas ofrecen funciones de alto nivel para la creación de gráficos. En realidad, esto es solo un interfaz de conveniencia que internamente utiliza Matplotlib, pero puede ser suficiente y sencillo para los gráficos más comunes.\n",
        "\n",
        "\n",
        "### Librerías para gráficos interactivos: Plotly y Bokeh\n",
        "\n",
        "**Plotly**\n",
        "Basada en la librería de Javascript `plotly.js`, la librería de Python `plotly` (o `plotly.py`) está especialmente dirigida a la creación de gráficos interactivos para plataformas web (Jupyter , aplicaciones creadas con `Dash`), aunque pueden ser guardados como documentos HTML, o exportados a otros contextos (integración con IDEs, o figuras estáticas).\n",
        "\n",
        "- _Dash_ es un _framework_ para la creación de aplicaciones webs interactivas para análisis de datos con Python (sin manipular directamente javascript). Plotly es la librería de visualización utilizada con Dash.\n",
        "\n",
        "Plotly es buena elección para trabajar con Dash, o, en general, para conseguir interactividad, o cuando se quiere usar la misma librería con Python y con otros lenguajes (R, Julia, etc.).\n",
        "\n",
        "Además, Plotly ofrece algunos tipos de visualizaciones no presentes en otras librerías, especialmente para gráficos en 3D, y contiene utilidades para visualizar resultados de algoritmos de aprendizaje automático (p.ej. clasificación kNN).\n",
        "\n",
        "Para la integración de Plotly con Jupyter, se requiere la instalación de `ipywidgets`, y, para poder usar widgets (botones, _sliders_...) también de `jupyter-dash`.\n",
        "\n",
        "\n",
        "**Bokeh**\n",
        "La principal alternativa a plotly para gráficos interactivos es `Bokeh`. Ambas son potentes y ofrecen gran funcionalidad (aunque plotly es más potente para gráficos 3D), y resultados de calidad.\n",
        "\n",
        "Bokeh también puede usarse para aplicaciones web, en las que el usuario puede interaccionar con un servidor. El _back-end_ para aplicaciones con Bokeh es `Tornado`, y utiliza _websockets_ para una interacción inmediata.\n",
        "\n",
        "Para usar Bokeh en JupyterLab se debe instalar la extensión `jupyter_bokeh`, y utilizar la función `output_notebook`, en lugar de la habitual `output_file`. Además, uno puede incluso _empotrar_ un servidor _back-end_ para Bokeh en un notebook Jupyter.\n",
        "\n",
        "\n",
        "### Librerías de uso específico: mapas, redes, datasets\n",
        "\n",
        "**Creación y visualización de mapas**\n",
        "Para este fin, se pueden usar `Geoplotlib`o `Folium`.\n",
        "\n",
        "**Visualización de redes complejas**\n",
        "La librería `Networkx` permite, no solo visualizar, sino analizar, manipular y estudiar la estructura de redes complejas.\n",
        "\n",
        "**Visualización de datasets (datos ausentes)**\n",
        "La librería `Missingno` permite visualizar fácilmente (una línea de código) qué datos faltan en un dataset.\n",
        "\n",
        "\n",
        "### Otras librerías\n",
        "\n",
        "**ggplot2/plotnine**\n",
        "Implementaciones para Python de la conocida (y apreciada) librería `ggplot2` de R. Son opciones para quien provenga de R, o trabaje a la vez con Python y R, o simplemente aprecie la aproximación declarativa de ggplot2.\n",
        "\n",
        "**Altair**\n",
        "Otra librería declarativa, basada en _Vega-Lite_. Altair pone énfasis en la sencillez y facilidad de uso.\n"
      ]
    },
    {
      "cell_type": "markdown",
      "id": "813336d2-acb4-42c1-bfd4-64fb35511510",
      "metadata": {
        "id": "813336d2-acb4-42c1-bfd4-64fb35511510"
      },
      "source": [
        "### Recomendaciones generales\n",
        "Aunque a la hora de elegir una librería hay muchos factores personales a tener en cuenta (tipo de trabajo, conocimientos previos, gusto personal), y las opciones disponibles van evolucionando, mis recomendaciones generales son las siguientes:\n",
        "\n",
        "- Es importante conocer los fundamentos de Matplotlib, porque sigue siendo la libraría más usada y es la base para otras.\n",
        "\n",
        "- Sin embargo, probablemente sea más productivo usar las capacidades gráficas de Pandas y la librería Seaborn, antes que Matplotlib, para gráficos estáticos. Recurriríamos a Matplotlib cuando necesitemos personalización o funcionalidades de bajo nivel.\n",
        "\n",
        "- Para visualizaciones interactivas o para aplicaciones web,  plotly o bokeh.\n",
        "\n",
        "- Para gráficos 3D, plotly parece la opción más potente.\n",
        "\n",
        "- Para grafos o mapas, usar librerías específicas."
      ]
    },
    {
      "cell_type": "markdown",
      "id": "09cb928a-72bc-496a-87a8-ae47d900bb3d",
      "metadata": {
        "id": "09cb928a-72bc-496a-87a8-ae47d900bb3d"
      },
      "source": [
        "## Matplotlib\n",
        "\n"
      ]
    },
    {
      "cell_type": "markdown",
      "id": "da4e07e9-100b-4bae-8da8-366dd2bed855",
      "metadata": {
        "id": "da4e07e9-100b-4bae-8da8-366dd2bed855"
      },
      "source": [
        "**Nota:** Las funciones de Matplotlib esperan recibir ndarrays de NumPy, o bien tipos de datos que puedan convertirse a estos sin problemas (listas Python, Pandas DataFrames, etc.)."
      ]
    },
    {
      "cell_type": "markdown",
      "id": "57dde7dc-d71b-4d18-bc4e-4e641429955e",
      "metadata": {
        "id": "57dde7dc-d71b-4d18-bc4e-4e641429955e"
      },
      "source": [
        "### Aproximación al trabajo con Matplotlib\n",
        "\n",
        "Hay básicamente dos maneras de usar Matplotlib:\n",
        "\n",
        "- Explícitamente crear los objetos de los gráficos (_Artists_), y usar sus métodos (estilo _orientado a objetos_).\n",
        "\n",
        "- Utilizar las funciones del interfaz `pyplot` y dejar que este gestione los objetos gráficos automáticamente (estilo de _scripting_, el más parecido al de Matlab).\n",
        "\n",
        "La recomendación general es utilizar el segundo método para trabajo interactivo (_rápido_), pero usar el primero para proyectos de mayor envergadura, o que se vayan a reusar. A continuación, mostraremos los dos estilos."
      ]
    },
    {
      "cell_type": "markdown",
      "id": "87b8d0c1-36f3-4180-a39b-f2f95be16373",
      "metadata": {
        "id": "87b8d0c1-36f3-4180-a39b-f2f95be16373"
      },
      "source": [
        "#### Estilo de _scripting_\n",
        "\n",
        "En este caso, utilizamos directamente funciones del módulo `pyplot` (`plt`). Podemos usar directamente `plt.plot`, o, como en este caso, usar `plt.subplot(rows, cols, plot_num)`, si queremos tener varios gráficos en la misma figura.\n",
        "\n",
        "A partir de ahí, las llamadas que realicemos afectarán al gráfico (a los ejes) activos en ese momento."
      ]
    },
    {
      "cell_type": "code",
      "execution_count": null,
      "id": "f6aeb378-f355-42f6-9bba-e37670698cd4",
      "metadata": {
        "id": "f6aeb378-f355-42f6-9bba-e37670698cd4"
      },
      "outputs": [],
      "source": [
        "import numpy as np\n",
        "from matplotlib import pyplot as plt"
      ]
    },
    {
      "cell_type": "code",
      "execution_count": null,
      "id": "7032ec40-2dce-44ef-b5a2-d5299c19e455",
      "metadata": {
        "id": "7032ec40-2dce-44ef-b5a2-d5299c19e455"
      },
      "outputs": [],
      "source": [
        "x = np.linspace(0, 2, 100)\n",
        "\n",
        "plt.subplot(2, 1, 1)\n",
        "plt.plot(x, x, label='lineal')\n",
        "plt.plot(x, x**2, label='cuadrático')\n",
        "plt.ylabel('y label')\n",
        "plt.legend()\n",
        "plt.title(\"Simple Plot\")\n",
        "\n",
        "plt.subplot(2, 1, 2)\n",
        "plt.plot(x, x, label='lineal')\n",
        "plt.plot(x, x**3, label='cúbico')\n",
        "plt.xlabel('x label')\n",
        "plt.ylabel('y label 2')\n",
        "plt.legend();"
      ]
    },
    {
      "cell_type": "markdown",
      "id": "1e266086-6864-4957-b456-807274edf35f",
      "metadata": {
        "id": "1e266086-6864-4957-b456-807274edf35f"
      },
      "source": [
        "#### Estilo orientado a objetos\n",
        "\n",
        "En este caso, volvemos a utilizar el módulo `pyplot` como puerta de entrada para crear una figura (`plt.figure`, o `plt.subplots`), pero, a partir de ahí, siempre realizaremos llamadas a los objetos `Figure`, o `Axes`, que nos devuelven:\n",
        "\n",
        "```python\n",
        "fig, ax = plt.subplots()\n",
        "ax.plot(...)\n",
        "```\n",
        "\n",
        "Con `subplots` también podemos crear varios gráficos, en cuyo caso, nos devolverá una lista de `Axes`, uno para cada gráfico de la figura."
      ]
    },
    {
      "cell_type": "code",
      "execution_count": null,
      "id": "00c5a381-d1d2-4b25-8e3d-db39b2b591d9",
      "metadata": {
        "id": "00c5a381-d1d2-4b25-8e3d-db39b2b591d9"
      },
      "outputs": [],
      "source": [
        "x = np.linspace(0, 2, 100)\n",
        "\n",
        "# Incluso en OO-style, usamos pyplot.figure o .subplots para crear la figura\n",
        "fig, axs = plt.subplots(2, 1)\n",
        "\n",
        "axs[0].plot(x, x, label='lineal')\n",
        "axs[0].plot(x, x**2, label='cuadrático')\n",
        "axs[0].set_ylabel('y label')\n",
        "axs[0].set_title(\"Simple Plot\")\n",
        "axs[0].legend()\n",
        "\n",
        "axs[1].plot(x, x, label='lineal')\n",
        "axs[1].plot(x, x**3, label='cúbico')\n",
        "axs[1].set_xlabel('x label')\n",
        "axs[1].set_ylabel('y label 2')\n",
        "axs[1].legend();"
      ]
    },
    {
      "cell_type": "markdown",
      "id": "441e88dd-70b3-45a4-9916-0728fb7cf3e5",
      "metadata": {
        "id": "441e88dd-70b3-45a4-9916-0728fb7cf3e5"
      },
      "source": [
        "### Principales objetos _Artist_\n",
        "Básicamente, todos los objetos manipulables (y visibles) de una figura heredan del tipo `Artist`. Los principales son:\n",
        "\n",
        "- `Figure`: el conjunto de la figura (que puede tener varios gráficos, _Axes_).\n",
        "- `Axes`: referencia un gráfico (_plot_) concreto dentro de una figura. Es el objeto que más se usa en la interacción con los gráficos de Matplotlib.\n",
        "- `Axis`: son los ejes de un gráfico. Se encargan de definir los límites de los valores representados, así como los _ticks_ y los _ticklabels_ de los ejes."
      ]
    },
    {
      "cell_type": "markdown",
      "id": "8c3ab8f4-5763-45fa-a950-a074eacc5189",
      "metadata": {
        "id": "8c3ab8f4-5763-45fa-a950-a074eacc5189"
      },
      "source": [
        "### _Back-ends_\n",
        "Los gráficos producidos por Matplotlib pueden tener varios destinos objetivo: mostrarse en un notebook Jupyter, o en una ventana emergente, integrarse con un IDE, salvarse en un fichero, etc. El tipo de resultado que Matplotlib produce se determina por el _back-end_ que se utiliza en cada caso.\n",
        "\n",
        "Por defecto Matplotlib seleeciona el _back-end_ adecuado, y normalmente no es necesario instalar nada. Sin embargo, sí puede ser necesario hacer alguna instalación adicional, o seleccionar manualmente el _back-end_ para integración en una apliación gráfica o web.\n",
        "\n",
        "- Nota: en algunas distribuciones Linux es necesario instalar el paquete `tkinter` para que Matplotlib funcione adecuadamente.\n",
        "\n",
        "En el caso de tener que indicar el _back-end_ explícitamente se puede hacer en el fichero `matplotlibrc`, con la variable de entorno `MPLBACKEND`, o con la función `matplotlib.use`. Finalmente, dentro de IPython/Jupyter, se puede usar la función `%matplotlib <back-end-name>`."
      ]
    },
    {
      "cell_type": "markdown",
      "id": "2da253ba-8cdb-473f-8ea7-da9bc0264afd",
      "metadata": {
        "id": "2da253ba-8cdb-473f-8ea7-da9bc0264afd"
      },
      "source": [
        "### Exportar a un fichero\n",
        "Independientemente del _back-end_ que Matplotlib esté usando por defecto, si queremos guardar una figura en un fichero externo, se puede usar la función `savefig(<fname>)`, que deducirá el tipo de fichero por la extensión utilizada (o explícitamente con el _keyword_ `format`). Algunos formatos soportados por Matplotlib son `pdf`, `png`, `(e)ps`, `svg`."
      ]
    },
    {
      "cell_type": "code",
      "execution_count": null,
      "id": "2ec9f3d2-e346-4496-b8b6-334ddf947cbe",
      "metadata": {
        "id": "2ec9f3d2-e346-4496-b8b6-334ddf947cbe"
      },
      "outputs": [],
      "source": [
        "fig.savefig('example.png')"
      ]
    },
    {
      "cell_type": "markdown",
      "id": "848fe7cc-78da-4262-83e6-17c34bee75d2",
      "metadata": {
        "id": "848fe7cc-78da-4262-83e6-17c34bee75d2"
      },
      "source": [
        "### Interactividad\n",
        "\n",
        "Las funciones `pyplot.ion()` y `pyplot.ioff()` permiten cambiar el modo de Matplotlib de interactivo a no interactivo.\n",
        "\n",
        "En el caso interactivo, una llamada a `plot` en un script mostrará un gráfico en una ventana nueva, y retornará inmediatamente. Sucesivas instrucciones pueden modificar el gráfico activo directamente.\n",
        "\n",
        "En el caso no interactivo, una figura no se muestra directamente con `plot` sino que require usar `pyplot.show`, y, una vez llamada, bloquea el intérprete hasta que se cierra la ventana de la figura (esto es útil para scripts que quieren mostrar figuras y dejar tiempo para que el usuario las vea).\n",
        "\n",
        "En un entorno como Jupyter solo se usa el modo interactivo. Por otro lado, conviene incluir todo el código referente a una figura en la misma celda (aunque sea después de `plot`)."
      ]
    },
    {
      "cell_type": "markdown",
      "id": "635e38f2-3592-4f45-a6bc-d514781cb8bb",
      "metadata": {
        "id": "635e38f2-3592-4f45-a6bc-d514781cb8bb"
      },
      "source": [
        "### Algunos ejemplos de gráficos con matplotlib"
      ]
    },
    {
      "cell_type": "code",
      "execution_count": null,
      "id": "de27034d-6350-4991-bf64-f4ade87489f1",
      "metadata": {
        "id": "de27034d-6350-4991-bf64-f4ade87489f1"
      },
      "outputs": [],
      "source": [
        "fig, ax = plt.subplots()\n",
        "langs = ['C', 'C++', 'Java', 'Python']\n",
        "ax.bar(langs, [5, 8, 7, 10])\n",
        "ax.grid()"
      ]
    },
    {
      "cell_type": "code",
      "execution_count": null,
      "id": "8c27674e-9695-4f8b-b098-1172431584eb",
      "metadata": {
        "id": "8c27674e-9695-4f8b-b098-1172431584eb"
      },
      "outputs": [],
      "source": [
        "x = np.random.randn(300)\n",
        "y = np.random.randn(300)\n",
        "x1, x2 = np.split(x, 2)\n",
        "y1, y2 = np.split(y, 2)\n",
        "\n",
        "vol1 = 50*x1 + 100*y1\n",
        "vol2 = 50*x2 + 100*y2\n",
        "\n",
        "fig, ax = plt.subplots()\n",
        "ax.scatter(x1, y2, s=vol1, color='blue', alpha=0.5)\n",
        "ax.scatter(x1, y2, s=vol2, color='red', alpha=0.5);"
      ]
    },
    {
      "cell_type": "markdown",
      "id": "19a54386-abd2-4104-9e02-2ed97902a802",
      "metadata": {
        "id": "19a54386-abd2-4104-9e02-2ed97902a802"
      },
      "source": [
        "<div style=\"background-color:powderblue;\">\n",
        "\n",
        "**EJERCICIO e6_1:**\n",
        "    \n",
        "Producir un gráfico de las funciones seno y coseno en la misma gráfica, usando matplotlib.  "
      ]
    },
    {
      "cell_type": "markdown",
      "id": "47446f52-f3d9-422f-b232-0c286140eebe",
      "metadata": {
        "id": "47446f52-f3d9-422f-b232-0c286140eebe"
      },
      "source": [
        "## Creación de gráficos desde Pandas\n",
        "\n",
        "### Básicos\n",
        "\n",
        "Los objetos `Series` y `DataFrame` ofrecen el método `plot`, que básicamente llama al método `pyplot.plot` de Matplotlib. Para interacciones directas con Matplotlib (por ejemplo para cerrar una figura, o crear una nueva), se usa la convención habitual: `import matplotlib.pyplot as plt`.\n",
        "\n",
        "Diferentes ajustes se pueden lograr por el uso de _keywords_ similares a los que se usan con Matplotlib. Pandas va progresivamente añadiendo soporte a más y más funcionalidades de Matplotlib a través de su interfaz."
      ]
    },
    {
      "cell_type": "code",
      "execution_count": null,
      "id": "6f422ce6-6e60-41c2-8f3d-fa1a4ea92f69",
      "metadata": {
        "id": "6f422ce6-6e60-41c2-8f3d-fa1a4ea92f69"
      },
      "outputs": [],
      "source": [
        "import pandas as pd"
      ]
    },
    {
      "cell_type": "code",
      "execution_count": null,
      "id": "848439e9-61ad-4b0e-af2a-b0b80e58e270",
      "metadata": {
        "id": "848439e9-61ad-4b0e-af2a-b0b80e58e270"
      },
      "outputs": [],
      "source": [
        "ts = pd.Series(np.arange(100)**2, index=pd.date_range(\"1/1/2000\", periods=100))\n",
        "ts"
      ]
    },
    {
      "cell_type": "code",
      "execution_count": null,
      "id": "a75e675d-73d7-41d0-b07e-760bab59d374",
      "metadata": {
        "id": "a75e675d-73d7-41d0-b07e-760bab59d374"
      },
      "outputs": [],
      "source": [
        "# Plot series with some formatting\n",
        "# Automáticamente formatea el eje X como fecha, con gcf().autofmt_xdate()\n",
        "ts.plot(style='x', color='orange', xlabel='Date', ylabel='x^2');"
      ]
    },
    {
      "cell_type": "code",
      "execution_count": null,
      "id": "aa7d86d2-4fab-43fd-910f-85dcf11a0030",
      "metadata": {
        "id": "aa7d86d2-4fab-43fd-910f-85dcf11a0030"
      },
      "outputs": [],
      "source": [
        "df = pd.DataFrame(np.random.randn(100, 4), index=ts.index, columns=list(\"ABCD\"))\n",
        "df = df.cumsum()\n",
        "df.head()"
      ]
    },
    {
      "cell_type": "code",
      "execution_count": null,
      "id": "df08d9f5-64e0-4366-b14e-0e402720f8b3",
      "metadata": {
        "id": "df08d9f5-64e0-4366-b14e-0e402720f8b3"
      },
      "outputs": [],
      "source": [
        "df.plot(y=['A', 'C']);   # Si no damos 'y', mostraría las 4 columnas en 4 líneas"
      ]
    },
    {
      "cell_type": "markdown",
      "id": "6511100c-e8fa-418d-bda0-5cd94913570f",
      "metadata": {
        "id": "6511100c-e8fa-418d-bda0-5cd94913570f"
      },
      "source": [
        "El método `plot` devuelve un objeto `matplotlib.Axes`, que podemos usar para interaccionar a más bajo nivel (o para usarlo en posteriores funciones de visualización de Pandas)."
      ]
    },
    {
      "cell_type": "code",
      "execution_count": null,
      "id": "f352b8a3-4637-44ab-9e87-6d44963a477d",
      "metadata": {
        "id": "f352b8a3-4637-44ab-9e87-6d44963a477d"
      },
      "outputs": [],
      "source": [
        "ax = df.plot(y=['A', 'C'], xlabel='Date', ylabel='A/C Scale')\n",
        "df.plot(ax=ax, y=['B'], secondary_y=True)\n",
        "\n",
        "ax.right_ax.set_ylabel(\"B scale\");"
      ]
    },
    {
      "cell_type": "markdown",
      "id": "461f0165-7d24-4d53-8073-4be051b46dc5",
      "metadata": {
        "id": "461f0165-7d24-4d53-8073-4be051b46dc5"
      },
      "source": [
        "### Otros tipos de gráficos\n",
        "\n",
        "Además del de líneas, se pueden obtener otros tipos de gráficos usando el _keyword_ `kind`, o usando los respectivos métodos `plot.<tipo>`."
      ]
    },
    {
      "cell_type": "code",
      "execution_count": null,
      "id": "08225f2d-6ec0-48d2-9714-4d9aa244ac01",
      "metadata": {
        "id": "08225f2d-6ec0-48d2-9714-4d9aa244ac01"
      },
      "outputs": [],
      "source": [
        "df2 = pd.DataFrame(np.random.rand(7, 3), columns=[\"A\", \"B\", \"C\"])\n",
        "df2.plot.box(color='green', figsize=(3,2))\n",
        "df2.plot(kind='box', color='red', figsize=(3,2));"
      ]
    },
    {
      "cell_type": "code",
      "execution_count": null,
      "id": "3f3bab36-ff7b-44e0-970e-0441edf55f4d",
      "metadata": {
        "id": "3f3bab36-ff7b-44e0-970e-0441edf55f4d"
      },
      "outputs": [],
      "source": [
        "df3 = pd.DataFrame(np.random.randn(50, 3), columns=list(\"ABC\"))\n",
        "df3 = df.cumsum()\n",
        "df3.plot.hist(alpha=0.5, figsize=(4,3))\n",
        "df3.plot.kde(figsize=(4,3))\n",
        "df3.hist(alpha=0.5);"
      ]
    },
    {
      "cell_type": "markdown",
      "id": "bef361e4-0d2c-4004-a9dc-fb1e69144010",
      "metadata": {
        "id": "bef361e4-0d2c-4004-a9dc-fb1e69144010"
      },
      "source": [
        "### Nota sobre valores ausentes.\n",
        "\n",
        "Según el tipo de gráfico, Pandas los eliminará, los dejará fuera, o los completará (https://pandas.pydata.org/pandas-docs/stable/user_guide/visualization.html#plotting-with-missing-data).\n",
        "\n",
        "Si eso no es lo que queremos, debemos gestionar esos datos antes de crear el gráfico (con `fillna` or `dropna` por ejemplo)."
      ]
    },
    {
      "cell_type": "markdown",
      "id": "0a30af20-2f97-4350-8432-b8736a7f25d3",
      "metadata": {
        "id": "0a30af20-2f97-4350-8432-b8736a7f25d3"
      },
      "source": [
        "### Bonus: mostrando tablas\n",
        "\n",
        "Pandas también permite controlar cómo mostrar los contenidos de un DataFrame.\n",
        "\n",
        "Existe un estilo por defecto."
      ]
    },
    {
      "cell_type": "code",
      "execution_count": null,
      "id": "29ea7686-2b0e-435a-b6dd-8161325fc203",
      "metadata": {
        "id": "29ea7686-2b0e-435a-b6dd-8161325fc203"
      },
      "outputs": [],
      "source": [
        "df4 = df3[:5]\n",
        "df"
      ]
    },
    {
      "cell_type": "markdown",
      "id": "2bf0553c-ed38-404e-952e-ddd3da4fad20",
      "metadata": {
        "id": "2bf0553c-ed38-404e-952e-ddd3da4fad20"
      },
      "source": [
        "Pero podemos alterarlo de diferentes maneras, en particular usando propiedades CSS (como en páginas web) e incluso un estilo CSS definido en un fichero externo."
      ]
    },
    {
      "cell_type": "code",
      "execution_count": null,
      "id": "3488bafe-6759-4a30-a7da-6d15faa56f00",
      "metadata": {
        "id": "3488bafe-6759-4a30-a7da-6d15faa56f00"
      },
      "outputs": [],
      "source": [
        "headers = {\n",
        "    'selector': 'th:not(.index_name)',\n",
        "    'props': 'background-color: #000066; color: white;'\n",
        "}\n",
        "df4[:10].style.set_table_styles([headers])"
      ]
    },
    {
      "cell_type": "markdown",
      "id": "4f3abb93-882e-439e-bf29-3f56a652de6f",
      "metadata": {
        "id": "4f3abb93-882e-439e-bf29-3f56a652de6f"
      },
      "source": [
        "<br/>\n",
        "<div style=\"background-color:powderblue;\">\n",
        "\n",
        "**EJERCICIO e6_2:**\n",
        "    \n",
        "Usando pandas, producir un gráfico de área y otro de líneas para mostrar la evolución de los valores del DataFrame `df2` usado en los ejemplos anteriores. Ver la principal diferencia entre ambos."
      ]
    },
    {
      "cell_type": "markdown",
      "id": "dc559749-cd94-4a09-8d0f-feb06405d8b5",
      "metadata": {
        "id": "dc559749-cd94-4a09-8d0f-feb06405d8b5"
      },
      "source": [
        "## Seaborn\n",
        "Seaborn ofrece dos tipos de funciones de producción de figuras: las que producen un solo gráfico de un tipo determinado (_Axes-level_), y las genéricas que pueden producir diferentes tipos de gráficos (_Figure-level_), seleccionadas por el parámetro `kind` (o el tipo por defecto).\n",
        "\n",
        "Las 3 funciones genéricas son:\n",
        "\n",
        "- `relplot`: para gráficos relacionales (p.ej. _scatter_, o de línea)\n",
        "- `distplot`: para gráficos de distribuciones (p.ej. histogramas, KDE, o _rug plot_)\n",
        "- `catplot`: para gráficos categóricos (p.ej. barras, boxplot o _violin plot_)\n",
        "\n",
        "Entre otras diferencias, las funciones de tipo _Axes-level_ aceptan un parámetro `ax` de tipo `matplotlib.Axes` para poder incluirlos en figuras creadas previamente, mientras que las funciones _Figure-level_ crean su propia figura, aunque devuelven un objeto de tipo `FacetGrid`, que permite gestionar los gráficos que contiene, o añadir nuevos."
      ]
    },
    {
      "cell_type": "code",
      "execution_count": null,
      "id": "0f233687-0fd5-4b8f-b796-62129d750d4f",
      "metadata": {
        "id": "0f233687-0fd5-4b8f-b796-62129d750d4f"
      },
      "outputs": [],
      "source": [
        "import seaborn as sns"
      ]
    },
    {
      "cell_type": "code",
      "execution_count": null,
      "id": "440c0843-8682-4336-9c1d-8144bfa67667",
      "metadata": {
        "id": "440c0843-8682-4336-9c1d-8144bfa67667"
      },
      "outputs": [],
      "source": [
        "df = pd.DataFrame(np.random.randn(50, 3), columns=list(\"ABC\"))\n",
        "df = df.cumsum()\n",
        "sns.kdeplot(data=df, multiple=\"stack\");"
      ]
    },
    {
      "cell_type": "code",
      "execution_count": null,
      "id": "17fcc716-4061-4d3a-859a-9e3a0dca9475",
      "metadata": {
        "id": "17fcc716-4061-4d3a-859a-9e3a0dca9475"
      },
      "outputs": [],
      "source": [
        "# Distribución con dos variables\n",
        "g = sns.displot(df, x='A', y='B', kind='kde')\n",
        "print(type(g))"
      ]
    },
    {
      "cell_type": "code",
      "execution_count": null,
      "id": "b53071e2-2a63-46b2-a676-90bedb49cad4",
      "metadata": {
        "id": "b53071e2-2a63-46b2-a676-90bedb49cad4"
      },
      "outputs": [],
      "source": [
        "# Ejemplo de regresión lineal\n",
        "x = np.arange(100)\n",
        "noise = np.random.randn(100)\n",
        "y = x + 10*noise\n",
        "sns.regplot(x=x, y=y);"
      ]
    },
    {
      "cell_type": "markdown",
      "id": "0c46fb0e-3d87-4df1-ba80-33d12fa02123",
      "metadata": {
        "id": "0c46fb0e-3d87-4df1-ba80-33d12fa02123"
      },
      "source": [
        "### Visualización de DataFrames con Seaborn: formatos _wide_ y _long_\n",
        "A la hora de visualizar datos de un DataFrame, Seaborn distingue entre dos formatos de datos:\n",
        "\n",
        "- **Long-format**: cada variable es una columna, cada observación es una fila. Podemos indicar las variables a representar por el nombre de la columna.\n",
        "\n",
        "- **Wide-format**: las filas y las columnas contienen niveles de diferentes variables. Se incluyen más columnas en la tabla, de modo que cada observación se define por las coordenadas de esa celda en cuanto a índice y columnas. Las variables a representar corresponden a los índices."
      ]
    },
    {
      "cell_type": "markdown",
      "id": "96eb50a7-9e0e-4343-ae59-189bd949ff0a",
      "metadata": {
        "id": "96eb50a7-9e0e-4343-ae59-189bd949ff0a"
      },
      "source": [
        "![objeto](https://github.com/michaelsanchez2025/inspirastem2025-data-analises/blob/main/Dia2/images/t6_long_wide_format.png?raw=1)"
      ]
    },
    {
      "cell_type": "markdown",
      "id": "55c796cb-4902-4d8f-aff9-3a95e71114b9",
      "metadata": {
        "id": "55c796cb-4902-4d8f-aff9-3a95e71114b9"
      },
      "source": [
        "Seaborn considera que los datos están en forma _wide_, si no se usan los parámetros `x` ni `y` en la función.\n",
        "\n",
        "El formato _long_ permite distinguir más variables, y, en general, tener mejor control sobre lo que se quiere representar."
      ]
    },
    {
      "cell_type": "code",
      "execution_count": null,
      "id": "b63425cd-eac1-4042-b190-6ca99c7c1840",
      "metadata": {
        "tags": [],
        "id": "b63425cd-eac1-4042-b190-6ca99c7c1840"
      },
      "outputs": [],
      "source": [
        "flights = sns.load_dataset(\"flights\")\n",
        "flights.head()"
      ]
    },
    {
      "cell_type": "code",
      "execution_count": null,
      "id": "6dc80335-894c-4b03-a868-21983da7b762",
      "metadata": {
        "id": "6dc80335-894c-4b03-a868-21983da7b762"
      },
      "outputs": [],
      "source": [
        "sns.relplot(data=flights, x=\"year\", y=\"passengers\", hue=\"month\", kind=\"line\");"
      ]
    },
    {
      "cell_type": "code",
      "execution_count": null,
      "id": "3e663c9d-48b6-4493-82f3-8ad12b46c605",
      "metadata": {
        "id": "3e663c9d-48b6-4493-82f3-8ad12b46c605"
      },
      "outputs": [],
      "source": [
        "flights_wide = flights.pivot(index=\"year\", columns=\"month\", values=\"passengers\")\n",
        "flights_wide.head()"
      ]
    },
    {
      "cell_type": "code",
      "execution_count": null,
      "id": "5a4c5c48-a6e0-4a67-95d9-98b9c1bd5c5f",
      "metadata": {
        "id": "5a4c5c48-a6e0-4a67-95d9-98b9c1bd5c5f"
      },
      "outputs": [],
      "source": [
        "sns.relplot(data=flights_wide, kind=\"line\");"
      ]
    },
    {
      "cell_type": "code",
      "execution_count": null,
      "id": "123d07a2-c914-4dd4-9d2e-1ce6644ae960",
      "metadata": {
        "id": "123d07a2-c914-4dd4-9d2e-1ce6644ae960"
      },
      "outputs": [],
      "source": [
        "sns.catplot(data=flights, x='year', y='passengers', kind=\"violin\");"
      ]
    },
    {
      "cell_type": "markdown",
      "id": "b30932fa-60bf-4f43-80b0-a4c0d2f85b75",
      "metadata": {
        "id": "b30932fa-60bf-4f43-80b0-a4c0d2f85b75"
      },
      "source": [
        "<br/>\n",
        "<div style=\"background-color:powderblue;\">\n",
        "\n",
        "**EJERCICIO e6_3:**\n",
        "    \n",
        "Crear un mapa de calor del DataFrame `flights_wide` de los ejemplos anteriores. Incluir los valores de cada campo en el mapa, con un formato de entero (`'d'`)."
      ]
    },
    {
      "cell_type": "markdown",
      "id": "55b39702-f797-41d6-9de5-4197ea0940cb",
      "metadata": {
        "tags": [],
        "id": "55b39702-f797-41d6-9de5-4197ea0940cb"
      },
      "source": [
        "## ipywidgets\n",
        "\n",
        "Los _widgets_ de Jupyter son controles interactivos para los notebooks, que permiten recibir información de los usuarios de manera más visual que con simple texto. Algunos ejemplos son botones, casillas de marcado, _sliders_, etc.\n",
        "\n",
        "Se requiere el paquete `ipywidgets`."
      ]
    },
    {
      "cell_type": "code",
      "execution_count": null,
      "id": "525e78da-e6ac-46e2-8f8d-307d4376d235",
      "metadata": {
        "tags": [],
        "id": "525e78da-e6ac-46e2-8f8d-307d4376d235"
      },
      "outputs": [],
      "source": [
        "import ipywidgets as widgets\n",
        "from IPython.display import display\n",
        "\n",
        "w = widgets.IntSlider()\n",
        "display(w)"
      ]
    },
    {
      "cell_type": "code",
      "execution_count": null,
      "id": "4dfcf0c6-8129-4cd4-b207-ed1e574e4605",
      "metadata": {
        "id": "4dfcf0c6-8129-4cd4-b207-ed1e574e4605"
      },
      "outputs": [],
      "source": [
        "print(w.value)"
      ]
    },
    {
      "cell_type": "markdown",
      "id": "c3623f7c-6201-4478-b83d-1278c37fa597",
      "metadata": {
        "id": "c3623f7c-6201-4478-b83d-1278c37fa597"
      },
      "source": [
        "El decorador `interact` permite llamar repetidamente a una función con el valor de un widget de manera sencilla. Por defecto, `interact` elige automáticamente el tipo de _widget_ adecuado para el tipo de valor que se espera (boolean, float...)"
      ]
    },
    {
      "cell_type": "code",
      "execution_count": null,
      "id": "ae86a073-f35d-44ba-8286-1385b288c8fe",
      "metadata": {
        "id": "ae86a073-f35d-44ba-8286-1385b288c8fe"
      },
      "outputs": [],
      "source": [
        "from ipywidgets import interact\n",
        "\n",
        "@interact(x=True, y=1.0)\n",
        "def g(x, y):\n",
        "    print(f\"x is {x}, and y is {y}\")"
      ]
    },
    {
      "cell_type": "markdown",
      "id": "20362969-ab1b-4096-82c2-4de831a4ab6a",
      "metadata": {
        "id": "20362969-ab1b-4096-82c2-4de831a4ab6a"
      },
      "source": [
        "<br/><br/>\n",
        "<div style=\"background-color:powderblue;\">\n",
        "\n",
        "**EJERCICIO e6_4 (avanzado)**\n",
        "    \n",
        "Dados los ficheros  `data/school_2018_clean_Countries.pickle` (_wide format_) y `data/school_2018_clean_Countries_longformat.pickle` (_long format_), producir un gráfico de barras comparando las poblaciones de los diferentes niveles de escolaridad para los 5 primeros países (el fichero _wide_ contiene muchos más países, el _long_ solo esos 5).\n",
        "    \n",
        "Hacerlo primero con barras múltiples, y luego con barras apiladas. Se puede hacer con matplotlib, pandas o seaborn, o probar varios de ellos. Según el método usado para crear el gráfico puede interesar usar como punto de partida un fichero de datos, o el otro\n",
        "    \n",
        "NOTA: en este caso, con Pandas es más fácil.\n",
        "    \n",
        "El resultado debe ser algo como las figuras mostradas a continuación:\n",
        "    \n",
        "![modelo_ejecucion](https://github.com/michaelsanchez2025/inspirastem2025-data-analises/blob/main/Dia2/images/t6_bars.png?raw=1)    "
      ]
    },
    {
      "cell_type": "markdown",
      "id": "a1b6dede-baf9-4071-b6ce-2afa7a61af02",
      "metadata": {
        "id": "a1b6dede-baf9-4071-b6ce-2afa7a61af02"
      },
      "source": [
        "## Algunas referencias\n",
        "\n",
        "Towards Data Science. How to Choose a Python Plotting Library:\n",
        "https://towardsdatascience.com/data-visualization-101-how-to-choose-a-python-plotting-library-853460a08a8a\n",
        "\n",
        "Paul Iacomi. Plotly vs. Bokeh: https://pauliacomi.com/2020/06/07/plotly-v-bokeh.html\n",
        "\n",
        "Matplotlib. http://matplotlib.org/\n",
        "\n",
        "Pandas:\n",
        "- https://pandas.pydata.org/docs/user_guide/visualization.html\n",
        "- https://realpython.com/pandas-plot-python/\n",
        "- https://pandas.pydata.org/pandas-docs/stable/user_guide/style.html\n",
        "\n",
        "Seaborn. http://web.stanford.edu/~mwaskom/software/seaborn/index.html\n",
        "\n",
        "Plotly. https://plot.ly/python/\n",
        "\n",
        "Bokeh. https://docs.bokeh.org\n",
        "\n",
        "Bokeh en Jupyter. https://docs.bokeh.org/en/latest/docs/user_guide/jupyter.html\n",
        "\n",
        "Plotnine. https://plotnine.readthedocs.io/en/stable/\n",
        "\n",
        "Ggplot2. https://yhat.github.io/ggpy/\n",
        "\n",
        "Altair. https://altair-viz.github.io/\n",
        "\n",
        "Networkx. https://networkx.github.io/\n",
        "\n",
        "Missingno. https://github.com/ResidentMario/missingno\n",
        "\n",
        "Geoplotlib. https://github.com/andrea-cuttone/geoplotlib/wiki/User-Guide\n",
        "\n",
        "Folium. https://python-visualization.github.io/folium/index.html"
      ]
    }
  ],
  "metadata": {
    "kernelspec": {
      "display_name": "python3.7",
      "language": "python",
      "name": "python3.7"
    },
    "language_info": {
      "codemirror_mode": {
        "name": "ipython",
        "version": 3
      },
      "file_extension": ".py",
      "mimetype": "text/x-python",
      "name": "python",
      "nbconvert_exporter": "python",
      "pygments_lexer": "ipython3",
      "version": "3.7.9"
    },
    "toc-autonumbering": false,
    "toc-showcode": false,
    "toc-showmarkdowntxt": false,
    "toc-showtags": false,
    "colab": {
      "provenance": []
    }
  },
  "nbformat": 4,
  "nbformat_minor": 5
}