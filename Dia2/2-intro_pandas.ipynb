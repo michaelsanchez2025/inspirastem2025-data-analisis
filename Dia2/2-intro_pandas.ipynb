{
  "cells": [
    {
      "cell_type": "markdown",
      "id": "95beb5a8-7007-43d8-8766-9656614c49f8",
      "metadata": {
        "id": "95beb5a8-7007-43d8-8766-9656614c49f8"
      },
      "source": [
        "<font size=6>\n",
        "\n",
        "<b>Día 2: Aplicación de Principales Fundamentales con Python</b>\n",
        "</font>\n",
        "\n",
        "<font size=4>  \n",
        "\n",
        "InpsiraSTEM 2025 <br/>\n",
        "24 de Julio de 2025 <br/>\n",
        "\n",
        "</font>\n",
        "\n",
        "https://github.com/michaelsanchez2025/inspirastem2025-data-analisis/\n",
        "\n",
        "<br/>"
      ]
    },
    {
      "cell_type": "markdown",
      "id": "86d63b96-2a12-4ab6-9c49-729e4222023a",
      "metadata": {
        "id": "86d63b96-2a12-4ab6-9c49-729e4222023a"
      },
      "source": [
        "# Fundamentos de Pandas"
      ]
    },
    {
      "cell_type": "markdown",
      "id": "7cd20817-50d0-49e3-b2f4-fa82a7302fba",
      "metadata": {
        "id": "7cd20817-50d0-49e3-b2f4-fa82a7302fba"
      },
      "source": [
        "## Objetivos\n",
        "\n",
        "- La librería de manipulación de datos Pandas.\n",
        "\n",
        "- Estructuras de datos fundamentales de Pandas: Series (unidimensionales) y DataFrames (bidimensionales).\n",
        "\n",
        "- Funciones de la librería para entrada y salida.\n",
        "\n",
        "- Tipos de datos en pandas. Tipos categóricos.\n",
        "\n",
        "- Operaciones de indexado y selección de datos.\n",
        "\n",
        "- Operaciones vectoriales (sin bucles explícitos)."
      ]
    },
    {
      "cell_type": "markdown",
      "id": "11d04d2e-955f-41d3-a524-b3dae0ebe9f6",
      "metadata": {
        "id": "11d04d2e-955f-41d3-a524-b3dae0ebe9f6"
      },
      "source": [
        "## Introducción\n",
        "\n",
        "Pandas ofrece estructuras de datos flexibles y eficientes diseñadas para trabajar de manera intuitiva con datos relacionales o etiquetados. Se ha convertido en una pieza fundamental para el análisis de datos (para transformación, limpieza, filtrado, selección) en Python.\n",
        "\n",
        "Pandas presume de trabajar bien con:\n",
        "\n",
        "- Datos tabulados con tipos heterogéneos (procedentes de tablas SQL u hojas Excel)\n",
        "- Series temporales ordenadas o desordenadas.\n",
        "- Matrices de datos con datos de tipo homogéneos o heterogéneos.\n",
        "- En general, casi cualquier conjunto de datos observacional o estadístico.\n",
        "\n",
        "Pandas se ha construido sobre NumPy y se integra bien con muchas otras librerías (p.ej. `seaborn` o `statsmodel`)."
      ]
    },
    {
      "cell_type": "markdown",
      "id": "fdf6de9b-2154-4e3f-a2c8-6ef1b7a42ce1",
      "metadata": {
        "id": "fdf6de9b-2154-4e3f-a2c8-6ef1b7a42ce1"
      },
      "source": [
        "## Series y _DataFrames_\n",
        "Las estructuras de datos fundamentales en Pandas son las `Series` y los `DataFrames`."
      ]
    },
    {
      "cell_type": "code",
      "execution_count": null,
      "id": "ef4787d2-27ef-45a6-96df-38d7dafa009e",
      "metadata": {
        "tags": [],
        "id": "ef4787d2-27ef-45a6-96df-38d7dafa009e"
      },
      "outputs": [],
      "source": [
        "import pandas as pd\n",
        "import numpy as np"
      ]
    },
    {
      "cell_type": "markdown",
      "id": "116b77c6-333f-4fb3-8990-793701076e11",
      "metadata": {
        "id": "116b77c6-333f-4fb3-8990-793701076e11"
      },
      "source": [
        "### Series\n",
        "Las Series son arrays unidimensionales de datos de cualquier tipo, etiquetados. El conjunto de etiquetas se denomina _índice_.\n",
        "\n",
        "Las series se pueden construir a partir de por ejemplo un ndarray de NumPy, un diccionario/lista Python, o un valor escalar. Opcionalmente, se puede indicar un índice explícitamente (si no, se asignará uno de enteros crecientes desde 0)."
      ]
    },
    {
      "cell_type": "code",
      "execution_count": null,
      "id": "9da1e1fc-d97c-47bf-a380-aa2787b563ef",
      "metadata": {
        "id": "9da1e1fc-d97c-47bf-a380-aa2787b563ef"
      },
      "outputs": [],
      "source": [
        "s1 = pd.Series([4, 9, 10])\n",
        "s1"
      ]
    },
    {
      "cell_type": "code",
      "execution_count": null,
      "id": "7416bf29-38f6-4b67-af4e-1605008225de",
      "metadata": {
        "id": "7416bf29-38f6-4b67-af4e-1605008225de"
      },
      "outputs": [],
      "source": [
        "s1 = pd.Series([4, 9, 10], index=('b', 'a', 'c'))\n",
        "s1"
      ]
    },
    {
      "cell_type": "code",
      "execution_count": null,
      "id": "75b313d2-d77e-4f4c-b4c1-6fea1e3bdc7e",
      "metadata": {
        "id": "75b313d2-d77e-4f4c-b4c1-6fea1e3bdc7e"
      },
      "outputs": [],
      "source": [
        "s1 = pd.Series({'b': 4, 'a': 9 , 'c': 10})\n",
        "s1"
      ]
    },
    {
      "cell_type": "markdown",
      "id": "9db608b2-907b-4057-8876-13b4be256600",
      "metadata": {
        "id": "9db608b2-907b-4057-8876-13b4be256600"
      },
      "source": [
        "<br/>\n",
        "\n",
        "Las Series permiten acceder a los valores asociados a una etiqueta (valor del índice), o asignarles nuevos valores, con la misma notación que en un diccionario Python."
      ]
    },
    {
      "cell_type": "code",
      "execution_count": null,
      "id": "d28c19d8-8f96-4b5d-9539-a913953b46fb",
      "metadata": {
        "id": "d28c19d8-8f96-4b5d-9539-a913953b46fb"
      },
      "outputs": [],
      "source": [
        "s1['c']"
      ]
    },
    {
      "cell_type": "code",
      "execution_count": null,
      "id": "f723e9ea-14a2-45b7-8177-bd63615945d1",
      "metadata": {
        "id": "f723e9ea-14a2-45b7-8177-bd63615945d1"
      },
      "outputs": [],
      "source": [
        "s1['a'] = 10\n",
        "s1"
      ]
    },
    {
      "cell_type": "markdown",
      "id": "264a1d27-7719-4ff4-8b87-c9d4daaebef6",
      "metadata": {
        "id": "264a1d27-7719-4ff4-8b87-c9d4daaebef6"
      },
      "source": [
        "<br/>\n",
        "\n",
        "Podemos recuperar los valores de una Series (es decir, sin el índice) con el método `.array` (como `PandasArray`), o `.to_numpy` (como `ndarray`)."
      ]
    },
    {
      "cell_type": "code",
      "execution_count": null,
      "id": "2bec5bc9-501b-4f99-b3e5-4a9b2a1b8d1d",
      "metadata": {
        "id": "2bec5bc9-501b-4f99-b3e5-4a9b2a1b8d1d"
      },
      "outputs": [],
      "source": [
        "s1.array"
      ]
    },
    {
      "cell_type": "code",
      "execution_count": null,
      "id": "a527870d-303e-4511-a69e-fcf0546960b0",
      "metadata": {
        "id": "a527870d-303e-4511-a69e-fcf0546960b0"
      },
      "outputs": [],
      "source": [
        "s1.to_numpy()"
      ]
    },
    {
      "cell_type": "markdown",
      "id": "8513bba2-1a70-4992-be66-98c8422a0f48",
      "metadata": {
        "id": "8513bba2-1a70-4992-be66-98c8422a0f48"
      },
      "source": [
        "Las Series, como los ndarrays, tienen un `dtype` asociado. Además, opcionalmente, pueden tener una propiedad `Name`, que las nombra."
      ]
    },
    {
      "cell_type": "code",
      "execution_count": null,
      "id": "7f45febd-eabb-475d-b92a-6311a545a140",
      "metadata": {
        "id": "7f45febd-eabb-475d-b92a-6311a545a140"
      },
      "outputs": [],
      "source": [
        "s2 = pd.Series([4, 9 , 10], name='precios')\n",
        "print('name:', s2.name)\n",
        "print('dtype:', s2.dtype)"
      ]
    },
    {
      "cell_type": "code",
      "execution_count": null,
      "id": "d34e6ac6-9cf1-4ae5-be9f-301c0eb634bf",
      "metadata": {
        "id": "d34e6ac6-9cf1-4ae5-be9f-301c0eb634bf"
      },
      "outputs": [],
      "source": [
        "print(s2)"
      ]
    },
    {
      "cell_type": "code",
      "execution_count": null,
      "id": "51c1e176-d027-4956-bc67-420463e13156",
      "metadata": {
        "id": "51c1e176-d027-4956-bc67-420463e13156"
      },
      "outputs": [],
      "source": [
        "s2 = pd.Series([1, 'a'])\n",
        "s2"
      ]
    },
    {
      "cell_type": "markdown",
      "id": "a957ba8b-98e6-4a02-834a-b5488c04ff00",
      "metadata": {
        "id": "a957ba8b-98e6-4a02-834a-b5488c04ff00"
      },
      "source": [
        "### DataFrames\n",
        "Los DataFrames son estructuras bidimensionales con columnas de datos de cualquier tipo. Se pueden asimilar a una hoja de cálculo, o una tabla de una base de datos, o, simplemente, un diccionario de objetos tipo Series. Los DataFrames etiquetan los datos con el índice y con los identificadores de cada columna.\n",
        "\n",
        "Los DataFrames son el objeto más usado de Pandas. La información de un objeto Series puede contenerse en un DataFrame de una sola columna.\n",
        "\n",
        "Los DataFrames se pueden construir de muchas maneras, p. ej. a partir de un diccionario de Series (con `NaN` para las claves sin valor en la serie):"
      ]
    },
    {
      "cell_type": "code",
      "execution_count": null,
      "id": "00a3dfed-3d24-42a0-b036-f4bce92a4c6b",
      "metadata": {
        "id": "00a3dfed-3d24-42a0-b036-f4bce92a4c6b"
      },
      "outputs": [],
      "source": [
        "s1 = pd.Series([0, 1, 2], index=('juan', 'pedro', 'maria'))\n",
        "s2 = pd.Series([10, 20], index=('juan', 'maria'))\n",
        "print(s1)\n",
        "print()\n",
        "print(s2)"
      ]
    },
    {
      "cell_type": "code",
      "execution_count": null,
      "id": "1e3e180c-195f-4942-b4ed-9cab241f58b5",
      "metadata": {
        "id": "1e3e180c-195f-4942-b4ed-9cab241f58b5"
      },
      "outputs": [],
      "source": [
        "df = pd.DataFrame({'primera': s1, 'segunda': s2})\n",
        "df"
      ]
    },
    {
      "cell_type": "code",
      "execution_count": null,
      "id": "07d06704-f03c-4ece-9977-1e11cc4f141e",
      "metadata": {
        "id": "07d06704-f03c-4ece-9977-1e11cc4f141e"
      },
      "outputs": [],
      "source": [
        "df.dtypes"
      ]
    },
    {
      "cell_type": "markdown",
      "id": "cbbb1f3e-eb33-4378-bf3a-594e5fd2a33a",
      "metadata": {
        "id": "cbbb1f3e-eb33-4378-bf3a-594e5fd2a33a"
      },
      "source": [
        "Se puede indicar el índice con `index`,  e incluso restringir los valores de las Series que se incorporan."
      ]
    },
    {
      "cell_type": "code",
      "execution_count": null,
      "id": "cdd5214e-5cdb-4d04-a5fe-fef47ef2c049",
      "metadata": {
        "id": "cdd5214e-5cdb-4d04-a5fe-fef47ef2c049"
      },
      "outputs": [],
      "source": [
        "df2 = pd.DataFrame({'primera': s1, 'segunda': s2}, index=['juan', 'pedro'])\n",
        "df2"
      ]
    },
    {
      "cell_type": "markdown",
      "id": "51bbf295-4f13-47ff-9369-6596f6deb67c",
      "metadata": {
        "id": "51bbf295-4f13-47ff-9369-6596f6deb67c"
      },
      "source": [
        "También se puede construir un DataFrame a partir de otro. En el siguiente ejemplo usamos además el argumento `columns`, análogo a `index` para la otra dimensión."
      ]
    },
    {
      "cell_type": "code",
      "execution_count": null,
      "id": "6bba9e2d-875b-4c22-ade7-7d95dcc89a6c",
      "metadata": {
        "id": "6bba9e2d-875b-4c22-ade7-7d95dcc89a6c"
      },
      "outputs": [],
      "source": [
        "df"
      ]
    },
    {
      "cell_type": "code",
      "execution_count": null,
      "id": "5078bad2-c6b6-4a11-827c-78668de92fdf",
      "metadata": {
        "id": "5078bad2-c6b6-4a11-827c-78668de92fdf"
      },
      "outputs": [],
      "source": [
        "df2 = pd.DataFrame(df, index=['juan', 'pedro'], columns=('primera',))\n",
        "df2"
      ]
    },
    {
      "cell_type": "markdown",
      "id": "de7c0eae-2115-4422-a564-837f751a213c",
      "metadata": {
        "id": "de7c0eae-2115-4422-a564-837f751a213c"
      },
      "source": [
        "Otras formas de construcción son partiendo de un dict; o de una lista de dicts, listas, o ndarrays.\n",
        "\n",
        "Cuando los objetos no especifican claves, se utilizan secuencias de enteros para índice/columnas (salvo que se usen explícitamente los argumentos `index` o `columns`)."
      ]
    },
    {
      "cell_type": "code",
      "execution_count": null,
      "id": "411d8801-f36c-4a16-a302-996e4897c520",
      "metadata": {
        "id": "411d8801-f36c-4a16-a302-996e4897c520"
      },
      "outputs": [],
      "source": [
        "df = pd.DataFrame({'col1': [1, 3], 'col2': [3, 5]})\n",
        "df"
      ]
    },
    {
      "cell_type": "code",
      "execution_count": null,
      "id": "131dbd66-cae7-4838-8c2f-d554b1c5fbd7",
      "metadata": {
        "id": "131dbd66-cae7-4838-8c2f-d554b1c5fbd7"
      },
      "outputs": [],
      "source": [
        "df = pd.DataFrame({'col1': [1, 3], 'col2': [3, 5]}, index=['row1', 'row2'])\n",
        "df"
      ]
    },
    {
      "cell_type": "code",
      "execution_count": null,
      "id": "0dd2f9c1-1815-474b-91f8-d6636c4e4ae3",
      "metadata": {
        "id": "0dd2f9c1-1815-474b-91f8-d6636c4e4ae3"
      },
      "outputs": [],
      "source": [
        "df = pd.DataFrame({'col1': {'row1': 1, 'row2': 2}, 'col2': {'row1': 3, 'row3': 5}})\n",
        "df"
      ]
    },
    {
      "cell_type": "code",
      "execution_count": null,
      "id": "99e73241-5e27-43ad-a3da-93ccc2e91b2e",
      "metadata": {
        "id": "99e73241-5e27-43ad-a3da-93ccc2e91b2e"
      },
      "outputs": [],
      "source": [
        "df = pd.DataFrame([[1, 2], [3, 5]], columns=['col1', 'col2'])\n",
        "df"
      ]
    },
    {
      "cell_type": "code",
      "execution_count": null,
      "id": "be4fd9ed-1715-41cf-a2e5-86ee27447679",
      "metadata": {
        "id": "be4fd9ed-1715-41cf-a2e5-86ee27447679"
      },
      "outputs": [],
      "source": [
        "df = pd.DataFrame([{'col1': 1, 'col2': 2},  {'col1': 3, 'col3': 5}], index=['row1', 'row2'])\n",
        "df"
      ]
    },
    {
      "cell_type": "markdown",
      "id": "3ff08ad9-dbb0-48c8-9be1-33666aa54fc6",
      "metadata": {
        "id": "3ff08ad9-dbb0-48c8-9be1-33666aa54fc6"
      },
      "source": [
        "Los atributos `values`, `index` y `columns` permiten acceder respectivamente a un ndarray del contenido del DataFrame, a los objetos índice de las filas y de las columnas."
      ]
    },
    {
      "cell_type": "code",
      "execution_count": null,
      "id": "4f162d72-9c99-41c6-9ff4-4fe06d69a798",
      "metadata": {
        "id": "4f162d72-9c99-41c6-9ff4-4fe06d69a798"
      },
      "outputs": [],
      "source": [
        "print(type(df.values))\n",
        "print(df.values)"
      ]
    },
    {
      "cell_type": "code",
      "execution_count": null,
      "id": "63bcd4fa-a20e-49d3-81f5-a92eb89448cd",
      "metadata": {
        "id": "63bcd4fa-a20e-49d3-81f5-a92eb89448cd"
      },
      "outputs": [],
      "source": [
        "print(df.index)\n",
        "print(df.columns)"
      ]
    },
    {
      "cell_type": "code",
      "execution_count": null,
      "id": "0d967143-e0cb-4894-83ad-98cf763c5d69",
      "metadata": {
        "id": "0d967143-e0cb-4894-83ad-98cf763c5d69"
      },
      "outputs": [],
      "source": [
        "df.columns[2]"
      ]
    },
    {
      "cell_type": "markdown",
      "id": "c22935fa-71d7-4bb6-9b92-29f7b6a3e97e",
      "metadata": {
        "id": "c22935fa-71d7-4bb6-9b92-29f7b6a3e97e"
      },
      "source": [
        "El atributo `shape` muestra las dimensiones del DataFrame"
      ]
    },
    {
      "cell_type": "code",
      "execution_count": null,
      "id": "1b420f5a-aea9-40f5-bfa1-96277994e1b6",
      "metadata": {
        "id": "1b420f5a-aea9-40f5-bfa1-96277994e1b6"
      },
      "outputs": [],
      "source": [
        "df.shape"
      ]
    },
    {
      "cell_type": "markdown",
      "id": "d08e276c-4148-4ed5-a8b6-834f14dc5726",
      "metadata": {
        "id": "d08e276c-4148-4ed5-a8b6-834f14dc5726"
      },
      "source": [
        "Podemos mostrar un DataFrame con `print`, o, más bonito, con el método de Jupyter `display`."
      ]
    },
    {
      "cell_type": "code",
      "execution_count": null,
      "id": "f8a68071-4c0d-4b64-af0c-ab693636b65e",
      "metadata": {
        "id": "f8a68071-4c0d-4b64-af0c-ab693636b65e"
      },
      "outputs": [],
      "source": [
        "print(df)\n",
        "display(df)"
      ]
    },
    {
      "cell_type": "markdown",
      "id": "845a16cb-0209-4ab9-9942-df189636f31a",
      "metadata": {
        "id": "845a16cb-0209-4ab9-9942-df189636f31a"
      },
      "source": [
        "Otros métodos que permiten inspeccionar los contenidos de un DataFrame: `head`, `tail`, `info`."
      ]
    },
    {
      "cell_type": "markdown",
      "id": "c16144ca-7c75-4549-ab65-3615e3d3b7c8",
      "metadata": {
        "id": "c16144ca-7c75-4549-ab65-3615e3d3b7c8"
      },
      "source": [
        "<br/>\n",
        "\n",
        "<div style=\"background-color:powderblue;\">\n",
        "\n",
        "**EJERCICIO 1:**\n",
        "    \n",
        "Construir un DataFrame como el siguiente:\n",
        "\n",
        "```\n",
        "        | peras | manzanas | uvas |\n",
        "-----------------------------------\n",
        " enero  |   10  |     4    |  5   |\n",
        "febrero |   20  |     9    | 12   |\n",
        " marzo  |    7  |     3    |  6   |\n",
        "\n",
        "```\n",
        "<br/>    "
      ]
    },
    {
      "cell_type": "markdown",
      "id": "ebad457f-0f8f-4f96-9890-91c9baaf7a0e",
      "metadata": {
        "id": "ebad457f-0f8f-4f96-9890-91c9baaf7a0e"
      },
      "source": [
        "## Entrada y salida\n",
        "\n",
        "Pandas soporta lectura y escritura de datos desde/a multitud de formatos diferentes. Para ello, proporciona una serie de métodos `pd.read_<formato>` y `pd.to_<formato>`.\n",
        "\n",
        "En su forma básica los métodos reciben el nombre de un fichero para leer/escribir como argumento. P. ej. para leer de un fichero de texto:\n",
        "\n",
        "```python\n",
        "df = pd.read_csv(fname)\n",
        "df = ...\n",
        "df.to_csv(fname)\n",
        "```\n",
        "\n",
        "Otros formatos soportados son `json`, `pickle`, `Excel` (usando `openpyxl`), `Apache parquet` (usando `pyarrow`), `HDF5` (usando `PyTables`), y bases de datos SQL (usando `SQLAlchemy`).\n",
        "\n",
        "Todos los formatos soportados, así como la documentación de las funciones de I/O se encuentran en:\n",
        "\n",
        "  https://pandas.pydata.org/docs/user_guide/io.html"
      ]
    },
    {
      "cell_type": "markdown",
      "id": "e86337eb-589d-4caf-827f-65573b5945bd",
      "metadata": {
        "id": "e86337eb-589d-4caf-827f-65573b5945bd"
      },
      "source": [
        "### Ejemplo CSV y ficheros de texto\n",
        "\n",
        "Los métodos con formato `csv` sirven para consumir o producir datos desde ficheros de texto plano.\n",
        "\n",
        "El formato que espera por defecto es el de 1 línea por fila y columnas separadas por comas. Sin embargo, se puede modificar usando los númerosos parámetros de las dos funciones de I/O, entre ellos:\n",
        "\n",
        "- `sep`: cadena que separa los valores. Puede ser una expresión regular.\n",
        "- `delim_whitespace`: boolean para usar `\\s+` (es decir, una serie de espacios, tabuladores o saltos de línea) como delimitador (no especificar `sep`).\n",
        "- `header`: número de línea en el fichero de entrada de donde leer las etiquetas de las columnas. Por defecto es `0` (primera línea). Usar `None` para no leerlas del fichero.\n",
        "- `names`: indicar explícitamente las etiquetas de las columnas.\n",
        "- `index_col`: número de columna que identifica las etiquetas de índice (defecto es `None`: no leerlas del fichero)"
      ]
    },
    {
      "cell_type": "code",
      "execution_count": null,
      "id": "68099723-b1d3-487f-90e3-335d64317190",
      "metadata": {
        "id": "68099723-b1d3-487f-90e3-335d64317190"
      },
      "outputs": [],
      "source": [
        "df2"
      ]
    },
    {
      "cell_type": "code",
      "execution_count": null,
      "id": "d8e198c4-610e-48dd-ad1d-70d3572a59e0",
      "metadata": {
        "id": "d8e198c4-610e-48dd-ad1d-70d3572a59e0"
      },
      "outputs": [],
      "source": [
        "fname = '/tmp/df2.csv'\n",
        "df2.to_csv(fname, sep='|')"
      ]
    },
    {
      "cell_type": "code",
      "execution_count": null,
      "id": "0829a3bf-e1d3-4123-a9d2-4e765aa3775d",
      "metadata": {
        "id": "0829a3bf-e1d3-4123-a9d2-4e765aa3775d"
      },
      "outputs": [],
      "source": [
        "!cat /tmp/df2.csv"
      ]
    },
    {
      "cell_type": "code",
      "execution_count": null,
      "id": "112bebbd-ef6d-485f-90c0-ff2e98d3dbda",
      "metadata": {
        "id": "112bebbd-ef6d-485f-90c0-ff2e98d3dbda"
      },
      "outputs": [],
      "source": [
        "df3 = pd.read_csv(fname, sep='|', index_col=0)\n",
        "df3.head()"
      ]
    },
    {
      "cell_type": "markdown",
      "id": "7cb5916e-d73d-4b4f-b5b6-e57bdbed7e62",
      "metadata": {
        "id": "7cb5916e-d73d-4b4f-b5b6-e57bdbed7e62"
      },
      "source": [
        "<div style=\"background-color:powderblue;\">\n",
        "\n",
        "**EJERCICIO 2:**\n",
        "   \n",
        "Construir un DataFrame a partir del fichero existente `data/data_sample.csv`. Observar el resultado. Repetir la operación utilizando los argumentos apropiados (`delim_whitespace`, `comment`, `skiprows`, `use_cols`, `parse_dates`) para obtener un resultado limpio que tenga un índice de tipo `DatetimeIndex`, y solo contenga columnas numéricas."
      ]
    },
    {
      "cell_type": "markdown",
      "id": "61782845-aacc-4e73-bfc8-f06a1d300e4d",
      "metadata": {
        "id": "61782845-aacc-4e73-bfc8-f06a1d300e4d"
      },
      "source": [
        "## Tipos de datos\n",
        "\n",
        "Pandas usa los tipos de NumPy y algunos propios más.\n",
        "\n",
        "Como hemos visto, los objetos Series tienen un  `dtype` como los arrays de NumPy. Si los datos que lo componen no son de tipo homogéneo, entonces el `dtype` de la serie será `object` (tipo genérico).\n",
        "\n",
        "Los DataFrames tiene un `dtype` por columna (que es equivalente a una serie). Se pueden ver con el atributo `dtypes`."
      ]
    },
    {
      "cell_type": "code",
      "execution_count": null,
      "id": "16dd039e-b43e-47c6-8961-095b99139b5e",
      "metadata": {
        "id": "16dd039e-b43e-47c6-8961-095b99139b5e"
      },
      "outputs": [],
      "source": [
        "df = pd.DataFrame([[0, 1, 2], ['a', 10, 11]])\n",
        "display(df)\n",
        "df.dtypes"
      ]
    },
    {
      "cell_type": "markdown",
      "id": "c880dd68-be83-4750-90b2-7289cbbc59ba",
      "metadata": {
        "id": "c880dd68-be83-4750-90b2-7289cbbc59ba"
      },
      "source": [
        "Al construir un DataFrame, el parámetro `dtype` se puede usar para forzar el tipo de las Series."
      ]
    },
    {
      "cell_type": "code",
      "execution_count": null,
      "id": "13068fa3-ebf0-4d15-8f08-78d49c07578e",
      "metadata": {
        "id": "13068fa3-ebf0-4d15-8f08-78d49c07578e"
      },
      "outputs": [],
      "source": [
        "df2 = pd.DataFrame([[0, 1], [10, 11]], dtype=float)\n",
        "display(df2)\n",
        "df2.dtypes"
      ]
    },
    {
      "cell_type": "markdown",
      "id": "f3a9404c-d5d2-461c-9b69-ea6de9b6e29f",
      "metadata": {
        "id": "f3a9404c-d5d2-461c-9b69-ea6de9b6e29f"
      },
      "source": [
        "<br/>\n",
        "\n",
        "O se puede modificar después con el método `astype`."
      ]
    },
    {
      "cell_type": "code",
      "execution_count": null,
      "id": "cd6033d0-f967-45e9-8628-3c52fcd79d58",
      "metadata": {
        "id": "cd6033d0-f967-45e9-8628-3c52fcd79d58"
      },
      "outputs": [],
      "source": [
        "df"
      ]
    },
    {
      "cell_type": "code",
      "execution_count": null,
      "id": "ae9ed48a-31ab-414a-bfbc-c5a8e78b902f",
      "metadata": {
        "id": "ae9ed48a-31ab-414a-bfbc-c5a8e78b902f"
      },
      "outputs": [],
      "source": [
        "df[[1,2]] = df[[1,2]].astype(float)\n",
        "df.dtypes"
      ]
    },
    {
      "cell_type": "markdown",
      "id": "01be753d-39de-499a-8b2b-7e2e6688cda0",
      "metadata": {
        "id": "01be753d-39de-499a-8b2b-7e2e6688cda0"
      },
      "source": [
        "### Datos categóricos\n",
        "El tipo de datos `category` de Pandas corresponda a las variables de datos categóricas en estadística. Estas variables solo pueden tomar un valor de un conjunto finito de posibilidades dado. Ejemplos pueden ser _género_, _nacionalidad_ o _clase social_.\n",
        "\n",
        "Los diferentes valores de una variable categórica pueden admitir orden (según se definan esas categorías), pero no operaciones aritméticas.\n",
        "\n",
        "Además de por alguna razón técnica, la utilidad de las variables categóricas es marcar a rutinas de más alto nivel (quizás de otras librerías) de la naturaleza de estas variables, para que puedan darles un tratamiento adecuado."
      ]
    },
    {
      "cell_type": "markdown",
      "id": "8e89fa58-2b8a-4ca1-b796-b2a55965f573",
      "metadata": {
        "id": "8e89fa58-2b8a-4ca1-b796-b2a55965f573"
      },
      "source": [
        "Se pueden crear Series o columnas de DataFrame categóricos de varias maneras. Por ejemplo, indicando explícitamente su `dtype`, o con `astype`."
      ]
    },
    {
      "cell_type": "code",
      "execution_count": null,
      "id": "5c38dfaf-9ff8-402a-b5bd-07c678d18737",
      "metadata": {
        "id": "5c38dfaf-9ff8-402a-b5bd-07c678d18737"
      },
      "outputs": [],
      "source": [
        "s = pd.Series([\"a\", \"b\", \"c\", \"a\"], dtype=\"category\")\n",
        "s"
      ]
    },
    {
      "cell_type": "code",
      "execution_count": null,
      "id": "9d90534c-2032-42db-b90c-5959934d5a7d",
      "metadata": {
        "id": "9d90534c-2032-42db-b90c-5959934d5a7d"
      },
      "outputs": [],
      "source": [
        "df = pd.DataFrame({\"A\": [\"a\", \"b\"], \"B\": [\"c\", \"a\"]})\n",
        "df"
      ]
    },
    {
      "cell_type": "code",
      "execution_count": null,
      "id": "d36a0453-2f5e-48c4-b4c1-3dc6e6444f27",
      "metadata": {
        "id": "d36a0453-2f5e-48c4-b4c1-3dc6e6444f27"
      },
      "outputs": [],
      "source": [
        "df.dtypes"
      ]
    },
    {
      "cell_type": "code",
      "execution_count": null,
      "id": "3e8e8b69-31b8-4c60-9dec-016b7c791b3a",
      "metadata": {
        "id": "3e8e8b69-31b8-4c60-9dec-016b7c791b3a"
      },
      "outputs": [],
      "source": [
        "df = df.astype(\"category\")\n",
        "df"
      ]
    },
    {
      "cell_type": "code",
      "execution_count": null,
      "id": "553f8093-bcd9-49b0-a214-c7f5374f5001",
      "metadata": {
        "id": "553f8093-bcd9-49b0-a214-c7f5374f5001"
      },
      "outputs": [],
      "source": [
        "df.dtypes"
      ]
    },
    {
      "cell_type": "code",
      "execution_count": null,
      "id": "c5b7bab9-a336-454c-81b5-de601d3131f2",
      "metadata": {
        "id": "c5b7bab9-a336-454c-81b5-de601d3131f2"
      },
      "outputs": [],
      "source": [
        "display(df['A'].dtype)\n",
        "display(df['B'].dtype)"
      ]
    },
    {
      "cell_type": "markdown",
      "id": "6125f63f-8ac2-4bf0-adc9-f36c2c988798",
      "metadata": {
        "id": "6125f63f-8ac2-4bf0-adc9-f36c2c988798"
      },
      "source": [
        "<br/>\n",
        "\n",
        "También pueden producirse como resultado de alguna función de Pandas. Por ejemplo, la función `cut` que divide un conjunto de datos en una serie de _bins_ (histograma)."
      ]
    },
    {
      "cell_type": "code",
      "execution_count": null,
      "id": "37633f08-e43a-4a69-9330-6c3e8b249812",
      "metadata": {
        "id": "37633f08-e43a-4a69-9330-6c3e8b249812"
      },
      "outputs": [],
      "source": [
        "df = pd.DataFrame({\"val\": np.random.randint(0, 100, 20)})\n",
        "df.head()"
      ]
    },
    {
      "cell_type": "code",
      "execution_count": null,
      "id": "9523c86f-39df-4563-9124-91010e4eb7eb",
      "metadata": {
        "id": "9523c86f-39df-4563-9124-91010e4eb7eb"
      },
      "outputs": [],
      "source": [
        "df['bins'] = pd.cut(df.val, range(0, 105, 10))\n",
        "df.head(10)"
      ]
    },
    {
      "cell_type": "code",
      "execution_count": null,
      "id": "98d71233-01c4-4c54-a110-1aa06554eac3",
      "metadata": {
        "id": "98d71233-01c4-4c54-a110-1aa06554eac3"
      },
      "outputs": [],
      "source": [
        "df.bins.dtype"
      ]
    },
    {
      "cell_type": "markdown",
      "id": "99bd4059-c569-4094-b085-1ea40eeff775",
      "metadata": {
        "id": "99bd4059-c569-4094-b085-1ea40eeff775"
      },
      "source": [
        "<br/>\n",
        "\n",
        "Finalmente, para un control total de las categorías (por ejemplo para incluir categorías que no aparecen en los datos), se puede usar un objeto `pd.Categorical` (o el tipo `pd.CategoricalDtype`)."
      ]
    },
    {
      "cell_type": "code",
      "execution_count": null,
      "id": "9ba00081-bbf0-4dfa-89c9-9ed2d9cf0f3e",
      "metadata": {
        "id": "9ba00081-bbf0-4dfa-89c9-9ed2d9cf0f3e"
      },
      "outputs": [],
      "source": [
        "cats = list(\"abcx\")\n",
        "cats"
      ]
    },
    {
      "cell_type": "code",
      "execution_count": null,
      "id": "179c23de-a521-43f5-bfbd-5bd45dbf8444",
      "metadata": {
        "id": "179c23de-a521-43f5-bfbd-5bd45dbf8444"
      },
      "outputs": [],
      "source": [
        "cat1 = pd.Categorical(list(\"abca\"), categories=cats)\n",
        "cat2 = pd.Categorical(list(\"bccd\"), categories=cats)\n",
        "display(cat1)\n",
        "display(cat2)"
      ]
    },
    {
      "cell_type": "code",
      "execution_count": null,
      "id": "f0e299d5-b05c-4054-81ff-f495dfb0c92e",
      "metadata": {
        "id": "f0e299d5-b05c-4054-81ff-f495dfb0c92e"
      },
      "outputs": [],
      "source": [
        "df = pd.DataFrame({\"A\": cat1, \"B\": cat2})\n",
        "display(df)\n",
        "df['A'].dtypes"
      ]
    },
    {
      "cell_type": "code",
      "execution_count": null,
      "id": "46b44cdd-eca3-4e73-868e-a5acfa426b59",
      "metadata": {
        "id": "46b44cdd-eca3-4e73-868e-a5acfa426b59"
      },
      "outputs": [],
      "source": [
        "from pandas.api.types import CategoricalDtype\n",
        "\n",
        "df = pd.DataFrame({\"A\": list(\"abca\"), \"B\": list(\"bccd\")})\n",
        "df"
      ]
    },
    {
      "cell_type": "code",
      "execution_count": null,
      "id": "83be328f-960b-4702-a41f-9d3207de3fb7",
      "metadata": {
        "id": "83be328f-960b-4702-a41f-9d3207de3fb7"
      },
      "outputs": [],
      "source": [
        "df.dtypes"
      ]
    },
    {
      "cell_type": "code",
      "execution_count": null,
      "id": "aa914fff-9ceb-4b36-8411-6a7dadd31726",
      "metadata": {
        "id": "aa914fff-9ceb-4b36-8411-6a7dadd31726"
      },
      "outputs": [],
      "source": [
        "df['B'] = df['B'].astype(CategoricalDtype(categories=list(\"abc\")))\n",
        "display(df)\n",
        "df.dtypes"
      ]
    },
    {
      "cell_type": "code",
      "execution_count": null,
      "id": "9e73637b-5a75-4966-b0e8-a4d5499422b9",
      "metadata": {
        "id": "9e73637b-5a75-4966-b0e8-a4d5499422b9"
      },
      "outputs": [],
      "source": [
        "df['B'] = df['B'].astype(CategoricalDtype(categories=[\"pepe\", \"maria\", \"juan\"]))\n",
        "df"
      ]
    },
    {
      "cell_type": "code",
      "execution_count": null,
      "id": "734e19c2-6ea3-4f83-9379-7f434c966200",
      "metadata": {
        "id": "734e19c2-6ea3-4f83-9379-7f434c966200"
      },
      "outputs": [],
      "source": [
        "df['B'].dtypes"
      ]
    },
    {
      "cell_type": "markdown",
      "id": "dfa15d97-d175-4f2e-9d17-13229ef71329",
      "metadata": {
        "id": "dfa15d97-d175-4f2e-9d17-13229ef71329"
      },
      "source": [
        "<br/>\n",
        "\n",
        "Las columnas o Series categóricas tienen atributos `cat.categories` y `cat.ordered`."
      ]
    },
    {
      "cell_type": "code",
      "execution_count": null,
      "id": "f0ce8f92-0080-48ae-a01b-a518855624fb",
      "metadata": {
        "id": "f0ce8f92-0080-48ae-a01b-a518855624fb"
      },
      "outputs": [],
      "source": [
        "s"
      ]
    },
    {
      "cell_type": "code",
      "execution_count": null,
      "id": "8d4a77f9-8c86-4532-b770-19df5081cfc7",
      "metadata": {
        "id": "8d4a77f9-8c86-4532-b770-19df5081cfc7"
      },
      "outputs": [],
      "source": [
        "print('categories:', s.cat.categories)\n",
        "print('orderd:', s.cat.ordered)"
      ]
    },
    {
      "cell_type": "markdown",
      "id": "1548db46-ec0a-4990-a62e-bad96a24a322",
      "metadata": {
        "id": "1548db46-ec0a-4990-a62e-bad96a24a322"
      },
      "source": [
        "<br/>\n",
        "\n",
        "En el método `read_csv`, visto anteriormente, se pueden capturar columnas categoricas directamente, especificando `dtype='category'`."
      ]
    },
    {
      "cell_type": "markdown",
      "id": "df2c6e35-b7e9-4330-b5a3-eeb5517b6fd2",
      "metadata": {
        "id": "df2c6e35-b7e9-4330-b5a3-eeb5517b6fd2"
      },
      "source": [
        "<div style=\"background-color:powderblue;\">\n",
        "\n",
        "**EJERCICIO 3:**\n",
        "    \n",
        "- Construir un DataFrame a partir del fichero `data/housing.csv`.\n",
        "\n",
        "  - Ver su tamaño en memoria con `df.info`.\n",
        "\n",
        "\n",
        "- Comprobar el valor medio en función de la cercanía al mar con la siguiente instrucción:\n",
        "```python\n",
        "df.groupby('ocean_proximity')['median_house_value'].mean()\n",
        "```\n",
        "<br/>\n",
        "\n",
        "  - Medir la velocidad para la instrucción anterior con `%timeit -n 10`.\n",
        "\n",
        "\n",
        "- A continuación, convertir la columna `ocean_proximity` a tipo categórico. Repetir los pasos anteriores y ver el impacto en memoria y tiempo de ejecución.\n",
        "\n",
        "- Finalmente, refinar el tipo de `ocean_proximity` para que sean categorías ordenadas. El orden será el de la lista `newcats = ['INLAND', '<1H OCEAN', 'NEAR OCEAN', 'NEAR BAY', 'ISLAND']`. Utilizar el método `cat.reorder_categories(newcats, ordered=True)` sobre la columna `ocean_proximity`.\n",
        "\n",
        "  - Comprobar que ahora el resultado de la instrucción `groupby` anterior aparece ordenada de menor a mayor precio valor medio de las casas de cada categoría."
      ]
    },
    {
      "cell_type": "markdown",
      "id": "d1943602-83d9-409d-8295-f2042fbc5669",
      "metadata": {
        "id": "d1943602-83d9-409d-8295-f2042fbc5669"
      },
      "source": [
        "## Manipulación básica de datos"
      ]
    },
    {
      "cell_type": "markdown",
      "id": "c211c173-1f84-4665-a7fe-f37945760c30",
      "metadata": {
        "id": "c211c173-1f84-4665-a7fe-f37945760c30"
      },
      "source": [
        "### Indexado y selección de datos"
      ]
    },
    {
      "cell_type": "markdown",
      "id": "8e75a535-3842-4dc3-84cc-474bf7fb2751",
      "metadata": {
        "id": "8e75a535-3842-4dc3-84cc-474bf7fb2751"
      },
      "source": [
        "#### Series\n",
        "Las Series ofrecen propiedades similares a los _ndarrays_ (selección, filtrado, soporte de operaciones vectoriales), y a los diccionarios (acceso a elementos por índice)."
      ]
    },
    {
      "cell_type": "code",
      "execution_count": null,
      "id": "59ee42ea-603e-430e-aa6d-d7452cb19287",
      "metadata": {
        "id": "59ee42ea-603e-430e-aa6d-d7452cb19287"
      },
      "outputs": [],
      "source": [
        "s = pd.Series({'b': 4, 'a': 9 , 'c': 10})\n",
        "display(s)"
      ]
    },
    {
      "cell_type": "code",
      "execution_count": null,
      "id": "4a9da37c-f73a-4128-89b2-df752be9afb9",
      "metadata": {
        "id": "4a9da37c-f73a-4128-89b2-df752be9afb9"
      },
      "outputs": [],
      "source": [
        "print('\\ns[0]')\n",
        "print(s[0])\n",
        "\n",
        "print('\\ns[:2]')\n",
        "print(s[:2])\n",
        "\n",
        "print('\\ns[\"a\"]')\n",
        "print(s[\"a\"])\n",
        "\n",
        "print('\\ns.b')\n",
        "print(s.b)"
      ]
    },
    {
      "cell_type": "code",
      "execution_count": null,
      "id": "9970baa2-3bcd-411a-a26d-ecfd5b04aabe",
      "metadata": {
        "id": "9970baa2-3bcd-411a-a26d-ecfd5b04aabe"
      },
      "outputs": [],
      "source": [
        "s[s>9]"
      ]
    },
    {
      "cell_type": "markdown",
      "id": "094c26cd-08d5-444c-af5e-e1f2372f260e",
      "metadata": {
        "id": "094c26cd-08d5-444c-af5e-e1f2372f260e"
      },
      "source": [
        "#### Selección básica de DataFrames\n",
        "\n",
        "Los DataFrames ofrecen muchas posibilidades de selección (indexado).\n",
        "\n",
        "Las básicas para columnas son:\n",
        "\n",
        "- Selección de una columna con `df[colName]` o `df.colName`\n",
        "- Selección de varias columnas con `df[[col1, col2...]]`"
      ]
    },
    {
      "cell_type": "code",
      "execution_count": null,
      "id": "d8160e42-d4d4-4666-8c8c-067ad3eae459",
      "metadata": {
        "id": "d8160e42-d4d4-4666-8c8c-067ad3eae459"
      },
      "outputs": [],
      "source": [
        "df = pd.DataFrame([[0,1,2,3], [10,11,12,13], [20,21,22,23]],\n",
        "            index=('r1', 'r2', 'r3'), columns=('c1', 'c2', 'c3', 'c4'))\n",
        "df"
      ]
    },
    {
      "cell_type": "code",
      "execution_count": null,
      "id": "fdd16c06-d182-440a-beba-b8543a57a628",
      "metadata": {
        "id": "fdd16c06-d182-440a-beba-b8543a57a628"
      },
      "outputs": [],
      "source": [
        "df.c1"
      ]
    },
    {
      "cell_type": "markdown",
      "id": "9e0cae27-6eb7-488d-b7e5-6469eae9e695",
      "metadata": {
        "id": "9e0cae27-6eb7-488d-b7e5-6469eae9e695"
      },
      "source": [
        "<br/>\n",
        "\n",
        "Podemos seleccionar varias columnas, pero, **importante**, debemos usar una lista, no una tupla."
      ]
    },
    {
      "cell_type": "code",
      "execution_count": null,
      "id": "d9050f31-3ebd-49f6-8ed7-8001e47ff9f5",
      "metadata": {
        "id": "d9050f31-3ebd-49f6-8ed7-8001e47ff9f5"
      },
      "outputs": [],
      "source": [
        "df[['c1', 'c3']]"
      ]
    },
    {
      "cell_type": "markdown",
      "id": "41c26b4f-6e6a-46eb-93b1-bf619f92c7f9",
      "metadata": {
        "id": "41c26b4f-6e6a-46eb-93b1-bf619f92c7f9"
      },
      "source": [
        "Selección de filas con `df[slice]`, usando posición o etiquetas (en el caso de las etiquetas, los límites son *inclusivos*, mientras que para las posiciones solo el inicio)."
      ]
    },
    {
      "cell_type": "code",
      "execution_count": null,
      "id": "6b0b471c-3a39-4fe2-8233-ede5c7b2d833",
      "metadata": {
        "id": "6b0b471c-3a39-4fe2-8233-ede5c7b2d833"
      },
      "outputs": [],
      "source": [
        "df['r1':'r2']"
      ]
    },
    {
      "cell_type": "code",
      "execution_count": null,
      "id": "c8793b98-6eb3-4d2e-93c4-37f54e34629f",
      "metadata": {
        "id": "c8793b98-6eb3-4d2e-93c4-37f54e34629f"
      },
      "outputs": [],
      "source": [
        "df[1:2]"
      ]
    },
    {
      "cell_type": "markdown",
      "id": "fcc4dce0-0525-41d8-a5ff-8738c8497854",
      "metadata": {
        "id": "fcc4dce0-0525-41d8-a5ff-8738c8497854"
      },
      "source": [
        "#### Selección de filas y columnas por etiquetas\n",
        "Selección de filas y columnas por etiqueta, usando `df.loc`, usando un valor, una lista o un _slice_. Según la selección se devolverá un DataFrame, una Series, o un escalar."
      ]
    },
    {
      "cell_type": "code",
      "execution_count": null,
      "id": "7269a7da-5f49-4b47-bcc3-2920d5d3e07b",
      "metadata": {
        "id": "7269a7da-5f49-4b47-bcc3-2920d5d3e07b"
      },
      "outputs": [],
      "source": [
        "df.loc[['r1', 'r3'], 'c1':'c2']"
      ]
    },
    {
      "cell_type": "code",
      "execution_count": null,
      "id": "f3c85c90-13d8-43ac-b58e-a1d94262906c",
      "metadata": {
        "id": "f3c85c90-13d8-43ac-b58e-a1d94262906c"
      },
      "outputs": [],
      "source": [
        "df.loc['r2', 'c3']"
      ]
    },
    {
      "cell_type": "code",
      "execution_count": null,
      "id": "0641bbd5-8c43-4365-a963-8a397160cc0b",
      "metadata": {
        "id": "0641bbd5-8c43-4365-a963-8a397160cc0b"
      },
      "outputs": [],
      "source": [
        "df.loc[:, 'c2']"
      ]
    },
    {
      "cell_type": "code",
      "execution_count": null,
      "id": "2df5955e-afe4-462a-880e-56052c9a801e",
      "metadata": {
        "id": "2df5955e-afe4-462a-880e-56052c9a801e"
      },
      "outputs": [],
      "source": [
        "df.loc['r2']"
      ]
    },
    {
      "cell_type": "markdown",
      "id": "1df3f35a-9f7a-45b0-903a-005d5a77d503",
      "metadata": {
        "id": "1df3f35a-9f7a-45b0-903a-005d5a77d503"
      },
      "source": [
        "<br/>\n",
        "\n",
        "#### Selección de filas y columnas por posición\n",
        "\n",
        "Se usa el método `df.iloc`, que recibe argumentos como `df.loc`. Los siguientes ejemplos realizan las mismas selecciones vistas antes con `loc` usando ahora `iloc`."
      ]
    },
    {
      "cell_type": "code",
      "execution_count": null,
      "id": "1e339217-59bf-4d7a-ada0-fa2b69f06251",
      "metadata": {
        "id": "1e339217-59bf-4d7a-ada0-fa2b69f06251"
      },
      "outputs": [],
      "source": [
        "df.iloc[[0, 2], 1:3]"
      ]
    },
    {
      "cell_type": "code",
      "execution_count": null,
      "id": "0761ac30-de23-44b4-9766-908fc2a24e7f",
      "metadata": {
        "id": "0761ac30-de23-44b4-9766-908fc2a24e7f"
      },
      "outputs": [],
      "source": [
        "df.iloc[1, 2]"
      ]
    },
    {
      "cell_type": "code",
      "execution_count": null,
      "id": "93d9ea4f-c864-4b76-9f66-2870ab54f10b",
      "metadata": {
        "id": "93d9ea4f-c864-4b76-9f66-2870ab54f10b"
      },
      "outputs": [],
      "source": [
        "df.iloc[:, 1]"
      ]
    },
    {
      "cell_type": "code",
      "execution_count": null,
      "id": "2f734835-7a2d-4729-a6b3-af5746802159",
      "metadata": {
        "id": "2f734835-7a2d-4729-a6b3-af5746802159"
      },
      "outputs": [],
      "source": [
        "df.iloc[1]"
      ]
    },
    {
      "cell_type": "markdown",
      "id": "e466f9c7-cdf7-46fb-8c04-604d7ffe3a66",
      "metadata": {
        "id": "e466f9c7-cdf7-46fb-8c04-604d7ffe3a66"
      },
      "source": [
        "<br/>\n",
        "\n",
        "#### Filtrado por máscaras."
      ]
    },
    {
      "cell_type": "markdown",
      "id": "89e1d94b-c023-4efc-9c10-e5d05c4ac3f3",
      "metadata": {
        "id": "89e1d94b-c023-4efc-9c10-e5d05c4ac3f3"
      },
      "source": [
        "Filtrando elementos de todo el Dataframe"
      ]
    },
    {
      "cell_type": "code",
      "execution_count": null,
      "id": "3c43e38b-faa5-45ac-afbd-312f4c6904fe",
      "metadata": {
        "id": "3c43e38b-faa5-45ac-afbd-312f4c6904fe"
      },
      "outputs": [],
      "source": [
        "df"
      ]
    },
    {
      "cell_type": "code",
      "execution_count": null,
      "id": "6cd0b34f-fc72-4062-8d63-0804f266e709",
      "metadata": {
        "id": "6cd0b34f-fc72-4062-8d63-0804f266e709"
      },
      "outputs": [],
      "source": [
        "df > 3"
      ]
    },
    {
      "cell_type": "code",
      "execution_count": null,
      "id": "41afa4ef-645f-41f3-aedc-9ae374b5f415",
      "metadata": {
        "id": "41afa4ef-645f-41f3-aedc-9ae374b5f415"
      },
      "outputs": [],
      "source": [
        "df[df>3]"
      ]
    },
    {
      "cell_type": "markdown",
      "id": "d3804b51-8427-4707-98ae-663e459b43ef",
      "metadata": {
        "id": "d3804b51-8427-4707-98ae-663e459b43ef"
      },
      "source": [
        "Filtrando filas"
      ]
    },
    {
      "cell_type": "code",
      "execution_count": null,
      "id": "2363bd8f-bfab-4e3c-99aa-e144c8fd6d65",
      "metadata": {
        "id": "2363bd8f-bfab-4e3c-99aa-e144c8fd6d65"
      },
      "outputs": [],
      "source": [
        "row_mask = (df['c1']>3) & (df['c2']<20)\n",
        "row_mask"
      ]
    },
    {
      "cell_type": "code",
      "execution_count": null,
      "id": "6f07e2ce-f312-4bec-b889-8af8f0b0a929",
      "metadata": {
        "id": "6f07e2ce-f312-4bec-b889-8af8f0b0a929"
      },
      "outputs": [],
      "source": [
        "df[row_mask]"
      ]
    },
    {
      "cell_type": "code",
      "execution_count": null,
      "id": "993772a5-95cf-4e90-bf59-d2255dd565bc",
      "metadata": {
        "id": "993772a5-95cf-4e90-bf59-d2255dd565bc"
      },
      "outputs": [],
      "source": [
        "df"
      ]
    },
    {
      "cell_type": "markdown",
      "id": "85ac0f4a-d71e-4fda-a170-23ad6cfeaca3",
      "metadata": {
        "id": "85ac0f4a-d71e-4fda-a170-23ad6cfeaca3"
      },
      "source": [
        "Filtrando columnas"
      ]
    },
    {
      "cell_type": "code",
      "execution_count": null,
      "id": "b42b1852-6e17-4c5e-b59a-7b81d0d25455",
      "metadata": {
        "id": "b42b1852-6e17-4c5e-b59a-7b81d0d25455"
      },
      "outputs": [],
      "source": [
        "col_mask = (df.loc['r1'] > 1) & (df.loc['r2'] < 20)   # df['c1'] , df.c1\n",
        "col_mask"
      ]
    },
    {
      "cell_type": "code",
      "execution_count": null,
      "id": "5dc9d7d5-ce7e-4117-b376-40973d55343a",
      "metadata": {
        "id": "5dc9d7d5-ce7e-4117-b376-40973d55343a"
      },
      "outputs": [],
      "source": [
        "df.loc[:, col_mask]"
      ]
    },
    {
      "cell_type": "markdown",
      "id": "c08927d1-32d9-4af1-8e37-578b78070486",
      "metadata": {
        "id": "c08927d1-32d9-4af1-8e37-578b78070486"
      },
      "source": [
        "Filtrando filas y columnas"
      ]
    },
    {
      "cell_type": "code",
      "execution_count": null,
      "id": "87d3b25e-4452-47af-8674-db9df1237a3a",
      "metadata": {
        "id": "87d3b25e-4452-47af-8674-db9df1237a3a"
      },
      "outputs": [],
      "source": [
        "df.loc[df['c1']>3, 'c1']"
      ]
    },
    {
      "cell_type": "code",
      "execution_count": null,
      "id": "74cdc778-073e-4d79-99b7-fd1e5a50b41d",
      "metadata": {
        "id": "74cdc778-073e-4d79-99b7-fd1e5a50b41d"
      },
      "outputs": [],
      "source": [
        "# Otra manera de hacerlo (2 selecciones encadenadas)\n",
        "df['c1'][df['c1']>3]"
      ]
    },
    {
      "cell_type": "markdown",
      "id": "d7d1adf5-282d-40f6-8e10-7e3a3ec495dd",
      "metadata": {
        "id": "d7d1adf5-282d-40f6-8e10-7e3a3ec495dd"
      },
      "source": [
        "<br/>\n",
        "\n",
        "#### Asignación parcial de valores\n",
        "En general, las selecciones de datos también se pueden usar para asignar nuevos valores. Se recomienda usar `.loc`, con un solo indexado."
      ]
    },
    {
      "cell_type": "code",
      "execution_count": null,
      "id": "2d32bf4b-a1e5-4cd6-9ad6-ed238fc39621",
      "metadata": {
        "id": "2d32bf4b-a1e5-4cd6-9ad6-ed238fc39621"
      },
      "outputs": [],
      "source": [
        "df.loc['r2':'r3', ['c1', 'c3']] = [[900, 901], [902, 903]]\n",
        "df"
      ]
    },
    {
      "cell_type": "code",
      "execution_count": null,
      "id": "9785a7f0-ae02-4409-90bd-3f2fe3ed628c",
      "metadata": {
        "id": "9785a7f0-ae02-4409-90bd-3f2fe3ed628c"
      },
      "outputs": [],
      "source": [
        "df.loc[df['c1']>3, 'c1'] = 999\n",
        "df"
      ]
    },
    {
      "cell_type": "markdown",
      "id": "4acca7b9-2249-4645-9fa4-cdbbf5cd696f",
      "metadata": {
        "id": "4acca7b9-2249-4645-9fa4-cdbbf5cd696f"
      },
      "source": [
        "<br/>\n",
        "<div style=\"background-color:powderblue;\">\n",
        "    \n",
        "**EJERCICIO 4:**\n",
        "Dado el DataFrame `cursos`, intenta realizar las siguientes tares con `[]`, `.loc`, y `.iloc` (no siempre es posible).\n",
        "- Extraer las series `Subject` y `Days`.\n",
        "- Extraer los datos de los dos primeros curso (primeras filas).\n",
        "- Mostrar los cursos que cuesten menos de 22000."
      ]
    },
    {
      "cell_type": "code",
      "execution_count": null,
      "id": "c743da73-66a2-45d4-9770-09aa16fea162",
      "metadata": {
        "id": "c743da73-66a2-45d4-9770-09aa16fea162"
      },
      "outputs": [],
      "source": [
        "cursos = {\n",
        "    'Subject': [\"Spark\", \"Pandas\", \"SQL\"],\n",
        "    'Fee':  [20000, 25000, 10000],\n",
        "    'Days': [10, 15, 7]\n",
        "}\n",
        "cursos = pd.DataFrame(cursos)\n",
        "cursos"
      ]
    },
    {
      "cell_type": "markdown",
      "id": "a5209046-a05f-48c3-bc58-44710aabcf72",
      "metadata": {
        "id": "a5209046-a05f-48c3-bc58-44710aabcf72"
      },
      "source": [
        "### Operaciones vectoriales"
      ]
    },
    {
      "cell_type": "markdown",
      "id": "92b8a9b6-4a26-4991-a9bf-1f182e1db538",
      "metadata": {
        "id": "92b8a9b6-4a26-4991-a9bf-1f182e1db538"
      },
      "source": [
        "#### Operaciones sobre un solo DataFrame\n",
        "Los objetos DataFrame ofrecen operaciones que se aplican sobre sus elementos, y que internamente utilizan operaciones vectoriales NumPy, es decir que ofrecen mejor rendimiento que los bucles en código Python puro.\n",
        "\n",
        "Algunos ejemplos simples:"
      ]
    },
    {
      "cell_type": "code",
      "execution_count": null,
      "id": "74db04bb-f577-482e-a6ed-b625f9cb9d1f",
      "metadata": {
        "id": "74db04bb-f577-482e-a6ed-b625f9cb9d1f"
      },
      "outputs": [],
      "source": [
        "df = pd.DataFrame(np.arange(9).reshape(3,3), index=('r0', 'r1', 'r2'), columns=list('abc'))\n",
        "df"
      ]
    },
    {
      "cell_type": "code",
      "execution_count": null,
      "id": "29c6c20f-a89b-47f4-85bc-1ea4800adf25",
      "metadata": {
        "id": "29c6c20f-a89b-47f4-85bc-1ea4800adf25"
      },
      "outputs": [],
      "source": [
        "df.sum()         # Opera sobre cada una de las columnas"
      ]
    },
    {
      "cell_type": "code",
      "execution_count": null,
      "id": "b7bbed99-c4dc-4b6b-b0c2-0e8671b3c9e9",
      "metadata": {
        "id": "b7bbed99-c4dc-4b6b-b0c2-0e8671b3c9e9"
      },
      "outputs": [],
      "source": [
        "df.sum(axis=1)   # Opera sobre cada una de las filas"
      ]
    },
    {
      "cell_type": "markdown",
      "id": "09d41f37-9323-4012-bd4e-12d224482d93",
      "metadata": {
        "id": "09d41f37-9323-4012-bd4e-12d224482d93"
      },
      "source": [
        "<br/>\n",
        "\n",
        "##### <u>apply</u>\n",
        "De manera genérica, se puede usar el método `df.apply` para aplicar una función sobre las columnas de un DataFrame (o las filas, usando `axis`). Se pueden distinguir dos casos:\n",
        "\n",
        "- Agregación: se utiliza una función que reduzca una Series a un solo valor (se devuelve una Series con los valores agregados). En lugar de `apply`, también podemos usar `aggregate` (o `agg`).\n",
        "\n",
        "- Transformación: la función modifica las Series y las devuelve, sin reducirlas. En lugar de `apply`, también podemos usar `transform`.\n"
      ]
    },
    {
      "cell_type": "code",
      "execution_count": null,
      "id": "a254b461-6227-4e88-873a-1f030911c96f",
      "metadata": {
        "id": "a254b461-6227-4e88-873a-1f030911c96f"
      },
      "outputs": [],
      "source": [
        "df.apply(lambda x: 2*x)   # o df.transform\n",
        "#\n",
        "#\n",
        "# Nota: lo anterior es equivalente a:\n",
        "#\n",
        "#   def myfunc(x): return 2*x\n",
        "#   df.apply(myfunc)\n",
        "#"
      ]
    },
    {
      "cell_type": "code",
      "execution_count": null,
      "id": "fab431c9-e20a-407c-a307-ec23252e38f2",
      "metadata": {
        "id": "fab431c9-e20a-407c-a307-ec23252e38f2"
      },
      "outputs": [],
      "source": [
        "df.apply(np.max)    # o df.agg"
      ]
    },
    {
      "cell_type": "code",
      "execution_count": null,
      "id": "fe63f62c-2fef-450d-9efa-8faf4aabb980",
      "metadata": {
        "id": "fe63f62c-2fef-450d-9efa-8faf4aabb980"
      },
      "outputs": [],
      "source": [
        "# También por filas\n",
        "df.apply('max', axis='columns')"
      ]
    },
    {
      "cell_type": "markdown",
      "id": "80dfc2d3-a290-4a60-9a65-c3aad51725a1",
      "metadata": {
        "id": "80dfc2d3-a290-4a60-9a65-c3aad51725a1"
      },
      "source": [
        "<br/>\n",
        "\n",
        "Se pueden combinar operaciones de maneras más sofisticadas, p. ej.,  usar varias funciones de agregación (se crearán varias columnas para mostrar cada una), o aplicar diferentes funciones según la columna."
      ]
    },
    {
      "cell_type": "code",
      "execution_count": null,
      "id": "00fc2900-0d6d-4ab0-9a64-20448f4b069b",
      "metadata": {
        "id": "00fc2900-0d6d-4ab0-9a64-20448f4b069b"
      },
      "outputs": [],
      "source": [
        "df.apply([\"sum\", \"mean\"], axis=1)  # o df.agg"
      ]
    },
    {
      "cell_type": "code",
      "execution_count": null,
      "id": "592c81d5-26ed-415a-b5b4-ff3d7bb5e484",
      "metadata": {
        "id": "592c81d5-26ed-415a-b5b4-ff3d7bb5e484"
      },
      "outputs": [],
      "source": [
        "funcs = {'a': lambda x: x+1, 'b': np.exp, 'c': np.abs}\n",
        "df.apply(funcs)   # o df.transform"
      ]
    },
    {
      "cell_type": "markdown",
      "id": "3f64a4dd-60a8-4bac-8e77-b06ecb5f5806",
      "metadata": {
        "id": "3f64a4dd-60a8-4bac-8e77-b06ecb5f5806"
      },
      "source": [
        "<br/>\n",
        "\n",
        "##### <u>applymap</u>\n",
        "La función `map` (para Series) o `applymap` (para DataFrames) pueden usarse para operaciones que deben aplicarse elemento a elemento (en lugar de tomando como argumento filas o columnas enteras)."
      ]
    },
    {
      "cell_type": "code",
      "execution_count": null,
      "id": "30bc5599-da9e-435b-8300-d4277ec41a36",
      "metadata": {
        "id": "30bc5599-da9e-435b-8300-d4277ec41a36"
      },
      "outputs": [],
      "source": [
        "def elemfunc(x):\n",
        "    return f'val={x}'\n",
        "\n",
        "df.applymap(elemfunc)"
      ]
    },
    {
      "cell_type": "markdown",
      "id": "a4d17dd7-c209-4c9d-88f8-23063cc85023",
      "metadata": {
        "id": "a4d17dd7-c209-4c9d-88f8-23063cc85023"
      },
      "source": [
        "Además de lo dicho anteriormente, muchas de las funciones de NumPy que operan elemento a elemento se pueden aplicar directamente sobre DataFrames"
      ]
    },
    {
      "cell_type": "code",
      "execution_count": null,
      "id": "34f1b4a8-fd2c-486f-97c3-f0ed41d89563",
      "metadata": {
        "id": "34f1b4a8-fd2c-486f-97c3-f0ed41d89563"
      },
      "outputs": [],
      "source": [
        "np.exp(df)"
      ]
    },
    {
      "cell_type": "markdown",
      "id": "d292f3b9-c87a-4eef-9f0c-2012d2d00f60",
      "metadata": {
        "id": "d292f3b9-c87a-4eef-9f0c-2012d2d00f60"
      },
      "source": [
        "<br/>\n",
        "<div style=\"background-color:powderblue;\">\n",
        "    \n",
        "**EJERCICIO 5:**\n",
        "Dado el DataFrame `cursos` del ejercicio `4`, usa `apply` para crear una columna nueva `Accepted`, de tipo boolean, cuyo valor sea `'Yes'` si el curso cuesta menos de 22000, y `'No'` si cuesta más."
      ]
    },
    {
      "cell_type": "code",
      "execution_count": null,
      "id": "e4fef22b-3e09-4027-a3c9-58723e94a17b",
      "metadata": {
        "id": "e4fef22b-3e09-4027-a3c9-58723e94a17b"
      },
      "outputs": [],
      "source": [
        "cursos"
      ]
    },
    {
      "cell_type": "code",
      "source": [
        "cursos = pd.DataFrame(cursos)\n",
        "\n",
        "# Crear nueva columna 'Accepted' con .apply()\n",
        "cursos['Accepted'] = cursos['Fee'].apply(lambda x: 'Yes' if x < 22000 else 'No')\n",
        "\n",
        "# Mostrar resultado\n",
        "print(cursos)"
      ],
      "metadata": {
        "id": "AenioyGThpqi"
      },
      "id": "AenioyGThpqi",
      "execution_count": null,
      "outputs": []
    },
    {
      "cell_type": "markdown",
      "id": "f2a5336a-0375-4959-ad33-afa8657d02fd",
      "metadata": {
        "id": "f2a5336a-0375-4959-ad33-afa8657d02fd"
      },
      "source": [
        "#### Operaciones con más de un argumento\n",
        "Las operaciones vectoriales entre dos Series son análogas a las vistas con ndarrays, con la diferencia de que con los arrays los elementos de los operandos se emparejan por su posición (se _alinean_), mientras que en las Series se alinean por el valor de su índice. Cuando un índice no tiene correspondencia para operar, el valor asociado es `NaN`."
      ]
    },
    {
      "cell_type": "code",
      "execution_count": null,
      "id": "03f40a24-448a-4658-bebb-c4b575436b2e",
      "metadata": {
        "id": "03f40a24-448a-4658-bebb-c4b575436b2e"
      },
      "outputs": [],
      "source": [
        "s1 = pd.Series({'pedro': 10, 'juan': 3})\n",
        "s2 = pd.Series({'carmen': 8, 'pedro': 5})\n",
        "display(s1)\n",
        "print()\n",
        "display(s2)"
      ]
    },
    {
      "cell_type": "code",
      "execution_count": null,
      "id": "4c1d7430-a703-4bd6-9965-2b9c0a47d396",
      "metadata": {
        "id": "4c1d7430-a703-4bd6-9965-2b9c0a47d396"
      },
      "outputs": [],
      "source": [
        "s1 + s2"
      ]
    },
    {
      "cell_type": "markdown",
      "id": "fc9abd9d-9149-4d13-9d8a-08c43075846e",
      "metadata": {
        "id": "fc9abd9d-9149-4d13-9d8a-08c43075846e"
      },
      "source": [
        "<br/>\n",
        "\n",
        "Las operaciones entre dos DataFrames también se alinean, tanto en índice como en columnas, completando con `NaN` las posiciones que no coinciden."
      ]
    },
    {
      "cell_type": "code",
      "execution_count": null,
      "id": "5b107669-25c0-451f-935c-08453617f8c1",
      "metadata": {
        "id": "5b107669-25c0-451f-935c-08453617f8c1"
      },
      "outputs": [],
      "source": [
        "df1 = pd.DataFrame([[2, 2], [2, 2]], index=['r1', 'r2'], columns=['c1', 'c2'])\n",
        "df2 = pd.DataFrame([[5, 5, 5], [4, 4, 4]], index=['r3', 'r1'], columns=['c1', 'c2', 'c3'])"
      ]
    },
    {
      "cell_type": "code",
      "execution_count": null,
      "id": "aed81f25-fa3c-4668-846f-6e5aa0514cce",
      "metadata": {
        "id": "aed81f25-fa3c-4668-846f-6e5aa0514cce"
      },
      "outputs": [],
      "source": [
        "df1"
      ]
    },
    {
      "cell_type": "code",
      "execution_count": null,
      "id": "61a65c7c-3d26-4a83-8534-de3138427097",
      "metadata": {
        "id": "61a65c7c-3d26-4a83-8534-de3138427097"
      },
      "outputs": [],
      "source": [
        "df2"
      ]
    },
    {
      "cell_type": "code",
      "execution_count": null,
      "id": "a64a2297-ca7c-4eee-8065-aea6318eda76",
      "metadata": {
        "id": "a64a2297-ca7c-4eee-8065-aea6318eda76"
      },
      "outputs": [],
      "source": [
        "df1*df2"
      ]
    },
    {
      "cell_type": "markdown",
      "id": "7e460b42-f683-4ec8-bb0b-267d3ef71dfc",
      "metadata": {
        "id": "7e460b42-f683-4ec8-bb0b-267d3ef71dfc"
      },
      "source": [
        "Sin embargo, si se usa un método de DataFrame (en lugar del operador con el signo matemático), normalmente se puede indicar un valor de relleno para reemplazar los `NaN` (salvo si ocurren en los dos operandos)."
      ]
    },
    {
      "cell_type": "code",
      "execution_count": null,
      "id": "3915bffc-04ae-46c3-9d8f-0242d1eb72fd",
      "metadata": {
        "id": "3915bffc-04ae-46c3-9d8f-0242d1eb72fd"
      },
      "outputs": [],
      "source": [
        "df1.multiply(df2, fill_value=1)"
      ]
    },
    {
      "cell_type": "markdown",
      "id": "a2f5326a-bef6-45a5-ab31-692eed4571d3",
      "metadata": {
        "id": "a2f5326a-bef6-45a5-ab31-692eed4571d3"
      },
      "source": [
        "En operaciones de un DataFrame con un escalar, Pandas realiza automáticamente un _broadcasting_ de los datos para extender el alcance a todo el DataFrame."
      ]
    },
    {
      "cell_type": "code",
      "execution_count": null,
      "id": "1a014417-3da0-451e-821c-a06990b5fb9a",
      "metadata": {
        "id": "1a014417-3da0-451e-821c-a06990b5fb9a"
      },
      "outputs": [],
      "source": [
        "display(df2)\n",
        "df2 / 2"
      ]
    },
    {
      "cell_type": "markdown",
      "id": "0d86994c-b02e-4912-a8cb-927d2dbc3a47",
      "metadata": {
        "id": "0d86994c-b02e-4912-a8cb-927d2dbc3a47"
      },
      "source": [
        "En el caso de operación de un DataFrame con una Series, el _broadcasting_ extiende la misma Series a cada una de las _filas_ del DataFrame, alineando el índice de la Series con las columnas del DataFrame."
      ]
    },
    {
      "cell_type": "code",
      "execution_count": null,
      "id": "8dabcafa-08b1-491b-9e1c-043e2375c3c3",
      "metadata": {
        "id": "8dabcafa-08b1-491b-9e1c-043e2375c3c3"
      },
      "outputs": [],
      "source": [
        "df2"
      ]
    },
    {
      "cell_type": "code",
      "execution_count": null,
      "id": "5105799b-b176-4369-9b7a-f891ff84532f",
      "metadata": {
        "id": "5105799b-b176-4369-9b7a-f891ff84532f"
      },
      "outputs": [],
      "source": [
        "s = pd.Series([1, 10], index=['c1', 'c3'])\n",
        "s"
      ]
    },
    {
      "cell_type": "code",
      "execution_count": null,
      "id": "633f3215-08f7-4545-9e1d-e48d5922cd98",
      "metadata": {
        "id": "633f3215-08f7-4545-9e1d-e48d5922cd98"
      },
      "outputs": [],
      "source": [
        "df2 + s"
      ]
    },
    {
      "cell_type": "markdown",
      "id": "9e127ed6-4ca8-49db-80fc-d6f362b1e2e7",
      "metadata": {
        "id": "9e127ed6-4ca8-49db-80fc-d6f362b1e2e7"
      },
      "source": [
        "También podemos operar contra las columnas, usando el parámetro `axis`."
      ]
    },
    {
      "cell_type": "code",
      "execution_count": null,
      "id": "f7a947c4-4629-4bf7-afea-6ea09483fa2f",
      "metadata": {
        "id": "f7a947c4-4629-4bf7-afea-6ea09483fa2f"
      },
      "outputs": [],
      "source": [
        "s = pd.Series([1, 10], index=['r1', 'r3'])\n",
        "df2.add(s, axis='rows')"
      ]
    },
    {
      "cell_type": "markdown",
      "id": "cff95655-88d5-4c3f-8b7e-faef58f0bd99",
      "metadata": {
        "id": "cff95655-88d5-4c3f-8b7e-faef58f0bd99"
      },
      "source": [
        "<div style=\"background-color:powderblue;\">\n",
        "\n",
        "**EJERCICIO 6:**\n",
        "    \n",
        "Cargar de nuevo los datos del fichero `data/housing.csv`.\n",
        "    \n",
        "Contar cuántas filas cumplen que el ratio de `total_rooms/households` es mayor de 8.\n",
        "    \n",
        "Seleccionar la primera mitad de las filas en el DataFrame, y, de ellas, las que cumplan la condición de ratio indicada. Crear un nuevo DataFrame que contenga solamente `longitude`, `latitude` y una nuevo columna con el ratio (`total_rooms/households`)."
      ]
    }
  ],
  "metadata": {
    "kernelspec": {
      "display_name": "Python 3",
      "language": "python",
      "name": "python3"
    },
    "language_info": {
      "codemirror_mode": {
        "name": "ipython",
        "version": 3
      },
      "file_extension": ".py",
      "mimetype": "text/x-python",
      "name": "python",
      "nbconvert_exporter": "python",
      "pygments_lexer": "ipython3",
      "version": "3.6.8"
    },
    "toc-showcode": false,
    "toc-showmarkdowntxt": false,
    "toc-showtags": false,
    "colab": {
      "provenance": []
    }
  },
  "nbformat": 4,
  "nbformat_minor": 5
}