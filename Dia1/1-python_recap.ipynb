{
  "cells": [
    {
      "cell_type": "markdown",
      "id": "0673bb07-d5ad-4917-aa83-9a0f6a674e5f",
      "metadata": {
        "id": "0673bb07-d5ad-4917-aa83-9a0f6a674e5f"
      },
      "source": [
        "<font size=6>\n",
        "\n",
        "<b>Taller de Análisis de Datos</b>\n",
        "</font>\n",
        "\n",
        "<font size=4>\n",
        "    \n",
        "InpsiraSTEM 2025 <br/>\n",
        "23 de Julio de 2025\n",
        "\n",
        "</font>\n",
        "\n",
        "https://github.com/michaelsanchez2025/inspirastem2025-data-analises/\n",
        "\n",
        "<br/>"
      ]
    },
    {
      "cell_type": "markdown",
      "id": "d4db444d-423b-4612-bea9-45820dae9dce",
      "metadata": {
        "id": "d4db444d-423b-4612-bea9-45820dae9dce"
      },
      "source": [
        "# Programación en Python"
      ]
    },
    {
      "cell_type": "markdown",
      "id": "668633b6-15e5-42f4-bddc-535672200859",
      "metadata": {
        "id": "668633b6-15e5-42f4-bddc-535672200859"
      },
      "source": [
        "## Objetivos\n",
        "\n",
        "- Repasar los conceptos fundamentales del lenguaje Python.\n",
        "- Hacer énfasis en las estructuras y funcionalidades más útiles en general."
      ]
    },
    {
      "cell_type": "markdown",
      "id": "98454bd7-250e-43eb-9f5c-7c9d73d725df",
      "metadata": {
        "id": "98454bd7-250e-43eb-9f5c-7c9d73d725df"
      },
      "source": [
        "## Referencia\n",
        "\n",
        "https://github.com/andelpe/curso-intro-python"
      ]
    },
    {
      "cell_type": "markdown",
      "id": "bfbee43d-b025-4cb9-b3b5-0c498b5d65c3",
      "metadata": {
        "id": "bfbee43d-b025-4cb9-b3b5-0c498b5d65c3"
      },
      "source": [
        "## Objetos de datos y atributos\n",
        "\n",
        "En python cualquier _dato_ (o _valor_) es un objeto:    \n",
        "- Números, listas, funciones, clases...\n",
        "\n",
        "Los objetos tienen atributos (miembros):\n",
        "- **Datos**: Información útil para el objeto\n",
        "- **Métodos** (funciones): Operaciones sobre el propio objeto\n",
        "\n",
        "![objeto](https://github.com/michaelsanchez2025/inspirastem2025-data-analises/blob/main/images/t2_objeto.png?raw=1)\n",
        "\n",
        "Los atributos son accesibles con la notación `objeto.atributo`"
      ]
    },
    {
      "cell_type": "markdown",
      "id": "55d0449c-052b-46ca-9cb3-2877bd7df111",
      "metadata": {
        "id": "55d0449c-052b-46ca-9cb3-2877bd7df111"
      },
      "source": [
        "Podemos inspeccionar los atributos de un objeto de varias maneras:\n",
        "- Funciones de introspección: `dir`, `help`\n",
        "- Ayudas del interpréte/IDE/entorno: `TAB`, `SHIFT+TAB`, `magic ?`\n",
        "- Documentación"
      ]
    },
    {
      "cell_type": "markdown",
      "id": "14563782-440e-436e-92b7-b831dc513307",
      "metadata": {
        "id": "14563782-440e-436e-92b7-b831dc513307"
      },
      "source": [
        "### Tipos y variables\n",
        "\n",
        "Todo objeto de datos tiene un tipo asociado.\n",
        "- En general, no hay conversión de tipos automático (solo en casos concretos).\n",
        "- Los operadores varían de función según el tipo de datos sobre el que actúan."
      ]
    },
    {
      "cell_type": "markdown",
      "id": "b734f258-5624-4fa0-928c-d14b5dbec1c6",
      "metadata": {
        "id": "b734f258-5624-4fa0-928c-d14b5dbec1c6"
      },
      "source": [
        "Una variable _referencia_ un objeto de datos\n",
        "- Cuando se usa una variable, se usa el objeto referenciado\n",
        "- Las variables NO tienen un tipo asociado\n",
        "  - No se declaran (no se les asigna un tipo)\n",
        "  - _Parecen_ tener el tipo del objeto al que referencian"
      ]
    },
    {
      "cell_type": "code",
      "execution_count": 5,
      "id": "668398fe-4f88-4d4a-84d1-fea1ff9ed8bb",
      "metadata": {
        "tags": [],
        "id": "668398fe-4f88-4d4a-84d1-fea1ff9ed8bb",
        "colab": {
          "base_uri": "https://localhost:8080/",
          "height": 251
        },
        "outputId": "afedea4e-af09-4b18-ff71-040ab8898ca1"
      },
      "outputs": [
        {
          "output_type": "stream",
          "name": "stdout",
          "text": [
            "Tipo de  3  <class 'int'>\n",
            "Tipo de 'a' <class 'str'>\n",
            "6\n",
            "33\n"
          ]
        },
        {
          "output_type": "error",
          "ename": "TypeError",
          "evalue": "unsupported operand type(s) for +: 'int' and 'str'",
          "traceback": [
            "\u001b[0;31m---------------------------------------------------------------------------\u001b[0m",
            "\u001b[0;31mTypeError\u001b[0m                                 Traceback (most recent call last)",
            "\u001b[0;32m/tmp/ipython-input-5-1659397580.py\u001b[0m in \u001b[0;36m<cell line: 0>\u001b[0;34m()\u001b[0m\n\u001b[1;32m      4\u001b[0m \u001b[0mprint\u001b[0m\u001b[0;34m(\u001b[0m\u001b[0;36m3\u001b[0m \u001b[0;34m+\u001b[0m \u001b[0mint\u001b[0m\u001b[0;34m(\u001b[0m\u001b[0ma\u001b[0m\u001b[0;34m)\u001b[0m\u001b[0;34m)\u001b[0m\u001b[0;34m\u001b[0m\u001b[0;34m\u001b[0m\u001b[0m\n\u001b[1;32m      5\u001b[0m \u001b[0mprint\u001b[0m\u001b[0;34m(\u001b[0m\u001b[0mstr\u001b[0m\u001b[0;34m(\u001b[0m\u001b[0;36m3\u001b[0m\u001b[0;34m)\u001b[0m \u001b[0;34m+\u001b[0m \u001b[0ma\u001b[0m\u001b[0;34m)\u001b[0m\u001b[0;34m\u001b[0m\u001b[0;34m\u001b[0m\u001b[0m\n\u001b[0;32m----> 6\u001b[0;31m \u001b[0mprint\u001b[0m\u001b[0;34m(\u001b[0m\u001b[0;36m3\u001b[0m \u001b[0;34m+\u001b[0m \u001b[0ma\u001b[0m\u001b[0;34m)\u001b[0m\u001b[0;34m\u001b[0m\u001b[0;34m\u001b[0m\u001b[0m\n\u001b[0m",
            "\u001b[0;31mTypeError\u001b[0m: unsupported operand type(s) for +: 'int' and 'str'"
          ]
        }
      ],
      "source": [
        "a = '3'\n",
        "print(\"Tipo de  3 \", type(3))\n",
        "print(\"Tipo de 'a'\", type(a))\n",
        "print(3 + int(a))\n",
        "print(str(3) + a)\n",
        "print(3 + a)"
      ]
    },
    {
      "cell_type": "markdown",
      "id": "be13f073-3cb6-472c-b113-15c5deb12af3",
      "metadata": {
        "tags": [],
        "id": "be13f073-3cb6-472c-b113-15c5deb12af3"
      },
      "source": [
        "### Tipos de datos incorporados (_built-in_)\n",
        "\n",
        "Son tipos de datos disponibles de inicio\n",
        "\n",
        "- Suelen ser más eficientes que los definidos por los usuarios\n",
        "- Extensibles (por nuevas _clases_)\n",
        "\n",
        "Estos tipos son (entre otros):\n",
        "\n",
        "- Números: `int`, `float`, `complex`\n",
        "\n",
        "  - Algunos _especiales_: `float('nan')`, `float('inf')`, `float('-inf')`\n",
        "\n",
        "\n",
        "- Booleans: `False`, `True`\n",
        "\n",
        "  - Evaluación de una comparación o expresión lógica, o un objeto Python: `if X: print(...)`\n",
        "  - Todos los objetos se evalúan a `True` excepto `False`, `None`, `0`, secuencias vacías...\n",
        "\n",
        "\n",
        "- Nulo: `None`\n",
        "\n",
        "- Strings (`str`): `\"abcdef\"`\n",
        "\n",
        "  - Cadenas (iterables) _inmutables_ de caracteres\n",
        "  - La manera recomendad de incluir variables y formatos son las _fstrings_: `f\"...\"`\n",
        "\n",
        "```python\n",
        "    a, b = 1, 3\n",
        "    print('a es', a, ' b es', b, ' y su cociente es', a/b)\n",
        "    print(f'a es {a}, b es {b}, y su cociente es {a/b:.2f}')\n",
        "```\n",
        "```\n",
        "    a es 1  b es 3  y su cociente es 0.3333333333333333\n",
        "    a es 1, b es 3, y su cociente es 0.33\n",
        "```\n",
        "\n",
        "- Ficheros:\n",
        "\n",
        "  - Objetos de tipo `file` devueltos por la función `open`\n",
        "  - Soportan operaciones con _strings_: `read, readline, readlines, write`\n",
        "  - Para manejar otros tipos de datos es conveniente usar `json`, `yaml`, `pickle` o similares\n",
        "  \n",
        "    - `json` y `yaml` son estándares, y pueden incluir números, strings, listas y diccionarios\n",
        "    - `pickle` es exclusivo de Python, puede almacenar cualquier objeto (p.ej. de usuario), ¡incluido código!\n",
        "  \n",
        "```python\n",
        "    with open('myfile.txt') as f:\n",
        "        for line in f:\n",
        "            print(line.strip())\n",
        "\n",
        "    with open('myfile.txt', 'w') as f:\n",
        "        json.dump(mydict)\n",
        "```\n",
        "\n",
        "\n",
        "- Otros: secuencias, diccionarios, ficheros, clases, módulos, funciones, tipos..."
      ]
    },
    {
      "cell_type": "markdown",
      "id": "9875406f-52df-4b7d-8a8a-814a438eeec4",
      "metadata": {
        "id": "9875406f-52df-4b7d-8a8a-814a438eeec4"
      },
      "source": [
        "### Referencias compartidas\n",
        "\n",
        "Es importante distinguir entre variables y objetos"
      ]
    },
    {
      "cell_type": "code",
      "execution_count": 6,
      "id": "829b1b3c-232b-4f08-a8b0-fa37fa12eed3",
      "metadata": {
        "id": "829b1b3c-232b-4f08-a8b0-fa37fa12eed3"
      },
      "outputs": [],
      "source": [
        "a = [0, 1]  # Objeto lista, con dos elementos 0 y 1\n",
        "b = a       # La variable 'b' apunta al objeto apuntado por 'a'"
      ]
    },
    {
      "cell_type": "markdown",
      "id": "447250f9-42f5-4bc3-92d3-5f288a77ada9",
      "metadata": {
        "id": "447250f9-42f5-4bc3-92d3-5f288a77ada9"
      },
      "source": [
        "![t2_refs_1](https://github.com/michaelsanchez2025/inspirastem2025-data-analises/blob/main/images/t2_refs_1.png?raw=1)\n",
        "\n",
        "Podemos usar los operadores `==` y `is`:\n",
        "- `==`: Compara el _valor_ de los operandos\n",
        "- `is`: Compara la _identidad_, es decir, si los dos operandos son el mismo objeto en memoria"
      ]
    },
    {
      "cell_type": "code",
      "execution_count": 7,
      "id": "44442c80-843c-40d6-af7f-ed316bcd454e",
      "metadata": {
        "id": "44442c80-843c-40d6-af7f-ed316bcd454e",
        "colab": {
          "base_uri": "https://localhost:8080/"
        },
        "outputId": "d08f0a90-31ef-46dc-de8f-ab7813dc8543"
      },
      "outputs": [
        {
          "output_type": "stream",
          "name": "stdout",
          "text": [
            "True True\n"
          ]
        }
      ],
      "source": [
        "print(a == b, a is b)"
      ]
    },
    {
      "cell_type": "code",
      "execution_count": 8,
      "id": "f6c84940-6e58-4112-9033-07bc9858ef8a",
      "metadata": {
        "id": "f6c84940-6e58-4112-9033-07bc9858ef8a"
      },
      "outputs": [],
      "source": [
        "b[0] = 5  # Modificamos un elemento de 'b'"
      ]
    },
    {
      "cell_type": "markdown",
      "id": "9d7cecfb-3793-4faa-beec-ab71ded608b3",
      "metadata": {
        "id": "9d7cecfb-3793-4faa-beec-ab71ded608b3"
      },
      "source": [
        "![t2_refs_2](https://github.com/michaelsanchez2025/inspirastem2025-data-analises/blob/main/images/t2_refs_2.png?raw=1)\n"
      ]
    },
    {
      "cell_type": "code",
      "execution_count": 9,
      "id": "31a7d420-d8dd-4421-b7c6-6f919cc973ef",
      "metadata": {
        "id": "31a7d420-d8dd-4421-b7c6-6f919cc973ef",
        "colab": {
          "base_uri": "https://localhost:8080/"
        },
        "outputId": "b0ba53ca-076e-47b9-b8b0-704e38baf00d"
      },
      "outputs": [
        {
          "output_type": "stream",
          "name": "stdout",
          "text": [
            "True True\n",
            "[5, 1]\n"
          ]
        }
      ],
      "source": [
        "print(a == b,  a is b)\n",
        "print(a)"
      ]
    },
    {
      "cell_type": "code",
      "execution_count": 10,
      "id": "8ebdf6d0-0940-49b2-ae36-5bbc36d27e12",
      "metadata": {
        "id": "8ebdf6d0-0940-49b2-ae36-5bbc36d27e12"
      },
      "outputs": [],
      "source": [
        "b = [5, 1] # Asignamos otro objeto a la variable 'b'"
      ]
    },
    {
      "cell_type": "markdown",
      "id": "4caaf12d-8e42-4f35-a3d3-bc622d342943",
      "metadata": {
        "id": "4caaf12d-8e42-4f35-a3d3-bc622d342943"
      },
      "source": [
        "![t2_refs_3](https://github.com/michaelsanchez2025/inspirastem2025-data-analises/blob/main/images/t2_refs_3.png?raw=1)\n"
      ]
    },
    {
      "cell_type": "code",
      "execution_count": 11,
      "id": "c062e73a-52b4-46dd-a26e-c632aa169852",
      "metadata": {
        "id": "c062e73a-52b4-46dd-a26e-c632aa169852",
        "colab": {
          "base_uri": "https://localhost:8080/"
        },
        "outputId": "2669cf38-f758-45e4-f436-b418b45777f6"
      },
      "outputs": [
        {
          "output_type": "stream",
          "name": "stdout",
          "text": [
            "True False\n",
            "138412719289920\n",
            "138412305198976\n"
          ]
        }
      ],
      "source": [
        "print(a == b,  a is b)\n",
        "print(id(a))\n",
        "print(id(b))"
      ]
    },
    {
      "cell_type": "markdown",
      "id": "38753eca-5b76-433b-b0eb-b113bc904063",
      "metadata": {
        "id": "38753eca-5b76-433b-b0eb-b113bc904063"
      },
      "source": [
        "### Gestión de memoria\n",
        "\n",
        "La gestión de memoria es realizada por python automáticamente\n",
        "- Menos eficiente, pero mucho más sencillo y menos propenso a errores que los sistemas de gestión explícita\n",
        "\n",
        "Cuando el número de referencias a un objeto llega a 0, el objeto es eliminado\n",
        "- Las referencias pueden eliminarse por _scope_ (dejan de ser _visibles_)...\n",
        "- ... o con la instrucción `del` (infrecuente)"
      ]
    },
    {
      "cell_type": "markdown",
      "id": "0ead84aa-f82c-437b-89dc-c25b63d75951",
      "metadata": {
        "id": "0ead84aa-f82c-437b-89dc-c25b63d75951"
      },
      "source": [
        "## Expresiones y sentencias\n",
        "\n",
        "Una _expresión_ es una porción de código que se evalúa a un valor.\n",
        "\n",
        "Una _sentencia_ es una instrucción que python puede interpretar (ejecutar)"
      ]
    },
    {
      "cell_type": "markdown",
      "id": "e0bec3df-bb61-4da1-b8b1-740db10e5540",
      "metadata": {
        "id": "e0bec3df-bb61-4da1-b8b1-740db10e5540"
      },
      "source": [
        "### Algunas sentencias en Python\n",
        "\n",
        "- **Asignación**: `variable = expresión`\n",
        "\n",
        "  - Enlaza (_bind_) una variable con un valor\n",
        "  - Para objetos modificables, también sirve para alterar su contenido (p.ej. `milista[2] = 5`)\n",
        "\n",
        "\n",
        "- **Condicional IF**: Control de flujo\n",
        "```python\n",
        "      if <condicion>:\n",
        "          ...\n",
        "      elif <otra condicion>:\n",
        "          ...  \n",
        "      else:\n",
        "          ...      \n",
        "```\n",
        "- **Bucles**:\n",
        "\n",
        "  - **FOR**: Itera recorriendo los elementos de un _iterable_  \n",
        "  \n",
        "  ```python\n",
        "  \n",
        "      for <variable> in <iterable>:\n",
        "        ...\n",
        "        \n",
        "  ```\n",
        "  \n",
        "  - **WHILE**: Itera en base a una condición\n",
        "  \n",
        "  ```python\n",
        "  \n",
        "      while <condicion-es-True>:\n",
        "        ...   \n",
        "        \n",
        "  ```\n",
        "  \n",
        "  - **BREAK** y **CONTINUE**: Alteran la ejecución normal de un bucle\n",
        "  \n",
        "    - `break` provoca que acabe el bucle actual, y se pase a la instrucción que sigue al bucle.\n",
        "\n",
        "    - `continue` salta a la siguiente iteración, sin ejecutar las instrucciones que faltan de la  actual."
      ]
    },
    {
      "cell_type": "markdown",
      "id": "d13ce526-ce65-4c8f-a86f-6990eb140925",
      "metadata": {
        "tags": [],
        "id": "d13ce526-ce65-4c8f-a86f-6990eb140925"
      },
      "source": [
        "## Iterables, secuencias y diccionarios"
      ]
    },
    {
      "cell_type": "markdown",
      "id": "0a18f26b-046d-4578-845d-771e181d54d9",
      "metadata": {
        "tags": [],
        "id": "0a18f26b-046d-4578-845d-771e181d54d9"
      },
      "source": [
        "### Iterables\n",
        "\n",
        "Un _iterable_ en Python es un objeto que puede recorrerse elemento a elemento.\n",
        "\n",
        "- Ejemplos de iterables son las secuencias (listas, tuplas, etc.), pero también los diccionarios, y otros.\n",
        "- Muchas funciones o operadores son capaces de actuar sobre un iterable, no importa qué otras características tenga (p.ej. `len`)\n",
        "- Nota: una función _generador_ es similar a un iterable, en cuanto a que va ofreciendo elementos uno a uno, pero de forma _perezosa_ (solo produce los elementos conforme se van pidiendo)."
      ]
    },
    {
      "cell_type": "markdown",
      "id": "e5aa99ec-e64c-4b04-a2bf-cbfce60e3aa7",
      "metadata": {
        "id": "e5aa99ec-e64c-4b04-a2bf-cbfce60e3aa7"
      },
      "source": [
        "### Secuencias\n",
        "\n",
        "Las secuencias son contenedores de elementos, iterables.\n",
        "\n",
        "- _Listas_ (mutables) y _tuplas_ (inmutables): cualquier tipo de elementos, ordenadas, y con repetición.\n",
        "\n",
        "```python\n",
        "t = ('a', 'b', 'c')    #  t = 'a', 'b', 'c'\n",
        "l = ['a', 'b', 'c']\n",
        "l[1] = 'x'\n",
        "l[ini:end:step]\n",
        "if 'j' in l...\n",
        "l.append('d')\n",
        "l + l + l    # l*3\n",
        "```\n",
        "\n",
        "- _Ranges_: inmutables, ordenadas, solo enteros, de evaluación perezosa:\n",
        "\n",
        "```python\n",
        "for val in range(5):  print(val)\n",
        "```\n",
        "\n",
        "- _Sets_ (mutables) y _frozensets_ (inmutables): cualquier tipo de elementos, sin order ni repetición.\n",
        "\n",
        "```python\n",
        "s = {0, 0, 2, 1, 1}\n",
        "print(s)\n",
        "```\n",
        "```\n",
        "{0, 1, 2}\n",
        "```\n",
        "\n",
        "- _Strings_: secuencias inmutables de caracteres"
      ]
    },
    {
      "cell_type": "markdown",
      "id": "f03cb791-7f5a-408b-98b7-39f144a554d1",
      "metadata": {
        "id": "f03cb791-7f5a-408b-98b7-39f144a554d1"
      },
      "source": [
        "<div style=\"background-color:powderblue;\">\n",
        "\n",
        "**EJERCICIO 1:**\n",
        "    \n",
        "- Obtener un string `s2` tomando una letra de cada dos del string `s` dado, usando el operador de _slice_: `[]`.\n",
        "\n",
        "- Hacer ahora lo mismo usando `for` para crear, primero, una lista con las letras, y después convertirlo a string usando el método `str.join`."
      ]
    },
    {
      "cell_type": "code",
      "execution_count": 1,
      "id": "33e91488-382e-4573-a22c-c44d13ede69d",
      "metadata": {
        "id": "33e91488-382e-4573-a22c-c44d13ede69d"
      },
      "outputs": [],
      "source": [
        "s = 'Exsxtxax xexsx xmxix xfxrxaxsxex xsxexcxrxextxax'"
      ]
    },
    {
      "cell_type": "code",
      "source": [
        "s2 = s[::2]\n",
        "print(s2)"
      ],
      "metadata": {
        "id": "ZBTZ08xA2sdH",
        "outputId": "c3383c99-64a6-4d48-c17c-196e1a7a2be7",
        "colab": {
          "base_uri": "https://localhost:8080/"
        }
      },
      "id": "ZBTZ08xA2sdH",
      "execution_count": 2,
      "outputs": [
        {
          "output_type": "stream",
          "name": "stdout",
          "text": [
            "Esta es mi frase secreta\n"
          ]
        }
      ]
    },
    {
      "cell_type": "code",
      "source": [
        "lista_letras = []\n",
        "for i in range(0, len(s), 2):\n",
        "    lista_letras.append(s[i])\n",
        "\n",
        "s2_bucle = ''.join(lista_letras)\n",
        "print(\"s2 con bucle:\", s2_bucle)"
      ],
      "metadata": {
        "id": "KHgWbn9o2s17",
        "outputId": "ee37c9ac-fb04-4f14-e0b0-2c783673fea1",
        "colab": {
          "base_uri": "https://localhost:8080/"
        }
      },
      "id": "KHgWbn9o2s17",
      "execution_count": 3,
      "outputs": [
        {
          "output_type": "stream",
          "name": "stdout",
          "text": [
            "s2 con bucle: Esta es mi frase secreta\n"
          ]
        }
      ]
    },
    {
      "cell_type": "markdown",
      "id": "dbbe5352-e052-45b6-8f46-7b23d52f4ea5",
      "metadata": {
        "id": "dbbe5352-e052-45b6-8f46-7b23d52f4ea5"
      },
      "source": [
        "### Diccionarios\n",
        "\n",
        "Iterables que asocian claves y valores (mapas, _hash arrays_).\n",
        "\n",
        "- Las claves deben ser inmutables (enteros, strings, tuplas).\n",
        "- Los valores pueden ser cualquier tipo de objeto.\n",
        "- Cuando se recorre (itera) un diccionario, se recorren las claves.\n",
        "  - *Desde Python 3.7:* el orden de las claves es el de inserción (previamente estaba indefinido)"
      ]
    },
    {
      "cell_type": "code",
      "execution_count": null,
      "id": "d9a34647-a23b-4753-9b2a-d025cecc9a27",
      "metadata": {
        "tags": [],
        "id": "d9a34647-a23b-4753-9b2a-d025cecc9a27"
      },
      "outputs": [],
      "source": [
        "d = {'a': 1, 'b': 5}\n",
        "d = dict(a=1, b=5)\n",
        "\n",
        "print(d['a'])"
      ]
    },
    {
      "cell_type": "code",
      "execution_count": null,
      "id": "e8b77095-def7-4e25-9c92-6c9e5ee332e3",
      "metadata": {
        "tags": [],
        "id": "e8b77095-def7-4e25-9c92-6c9e5ee332e3"
      },
      "outputs": [],
      "source": [
        "d['c'] = 10\n",
        "\n",
        "for k in d:\n",
        "    print(k, '-->', d[k])"
      ]
    },
    {
      "cell_type": "code",
      "execution_count": null,
      "id": "f6f56049-602f-406d-b0e2-c3ded05d30bb",
      "metadata": {
        "tags": [],
        "id": "f6f56049-602f-406d-b0e2-c3ded05d30bb"
      },
      "outputs": [],
      "source": [
        "for k, x in d.items():\n",
        "    print(k, '-->', x)"
      ]
    },
    {
      "cell_type": "code",
      "execution_count": null,
      "id": "7b82167b-d16b-4c33-beaf-aa3ee25862a3",
      "metadata": {
        "tags": [],
        "id": "7b82167b-d16b-4c33-beaf-aa3ee25862a3"
      },
      "outputs": [],
      "source": [
        "for x in d.values():\n",
        "    print(x)"
      ]
    },
    {
      "cell_type": "markdown",
      "id": "bf6f5650-02b5-4987-aaed-5a462b29b73c",
      "metadata": {
        "id": "bf6f5650-02b5-4987-aaed-5a462b29b73c"
      },
      "source": [
        "<div style=\"background-color:powderblue;\">\n",
        "\n",
        "**EJERCICIO 2:**\n",
        "\n",
        "- Leer el fichero de entrada `data/notas.txt` que contiene una asignatura y una nota por cada línea. Crear un diccionario que contenga como claves las asignaturas y como valores las notas.\n",
        "\n",
        "- Usando _fstrings_, mostrar por pantalla la siguiente línea por cada asignatura: `En la <asignatura> has obtenido <nota>`, sustituyendo apropiadamente el nombre de la asignatura y la nota para cada una.\n",
        "\n",
        "- Repetir el punto anterior, pero añadiendo al final de la línea la palabra `Aprobado`, si la nota es mayor de 5, y `Suspendido` si es menor."
      ]
    },
    {
      "cell_type": "markdown",
      "id": "03856919-185e-409e-9394-c20b7d6b8003",
      "metadata": {
        "id": "03856919-185e-409e-9394-c20b7d6b8003"
      },
      "source": [
        "### Comprenhentions\n",
        "\n",
        "Expresiones concisas para generar listas, diccionarios y generadores.\n",
        "\n",
        "```python\n",
        "[expr(x)  for x in iterable]\n",
        "\n",
        "{expr1(x): expr2(x)  for x in iterable}\n",
        "\n",
        "(expr(x)  for x in iterable)\n",
        "```\n",
        "\n",
        "Existe una forma algo más compleja:\n",
        "```python\n",
        "[<expr(x,y)>  for x in I1   for y in I2   if <cond(x,y)>]\n",
        "```"
      ]
    },
    {
      "cell_type": "code",
      "execution_count": null,
      "id": "d9b140bc-cec3-460e-a90b-1aa434704f6b",
      "metadata": {
        "tags": [],
        "id": "d9b140bc-cec3-460e-a90b-1aa434704f6b"
      },
      "outputs": [],
      "source": [
        "strings = ['this', 'and', 'those']\n",
        "l1 = [len(s) for s in strings]\n",
        "g1 = (len(s) for s in strings)\n",
        "\n",
        "print('List:', l1)\n",
        "print('Generator:', g1)"
      ]
    },
    {
      "cell_type": "code",
      "execution_count": null,
      "id": "9f5bc3ef-9e44-4a03-a9e8-d0ba2f158bc8",
      "metadata": {
        "tags": [],
        "id": "9f5bc3ef-9e44-4a03-a9e8-d0ba2f158bc8"
      },
      "outputs": [],
      "source": [
        "print('Iteration on generator:')\n",
        "for x in g1:  print(x)"
      ]
    },
    {
      "cell_type": "code",
      "execution_count": null,
      "id": "7bf7262e-0f19-405c-a389-d265dbf26815",
      "metadata": {
        "id": "7bf7262e-0f19-405c-a389-d265dbf26815"
      },
      "outputs": [],
      "source": [
        "d1 = {x+1: x**2 for x in (2, 4, 6)}\n",
        "print('\\nDict:', d1)"
      ]
    },
    {
      "cell_type": "markdown",
      "id": "cdfd4c8d-d3cf-4ca6-bdfb-f3d6b344edfe",
      "metadata": {
        "id": "cdfd4c8d-d3cf-4ca6-bdfb-f3d6b344edfe"
      },
      "source": [
        "<div style=\"background-color:powderblue;\">\n",
        "\n",
        "**EJERCICIO 3:**\n",
        "    \n",
        "Sin usar `for` ni `while`:\n",
        "    \n",
        "- Repetir el primer punto del ejercicio `1`.\n",
        "- Generar el string `s` del ejercicio `1` a partir del string dado `s0`."
      ]
    },
    {
      "cell_type": "markdown",
      "id": "a65b106c-7cc8-465a-9c95-ef3955386a62",
      "metadata": {
        "tags": [],
        "id": "a65b106c-7cc8-465a-9c95-ef3955386a62"
      },
      "source": [
        "## Funciones y módulos"
      ]
    },
    {
      "cell_type": "markdown",
      "id": "dccd15bd-bcab-4032-8c45-a9018ba12ce6",
      "metadata": {
        "id": "dccd15bd-bcab-4032-8c45-a9018ba12ce6"
      },
      "source": [
        "### Funciones en Python\n",
        "\n",
        "Una función es un objeto que contiene un bloque de instrucciones que se ejecutan cuando la función _es llamada_: `mi_funcion(args)`. Lafunción se define (se crea) con la sentencia `def`:\n",
        "\n",
        "```python\n",
        "def mi_funcion(arg1, arg2, ...):\n",
        "    instruccion\n",
        "    instruccion\n",
        "    return ...\n",
        "```\n",
        "La sentencia `return` especifica el valor devuelto por la función (si no aparece, es `None`)"
      ]
    },
    {
      "cell_type": "markdown",
      "id": "2a844442-b35b-44e7-9709-e352e2975467",
      "metadata": {
        "id": "2a844442-b35b-44e7-9709-e352e2975467"
      },
      "source": [
        "#### Argumentos de funciones\n",
        "\n",
        "Los argumentos de una función de Python se _pasan por asignación_.\n",
        "\n",
        "- El valor pasado _se asigna_ a una variable local dentro de la función (no se hace una copia)\n",
        "- Si el valor es modificable, y se modifica, la variable externa verá el mismo cambio\n",
        "- Como las variables no tienen tipo, tampoco lo tienen los argumentos de una función"
      ]
    },
    {
      "cell_type": "markdown",
      "id": "dd5aff9b-d70e-49be-b375-c8c9e27f928a",
      "metadata": {
        "id": "dd5aff9b-d70e-49be-b375-c8c9e27f928a"
      },
      "source": [
        "Formas de pasar argumentos:\n",
        "\n",
        "- Por posición: `f(3, 4)`\n",
        "- Nombrados: `f(x=3, y=4)`  (siempre después de los de posición)\n",
        "- Expandidos (siempre después de los no expandidos)\n",
        "  - `f(*(3, 4))` equivale a `f(3, 4)`\n",
        "  - `f(**{x:3, y:4}` equivale a `f(x=3, y=4)`"
      ]
    },
    {
      "cell_type": "markdown",
      "id": "8c1ed0e1-93b0-4462-941e-ac3d4811c29b",
      "metadata": {
        "id": "8c1ed0e1-93b0-4462-941e-ac3d4811c29b"
      },
      "source": [
        "Formas de recoger argumentos:\n",
        "\n",
        "- Argumentos con valores por defecto (si no son especificados por el llamante): `def f1(a1, a2=0)`\n",
        "- Resto de argumentos recogidos en una tupla: `def f2(a1, *rest)`\n",
        "- Resto de argumentos _nombrados_ recogidos en un diccionario: `def f3(a1, **res)`\n",
        "- Combinación de las anteriores: `def f3(a1, a2=3, *vrest, **drest)`"
      ]
    },
    {
      "cell_type": "markdown",
      "id": "ee3448ee-a480-4af7-ad2a-ac59ab3cc316",
      "metadata": {
        "id": "ee3448ee-a480-4af7-ad2a-ac59ab3cc316"
      },
      "source": [
        "<div style=\"background-color:powderblue;\">\n",
        "\n",
        "**EJERCICIO 4:**\n",
        "    \n",
        "Escribir una función `f` que reciba un primer argumento `a1` obligatorio, un segundo `a2` optativo (con valor por defecto _None_, y un número arbitrario de argumentos nombrados (_keywords_). La función deberá mostrar los argumentos recibidos, y su valor, en una línea diferente para cada uno.\n",
        "    \n",
        "Probarla con las llamadas mostradas a continuación."
      ]
    },
    {
      "cell_type": "code",
      "execution_count": null,
      "id": "01978889-d905-414c-91b7-ef4ff1cc87ec",
      "metadata": {
        "id": "01978889-d905-414c-91b7-ef4ff1cc87ec"
      },
      "outputs": [],
      "source": [
        "f(1)\n",
        "f(1, 2)\n",
        "f(1, 2, juan=35, pepe='verde')\n",
        "f(a1=1, juan=35, pepe='verde')\n",
        "d = {'juan': 35, 'pepe': 'verde'}\n",
        "f(a1=1, a2=2, **d)"
      ]
    },
    {
      "cell_type": "markdown",
      "id": "8393370b-ee88-4a3c-a4ee-033507e19d17",
      "metadata": {
        "id": "8393370b-ee88-4a3c-a4ee-033507e19d17"
      },
      "source": [
        "### Namespace y scope\n",
        "\n",
        "Los _namespaces_ dividen el conjunto de identificadores de objetos, de manera que sea posible repetir el mismo nombre en dos espacios independientes, sin que haya colisión.\n",
        "\n",
        "Python define muchos espacios de nombres diferentes: el de un módulo, el de una función (variables locales), el _built-in_...\n",
        "\n",
        "Una variable siempre puede identificarse como: `namespace.identificador`, p.ej: `math.log` o `__builtins__.print`.\n",
        "\n",
        "El _scope_ de un identificador (variable) define en qué partes del programa es accesible, sin indicar el namespace (usando el prefijo). En ese caso, una variable se busca primero en el namespace local (función), luego en el global (módulo), y luego en el _built-in_ (siempre accesible)."
      ]
    },
    {
      "cell_type": "markdown",
      "id": "bcadd7bb-2786-4f7a-9946-06aa8a928c29",
      "metadata": {
        "id": "bcadd7bb-2786-4f7a-9946-06aa8a928c29"
      },
      "source": [
        "### Módulos y paquetes\n",
        "\n",
        "#### Módulos\n",
        "\n",
        "Un módulo es un fichero que agrupa código Python. Habitualmente, un módulo `foo` corresponde al fichero `foo.py`, aunque también puede ser un fichero compilado, `foo.so`).\n",
        "\n",
        "Un módulo crea su propio espacio de nombres, que se hace accesible al importar el módulo (`import`), y accedemos a sus objetos con la notación `modulo.objeto`\n",
        "\n",
        "El código de un módulo consiste principalmente en definiciones de objetos, para su reutilización, pero puede incluir cualquier tipo de instrucción (p.ej. de inicialización, o para usarlo como _script_), y se ejecuta la primera vez que se llama a `import`."
      ]
    },
    {
      "cell_type": "code",
      "execution_count": 1,
      "id": "c46f812d-a5ad-4182-8427-63f74601d4f2",
      "metadata": {
        "id": "c46f812d-a5ad-4182-8427-63f74601d4f2",
        "colab": {
          "base_uri": "https://localhost:8080/"
        },
        "outputId": "8241d912-8490-42ca-d7b8-ffe5cce74985"
      },
      "outputs": [
        {
          "output_type": "stream",
          "name": "stdout",
          "text": [
            "3.141592653589793\n",
            "3.141592653589793\n",
            "3.141592653589793\n",
            "3.141592653589793\n"
          ]
        }
      ],
      "source": [
        "import math         # Ligamos el identificador 'math' al namespace del módulo\n",
        "print(math.pi)      # Accedemos al objeto `pi` en ese namespace\n",
        "\n",
        "import math as mod  # Ligamos el identificador 'mod' al namespace del módulo 'math'\n",
        "print(mod.pi)\n",
        "\n",
        "from math import pi as PI   # Ligamos el id 'PI' al objeto 'pi' del módulo 'math'\n",
        "print(PI)\n",
        "\n",
        "from math import pi\n",
        "print(pi)"
      ]
    },
    {
      "cell_type": "markdown",
      "id": "3f71895e-fe8c-4790-b690-42e4d689a4e3",
      "metadata": {
        "tags": [],
        "id": "3f71895e-fe8c-4790-b690-42e4d689a4e3"
      },
      "source": [
        "**Búsqueda de módulos**\n",
        "\n",
        "Cuando se usa la instrucción `import`, el módulo se busca primero en los _built-in_. Si no se encuentra, se busca en los directorios contenidos en la variable `sys.path`. Esta variable contiene:\n",
        "\n",
        "- El directorio del script en ejecución\n",
        "- Los directorios de la variable de entorno `PYTHONPATH`\n",
        "- Los directorios por defecto de la instalación (librerías del sistema)"
      ]
    },
    {
      "cell_type": "markdown",
      "id": "db94bf4d-7201-4788-983c-9c2f14528fbb",
      "metadata": {
        "id": "db94bf4d-7201-4788-983c-9c2f14528fbb"
      },
      "source": [
        "#### Paquetes\n",
        "\n",
        "Los paquetes son agrupaciones de módulos.\n",
        "\n",
        "- Físicamente, se corresponden con directorios que albergan ficheros `.py`\n",
        "\n",
        "      mypack/__init__.py\n",
        "      mypack/mymod1.py\n",
        "      mypack/subpack/__init__.py  \n",
        "      mypack/subpack/mymod1.py\n",
        "\n",
        "\n",
        "- Desde el punto de vista lógico, organizan jerárquicamente los namespaces:\n",
        "\n",
        "  ```python\n",
        "  import  mypack.mymod1\n",
        "  mypack.mymod1.some_function()\n",
        "\n",
        "  from  mypack.subpack  import  mymod1\n",
        "  mymod1.other_func()\n",
        "  ```\n",
        "\n",
        "\n",
        "- Para que un directorio se considere un paquete, debe contener el fichero `__init__.py`, aunque sea vacío."
      ]
    },
    {
      "cell_type": "markdown",
      "id": "2d4b6b78-52b0-4507-9e2a-bff39f7c4153",
      "metadata": {
        "id": "2d4b6b78-52b0-4507-9e2a-bff39f7c4153"
      },
      "source": [
        "## Clases y objetos"
      ]
    },
    {
      "cell_type": "markdown",
      "id": "28caa8ca-0ac5-4bb2-9aa7-e274421be794",
      "metadata": {
        "tags": [],
        "id": "28caa8ca-0ac5-4bb2-9aa7-e274421be794"
      },
      "source": [
        "### Programación orientada a objetos\n",
        "\n",
        "La programación orientada a objetos (O.O.P.) es un modelo (paradigma) de programación en el que se agrupan datos y funciones en objetos que pertenecen a clases (nuevos tipos de datos, definidos por el programador).\n",
        "\n",
        "La encapsulación de código en los objetos permite ocultar los detalles de la implementación tras el interfaz.\n",
        "\n",
        "En Python, usar O.O.P como estilo de programación es opcional. Aunque implícitamente siempre usamos clases y objetos, no siempre optamos por definir nuevas clases."
      ]
    },
    {
      "cell_type": "markdown",
      "id": "49bef42a-3615-4853-b458-4eee8047a2a1",
      "metadata": {
        "id": "49bef42a-3615-4853-b458-4eee8047a2a1"
      },
      "source": [
        "### Clases e instancias\n",
        "\n",
        "Las clases definen un _tipo_ de objetos\n",
        "\n",
        "- Crean su propio namespace\n",
        "- Definen atributos (miembros): datos y funciones (métodos)\n",
        "    \n",
        "Las _instancias_ de una clase son los _objetos_, cuyo tipo es esa clase.\n",
        "  \n",
        "### Nuevas clases\n",
        "Podemos crear nuevos tipos de datos, definiendo clases con:\n",
        "\n",
        "```python\n",
        "class <nombre>:\n",
        "    instrucción\n",
        "    ...\n",
        "```\n",
        "\n",
        "Lo más esencial de una clase son las funciones miembro:\n",
        "\n",
        "- El primer argumento de todos los métodos (`self`) es una referencia a la instancia llamante (pasada automáticamente)\n",
        "- Si definimos atributos de `self` estamos creando un atributo de instancia (diferente para cada instancia)\n",
        "\n",
        "Convenciones:\n",
        "\n",
        "- Los atributos privados comienzan con `_` (es preferible no utilizarlos directamente)\n",
        "- Las miembros `__<nombre>__`, tienen usos especiales, no se les suele invocar explícitamente.\n",
        "- El método `__init__` es el _constructor_. Se llama automáticamente cuando se crea una nueva instancia de la clase.\n"
      ]
    },
    {
      "cell_type": "code",
      "execution_count": null,
      "id": "7304c75d-2693-4d89-8c39-650af6ad4bfd",
      "metadata": {
        "id": "7304c75d-2693-4d89-8c39-650af6ad4bfd"
      },
      "outputs": [],
      "source": [
        "class Persona:\n",
        "\n",
        "    def __init__(self, nombre, edad):\n",
        "        self.nombre = nombre\n",
        "        self.edad = edad\n",
        "\n",
        "    def saludo(self):\n",
        "        return f'Hola. Me llamo {self.nombre} y tengo {self.edad} años.'"
      ]
    },
    {
      "cell_type": "code",
      "execution_count": null,
      "id": "2908dbcb-ff15-43b4-b307-94775a5e1272",
      "metadata": {
        "id": "2908dbcb-ff15-43b4-b307-94775a5e1272",
        "outputId": "670f5cee-535c-4175-bdb5-8ae43b16b428"
      },
      "outputs": [
        {
          "name": "stdout",
          "output_type": "stream",
          "text": [
            "Nombre: Juan\n",
            "Saludo: Hola. Me llamo Juan y tengo 25 años.\n",
            "\n",
            "El tipo de 'juan' es <class '__main__.Persona'>\n"
          ]
        }
      ],
      "source": [
        "juan = Persona('Juan', 25)\n",
        "\n",
        "print(\"Nombre:\", juan.nombre)\n",
        "print(\"Saludo:\", juan.saludo())\n",
        "\n",
        "print(\"\\nEl tipo de 'juan' es\", type(juan))"
      ]
    },
    {
      "cell_type": "markdown",
      "id": "6a76ee2f-9f61-4018-baa1-6ec0efc68fa1",
      "metadata": {
        "id": "6a76ee2f-9f61-4018-baa1-6ec0efc68fa1"
      },
      "source": [
        "### Herencia\n",
        "\n",
        "Una clase que extiende a otra, hereda sus atributos, de manera que puede usarlos directamente (reutilización de código). También podría redefinir alguno de ellos, o añadir nuevos.\n",
        "\n",
        "P. ej.:\n",
        "```python\n",
        "class Cientifico(Persona):\n",
        "        \n",
        "    def investigar(self):\n",
        "        bla bla\n",
        "```        "
      ]
    }
  ],
  "metadata": {
    "kernelspec": {
      "display_name": "Python 3",
      "language": "python",
      "name": "python3"
    },
    "language_info": {
      "codemirror_mode": {
        "name": "ipython",
        "version": 3
      },
      "file_extension": ".py",
      "mimetype": "text/x-python",
      "name": "python",
      "nbconvert_exporter": "python",
      "pygments_lexer": "ipython3",
      "version": "3.6.8"
    },
    "colab": {
      "provenance": []
    }
  },
  "nbformat": 4,
  "nbformat_minor": 5
}