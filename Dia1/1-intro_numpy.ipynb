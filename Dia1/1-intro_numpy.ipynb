{
  "cells": [
    {
      "cell_type": "markdown",
      "id": "3960ddff-e320-4a26-85a0-77c9fd5676b9",
      "metadata": {
        "id": "3960ddff-e320-4a26-85a0-77c9fd5676b9"
      },
      "source": [
        "<font size=6>\n",
        "\n",
        "<b>Taller de Análisis de Datos</b>\n",
        "</font>\n",
        "\n",
        "<font size=4>\n",
        "    \n",
        "InpsiraSTEM 2025 <br/>\n",
        "23 de Julio de 2025\n",
        "\n",
        "</font>\n",
        "\n",
        "https://github.com/michaelsanchez2025/inspirastem2025-data-analises/\n",
        "\n",
        "<br/>"
      ]
    },
    {
      "cell_type": "markdown",
      "id": "0dcf660f-372c-424b-8487-c35cdba140fe",
      "metadata": {
        "id": "0dcf660f-372c-424b-8487-c35cdba140fe"
      },
      "source": [
        "# Día 1 - Fundamentos de NumPy"
      ]
    },
    {
      "cell_type": "markdown",
      "id": "a41b12ce-7c25-45ca-844d-ae24fa9a0ee2",
      "metadata": {
        "id": "a41b12ce-7c25-45ca-844d-ae24fa9a0ee2"
      },
      "source": [
        "## Objetivos\n",
        "\n",
        "- Librería NumPy, fundamental para cálculo científico y técnico en Python.\n",
        "\n",
        "- La estructura básica de NumPy: los _ndarrays_.\n",
        "\n",
        "- Manipulación de arrays\n",
        "\n",
        "- Indexado, selección y filtrado de arrays."
      ]
    },
    {
      "cell_type": "markdown",
      "id": "70c99e28-cfc7-4460-9e62-f21947aca88f",
      "metadata": {
        "id": "70c99e28-cfc7-4460-9e62-f21947aca88f"
      },
      "source": [
        "## Introducción\n",
        "\n",
        "NumPy es una librería de Python que ofrece soporte para _arrays_ (vectores) multidimensionales, y operaciones sobre ellos, de manera eficiente (rápida). Además, proporciona funcionalidades matemáticas sobre esos arrays (manipulación, filtrado, transformaciones de Fourier, álgebra lineal, estadística básica, etc.).\n",
        "\n",
        "La librería NumPy está escrita utilizando código compilado (C/C++), de manera que el rendimiento de sus funciones matemáticas es mucho mejor que el de programas escritos púramente en Python (usando las estructuras nativas de Python, como listas o diccionarios).\n",
        "\n",
        "Eso hace que NumPy sea la base de gran parte del código científico en Python. Otras librerías científicas, como Pandas o SciPy, utilizan internamente NumPy. Aunque no siempre sea necesario manejar que explícitamente estructuras NumPy en nuestro código, es interesante conocer sus fundamentos y las funcionalidades que nos ofrece."
      ]
    },
    {
      "cell_type": "markdown",
      "id": "f27b0d1b-2e41-428f-8fe7-9637dc77615e",
      "metadata": {
        "id": "f27b0d1b-2e41-428f-8fe7-9637dc77615e"
      },
      "source": [
        "## ndarrays\n",
        "La clave de NumPy es el objeto _ndarray_, que encapsula vectores multidimensionales de tipo homogéneo, con operaciones escritas, normalmente, en código compilado.\n",
        "\n",
        "Características de los ndarray:\n",
        "\n",
        "- Tipo homogéneo. A diferencia de las listas Python que pueden incluir cualquier tipo de elementos.\n",
        "- Longitud fija. Si cambiamos el tamaño, se crea un nuevo objeto.\n",
        "- Existen multitud de operaciones vectoriales implementadas de manera eficiente."
      ]
    },
    {
      "cell_type": "markdown",
      "id": "9066a3e1-20e8-46f4-b4ff-4f192d6b118e",
      "metadata": {
        "id": "9066a3e1-20e8-46f4-b4ff-4f192d6b118e"
      },
      "source": [
        "### Creación de ndarrays\n",
        "Se pueden crear arrays desde tuplas/listas Python."
      ]
    },
    {
      "cell_type": "code",
      "execution_count": 7,
      "id": "ea6bdc11-5413-44a9-865e-9e907d621e22",
      "metadata": {
        "id": "ea6bdc11-5413-44a9-865e-9e907d621e22",
        "colab": {
          "base_uri": "https://localhost:8080/"
        },
        "outputId": "e7276423-382c-4d0f-a552-30807d13dd6d"
      },
      "outputs": [
        {
          "output_type": "stream",
          "name": "stdout",
          "text": [
            "Cloning into 'inspirastem2025-data-analises'...\n",
            "remote: Enumerating objects: 225, done.\u001b[K\n",
            "remote: Counting objects: 100% (90/90), done.\u001b[K\n",
            "remote: Compressing objects: 100% (74/74), done.\u001b[K\n",
            "remote: Total 225 (delta 49), reused 15 (delta 15), pack-reused 135 (from 1)\u001b[K\n",
            "Receiving objects: 100% (225/225), 2.12 MiB | 11.08 MiB/s, done.\n",
            "Resolving deltas: 100% (86/86), done.\n"
          ]
        }
      ],
      "source": [
        "!git clone https://github.com/michaelsanchez2025/inspirastem2025-data-analises/\n",
        "import numpy as np"
      ]
    },
    {
      "cell_type": "code",
      "execution_count": 8,
      "id": "38d1d1e9-f1b6-4ff4-bc36-ed9dc9948481",
      "metadata": {
        "id": "38d1d1e9-f1b6-4ff4-bc36-ed9dc9948481",
        "colab": {
          "base_uri": "https://localhost:8080/"
        },
        "outputId": "87467b9e-f153-446b-c9ea-a5052dbbdb66"
      },
      "outputs": [
        {
          "output_type": "stream",
          "name": "stdout",
          "text": [
            "Array 'a' con 1 dimensión/es y forma (3,)\n",
            "[0 1 2] \n",
            "\n"
          ]
        }
      ],
      "source": [
        "def showArray(a, label):\n",
        "    print(f\"Array '{label}' con {a.ndim} dimensión/es y forma {a.shape}\")\n",
        "    print(a, '\\n')\n",
        "\n",
        "a = np.array([0, 1, 2])\n",
        "showArray(a, 'a')"
      ]
    },
    {
      "cell_type": "code",
      "execution_count": 9,
      "id": "c33ccc1e-1ff4-4a43-b6b8-b6dc501b4eb9",
      "metadata": {
        "id": "c33ccc1e-1ff4-4a43-b6b8-b6dc501b4eb9",
        "colab": {
          "base_uri": "https://localhost:8080/"
        },
        "outputId": "47222e15-7f5f-4425-e112-004096a75a8f"
      },
      "outputs": [
        {
          "output_type": "stream",
          "name": "stdout",
          "text": [
            "Array 'b' con 3 dimensión/es y forma (2, 3, 4)\n",
            "[[[1 1 1 1]\n",
            "  [1 1 1 1]\n",
            "  [1 1 1 1]]\n",
            "\n",
            " [[2 2 2 2]\n",
            "  [2 2 2 2]\n",
            "  [2 2 2 2]]] \n",
            "\n"
          ]
        }
      ],
      "source": [
        "# np.array siempre recibe solo 1 argumento (lista de listas de listas...)\n",
        "v1 = [1, 1, 1, 1]\n",
        "v2 = [2, 2, 2, 2]\n",
        "b = np.array([[v1, v1, v1], [v2, v2, v2]])\n",
        "showArray(b, 'b')"
      ]
    },
    {
      "cell_type": "markdown",
      "id": "894510d1-00de-4cd7-a9a2-78945d276c62",
      "metadata": {
        "id": "894510d1-00de-4cd7-a9a2-78945d276c62"
      },
      "source": [
        "O con funciones de inicialización de NumPy:"
      ]
    },
    {
      "cell_type": "code",
      "execution_count": 10,
      "id": "31ca7767-6eb3-45c0-baba-78fda66e53d2",
      "metadata": {
        "id": "31ca7767-6eb3-45c0-baba-78fda66e53d2",
        "colab": {
          "base_uri": "https://localhost:8080/"
        },
        "outputId": "f8195791-2655-4ed3-cf48-c25fd33899bd"
      },
      "outputs": [
        {
          "output_type": "stream",
          "name": "stdout",
          "text": [
            "Array 'zeros' con 2 dimensión/es y forma (2, 3)\n",
            "[[0. 0. 0.]\n",
            " [0. 0. 0.]] \n",
            "\n",
            "Array 'ones' con 2 dimensión/es y forma (2, 3)\n",
            "[[1.+0.j 1.+0.j 1.+0.j]\n",
            " [1.+0.j 1.+0.j 1.+0.j]] \n",
            "\n",
            "Array 'arange' con 1 dimensión/es y forma (10,)\n",
            "[0 1 2 3 4 5 6 7 8 9] \n",
            "\n",
            "Array 'arange' con 1 dimensión/es y forma (11,)\n",
            "[10 12 14 16 18 20 22 24 26 28 30] \n",
            "\n",
            "Array 'linspace' con 1 dimensión/es y forma (10,)\n",
            "[10.         12.33333333 14.66666667 17.         19.33333333 21.66666667\n",
            " 24.         26.33333333 28.66666667 31.        ] \n",
            "\n"
          ]
        }
      ],
      "source": [
        "a = np.zeros([2, 3])\n",
        "showArray(a, 'zeros')\n",
        "\n",
        "a = np.ones([2, 3], dtype='complex')\n",
        "showArray(a, 'ones')\n",
        "\n",
        "a = np.arange(10)\n",
        "showArray(a, 'arange')\n",
        "\n",
        "a = np.arange(10, 31, 2)     # start, stop, step\n",
        "showArray(a, 'arange')\n",
        "\n",
        "a = np.linspace(10, 31, 10)  # start, stop, num\n",
        "showArray(a, 'linspace')"
      ]
    },
    {
      "cell_type": "markdown",
      "id": "9a12f8df-e824-4dab-a3aa-e121cc823507",
      "metadata": {
        "id": "9a12f8df-e824-4dab-a3aa-e121cc823507"
      },
      "source": [
        "También se puede leer un array directamente de un fichero, aunque otras librerías como Pandas ofrecen funcionalidades mucho más potentes."
      ]
    },
    {
      "cell_type": "code",
      "execution_count": 11,
      "id": "dc3d7189-4193-4337-a82c-49e755106760",
      "metadata": {
        "id": "dc3d7189-4193-4337-a82c-49e755106760",
        "colab": {
          "base_uri": "https://localhost:8080/"
        },
        "outputId": "f8054200-d6f8-49b8-b6fe-cc1de2fde46e"
      },
      "outputs": [
        {
          "output_type": "stream",
          "name": "stdout",
          "text": [
            "23,12,5\n",
            "7,9,14\n",
            "8,-3,9.6\n"
          ]
        }
      ],
      "source": [
        "!cat inspirastem2025-data-analises/data/array.csv"
      ]
    },
    {
      "cell_type": "code",
      "execution_count": 12,
      "id": "112fab99-eb4e-47f1-a8b1-249f3528637a",
      "metadata": {
        "id": "112fab99-eb4e-47f1-a8b1-249f3528637a",
        "colab": {
          "base_uri": "https://localhost:8080/"
        },
        "outputId": "eb8ce9ce-f380-4425-eb80-a2811142cd7f"
      },
      "outputs": [
        {
          "output_type": "execute_result",
          "data": {
            "text/plain": [
              "array([[23. , 12. ,  5. ],\n",
              "       [ 7. ,  9. , 14. ],\n",
              "       [ 8. , -3. ,  9.6]])"
            ]
          },
          "metadata": {},
          "execution_count": 12
        }
      ],
      "source": [
        "a = np.loadtxt('inspirastem2025-data-analises/data/array.csv', delimiter=',')\n",
        "a"
      ]
    },
    {
      "cell_type": "markdown",
      "id": "61a75857-3184-481e-8b15-da46c84920dc",
      "metadata": {
        "id": "61a75857-3184-481e-8b15-da46c84920dc"
      },
      "source": [
        "Existen otras muchas maneras de producir arrays. Por ejemplo, usando las funciones de números aleatorios."
      ]
    },
    {
      "cell_type": "code",
      "execution_count": 13,
      "id": "0d52560b-ef7c-4f38-8dd4-fb5f6550d300",
      "metadata": {
        "id": "0d52560b-ef7c-4f38-8dd4-fb5f6550d300",
        "colab": {
          "base_uri": "https://localhost:8080/"
        },
        "outputId": "fe785dbe-8510-402a-9567-22c986670797"
      },
      "outputs": [
        {
          "output_type": "stream",
          "name": "stdout",
          "text": [
            "Showing 'vals' of type: <class 'numpy.ndarray'>\n",
            "[24.43533947 99.7367849  33.92461655 15.74356184 52.93405319 38.94332581\n",
            " 84.99381028 91.95856654 16.99967909 59.98710766]\n"
          ]
        }
      ],
      "source": [
        "randomGen = np.random.default_rng()\n",
        "vals = randomGen.uniform(0, 100, size=10)\n",
        "print(\"Showing 'vals' of type:\", type(vals))\n",
        "print(vals)"
      ]
    },
    {
      "cell_type": "markdown",
      "id": "88cac966-a0c4-4109-998a-7ae56a0a5354",
      "metadata": {
        "id": "88cac966-a0c4-4109-998a-7ae56a0a5354"
      },
      "source": [
        "### Tipo de los elementos de un array (dtype)\n",
        "\n",
        "NumPy ofrece muchos más tipos que Python, y en general es más preciso en cuanto a lo que significan (con o sin signo, con 16, 32 o 64 bits, etc.).\n",
        "\n",
        "Se puede acceder al tipo de un objeto (p.ej. array) NumPy, con su propiedad `dtype`."
      ]
    },
    {
      "cell_type": "code",
      "execution_count": 14,
      "id": "0fd2407d-a877-4225-bc97-32f60b77335d",
      "metadata": {
        "id": "0fd2407d-a877-4225-bc97-32f60b77335d",
        "colab": {
          "base_uri": "https://localhost:8080/"
        },
        "outputId": "11eafe92-f477-4489-87a0-f3136c06b0a4"
      },
      "outputs": [
        {
          "output_type": "execute_result",
          "data": {
            "text/plain": [
              "dtype('int64')"
            ]
          },
          "metadata": {},
          "execution_count": 14
        }
      ],
      "source": [
        "np.array([1, 2, 3]).dtype"
      ]
    },
    {
      "cell_type": "markdown",
      "id": "dcacc8f5-91a0-4c51-84af-730ec8e95a59",
      "metadata": {
        "id": "dcacc8f5-91a0-4c51-84af-730ec8e95a59"
      },
      "source": [
        "Se puede p.ej. indicar el tipo que queremos para un nuevo array. Si no se hace, Numpy lo inferirá y asignará uno."
      ]
    },
    {
      "cell_type": "code",
      "execution_count": 15,
      "id": "c48514cf-61fc-4310-aba5-800499504d63",
      "metadata": {
        "id": "c48514cf-61fc-4310-aba5-800499504d63",
        "colab": {
          "base_uri": "https://localhost:8080/"
        },
        "outputId": "39dd005f-398d-4d7b-bc2f-7202964df139"
      },
      "outputs": [
        {
          "output_type": "stream",
          "name": "stdout",
          "text": [
            "[1 2 3]\n",
            "[1. 2. 3.]\n"
          ]
        }
      ],
      "source": [
        "print(np.array([1, 2, 3]))\n",
        "\n",
        "print(np.array([1, 2, 3], dtype=np.float64))"
      ]
    },
    {
      "cell_type": "markdown",
      "id": "76fb62c3-1a60-4208-970a-11976026e0ea",
      "metadata": {
        "id": "76fb62c3-1a60-4208-970a-11976026e0ea"
      },
      "source": [
        "También se puede convertir el tipo de un array con el método `astype`."
      ]
    },
    {
      "cell_type": "code",
      "execution_count": 16,
      "id": "9a3a8213-9e80-4af9-9d92-be4f92f5edf1",
      "metadata": {
        "id": "9a3a8213-9e80-4af9-9d92-be4f92f5edf1",
        "colab": {
          "base_uri": "https://localhost:8080/"
        },
        "outputId": "d83c7bb1-b289-4dd4-d11c-d41aa1b00007"
      },
      "outputs": [
        {
          "output_type": "stream",
          "name": "stdout",
          "text": [
            "int64\n",
            "float64\n"
          ]
        }
      ],
      "source": [
        "a = np.array([1, 2, 3])\n",
        "print(a.dtype)\n",
        "\n",
        "b = a.astype(np.float64)\n",
        "print(b.dtype)"
      ]
    },
    {
      "cell_type": "markdown",
      "id": "0001cd10-9fca-4a98-a0ce-fee6e9f5f0c2",
      "metadata": {
        "id": "0001cd10-9fca-4a98-a0ce-fee6e9f5f0c2"
      },
      "source": [
        "Nota: Como los tipos de NumPy tiene un tamaño fijo (lo que los hace más eficientes), es posible que se produzcan errores por desbordamiento cuando se requiera más memoria de la disponible. Eso no ocurre con el tipo `int` estándar de Python, que tiene un tamaño variable (puede crecer para acomodarse a un tamaño mayor)."
      ]
    },
    {
      "cell_type": "code",
      "execution_count": 17,
      "id": "e5f2f112-8cc0-48e3-88a0-3b2a081bd4de",
      "metadata": {
        "id": "e5f2f112-8cc0-48e3-88a0-3b2a081bd4de",
        "colab": {
          "base_uri": "https://localhost:8080/"
        },
        "outputId": "68f41c1f-6d7e-4175-cc47-696fa7736732"
      },
      "outputs": [
        {
          "output_type": "execute_result",
          "data": {
            "text/plain": [
              "100000000000000000000000000000000"
            ]
          },
          "metadata": {},
          "execution_count": 17
        }
      ],
      "source": [
        "100**16"
      ]
    },
    {
      "cell_type": "code",
      "execution_count": 18,
      "id": "139e31c9-4a4f-465e-8666-966612f4f1c1",
      "metadata": {
        "id": "139e31c9-4a4f-465e-8666-966612f4f1c1",
        "colab": {
          "base_uri": "https://localhost:8080/"
        },
        "outputId": "7b2e2259-92ab-4d0b-c9b9-017f5a0e36c3"
      },
      "outputs": [
        {
          "output_type": "execute_result",
          "data": {
            "text/plain": [
              "np.int64(-8814407033341083648)"
            ]
          },
          "metadata": {},
          "execution_count": 18
        }
      ],
      "source": [
        "import numpy as np\n",
        "np.int64(100)**16"
      ]
    },
    {
      "cell_type": "markdown",
      "id": "bf53dddb-d499-4288-a8c1-5ae7c2890859",
      "metadata": {
        "tags": [],
        "id": "bf53dddb-d499-4288-a8c1-5ae7c2890859"
      },
      "source": [
        "### Operaciones básicas con arrays\n",
        "\n",
        "NumPy ofrece la posibilidad de realizar operaciones vectoriales ejecutando código compilado, en lugar de recurrir a bucles explícitos de código Python. Este es el caso tanto para operaciones _entre_ arrays, como operaciones sobre los elementos de un solo array.\n",
        "\n",
        "Si escribimos nuestro código con operaciones vectoriales/matriciales conseguiremos mejores eficiencias y código más legible."
      ]
    },
    {
      "cell_type": "code",
      "execution_count": 19,
      "id": "72c5a914-e5c9-4fe2-9bd9-c6744dd381f5",
      "metadata": {
        "id": "72c5a914-e5c9-4fe2-9bd9-c6744dd381f5",
        "colab": {
          "base_uri": "https://localhost:8080/"
        },
        "outputId": "0f71b8f6-e439-4254-8d79-0d669b72313a"
      },
      "outputs": [
        {
          "output_type": "stream",
          "name": "stdout",
          "text": [
            "[   11   102  1003 10004]\n",
            "[   9   98  997 9996]\n",
            "[   10   200  3000 40000]\n",
            "[  10.           50.          333.33333333 2500.        ]\n",
            "[0 0 1 0]\n"
          ]
        }
      ],
      "source": [
        "a = np.array([10, 100, 1000, 10000])\n",
        "b = np.array([1, 2, 3, 4])\n",
        "\n",
        "print(a+b)\n",
        "print(a-b)\n",
        "print(a*b)\n",
        "print(a/b)\n",
        "print(a%b)"
      ]
    },
    {
      "cell_type": "code",
      "execution_count": 20,
      "id": "651221ad-9c64-4721-948d-49b85d420551",
      "metadata": {
        "id": "651221ad-9c64-4721-948d-49b85d420551",
        "colab": {
          "base_uri": "https://localhost:8080/"
        },
        "outputId": "92169238-a480-4346-b638-84e1dea41c9c"
      },
      "outputs": [
        {
          "output_type": "stream",
          "name": "stdout",
          "text": [
            "10\n",
            "24\n",
            "2.5\n",
            "4\n",
            "1\n"
          ]
        }
      ],
      "source": [
        "print(b.sum())\n",
        "print(b.prod())\n",
        "print(b.mean())\n",
        "print(b.max())\n",
        "print(b.min())"
      ]
    },
    {
      "cell_type": "markdown",
      "id": "61c7012f-399f-4967-9534-c95cf5f4ebe0",
      "metadata": {
        "id": "61c7012f-399f-4967-9534-c95cf5f4ebe0"
      },
      "source": [
        "Existen muchas otras utilidades ya implementadas en NumPy."
      ]
    },
    {
      "cell_type": "code",
      "execution_count": 21,
      "id": "e4b974ef-b47c-499d-a617-cbae3f50ebc2",
      "metadata": {
        "id": "e4b974ef-b47c-499d-a617-cbae3f50ebc2",
        "colab": {
          "base_uri": "https://localhost:8080/"
        },
        "outputId": "69d19c4c-c897-453f-fd19-ac1f66006526"
      },
      "outputs": [
        {
          "output_type": "stream",
          "name": "stdout",
          "text": [
            "[ 5  0  5 -3  1 10]\n",
            "[-3  0  1  5  5 10]\n",
            "[-3  0  1  5 10]\n",
            "5\n"
          ]
        }
      ],
      "source": [
        "x = np.array([5, 0, 5, -3, 1, 10])\n",
        "print(x)\n",
        "print(np.sort(x))\n",
        "print(np.unique(x))\n",
        "print(np.count_nonzero(x))"
      ]
    },
    {
      "cell_type": "markdown",
      "id": "60ba570f-963a-4ed8-9e2f-ba2f6cf377e8",
      "metadata": {
        "id": "60ba570f-963a-4ed8-9e2f-ba2f6cf377e8"
      },
      "source": [
        "<div style=\"background-color:powderblue;\">\n",
        "\n",
        "**EJERCICIO 1:**\n",
        "    \n",
        "- Producir dos arrays 'array_a' y 'array_b' con 100 números aleatorios equiprobables (`random.uniform`) cada uno.\n",
        "- A continuación, vamos a calcular el producto elemento a elemento. Hacerlo de dos maneras:\n",
        "    \n",
        "  - Operación vectorial: `array_a*array_b`.\n",
        "  - Operación en bucle: `for ... array_a[i]*array_b[i]`\n",
        "\n",
        "\n",
        "- Modificar el código para usar la función magic `%timeit -n 100` (100 repeticiones), para comprobar que la operación vectorial es más rápida que el bucle.\n",
        "\n",
        "- Crear una función para poder hacer la misma prueba con un número variable de elementos en los arrays, `N`. Probar las diferencias con los siguientes valores para `N`: 10, 100, 1000, 10000."
      ]
    },
    {
      "cell_type": "code",
      "source": [
        "import numpy as np\n",
        "\n",
        "array_a = np.random.uniform(0, 100, 100)\n",
        "array_b = np.random.uniform(0, 100, 100)\n",
        "\n",
        "producto_vectorial = array_a * array_b\n",
        "\n",
        "print(\"Producto vectorial (primeros 5):\", producto_vectorial[:5])"
      ],
      "metadata": {
        "colab": {
          "base_uri": "https://localhost:8080/"
        },
        "id": "-l_oGh-cXFDF",
        "outputId": "7231dd98-ead7-4f8c-a388-14caf1cb8272"
      },
      "id": "-l_oGh-cXFDF",
      "execution_count": 22,
      "outputs": [
        {
          "output_type": "stream",
          "name": "stdout",
          "text": [
            "Producto vectorial (primeros 5): [1393.47984774 1569.12549917 1846.24109068 2730.02066462 3089.49296186]\n"
          ]
        }
      ]
    },
    {
      "cell_type": "markdown",
      "id": "adbb819c-8dbd-4d1b-a3a0-c4c28234874f",
      "metadata": {
        "id": "adbb819c-8dbd-4d1b-a3a0-c4c28234874f"
      },
      "source": [
        "**NOTA**\n",
        "\n",
        "Además de los arrays, NumPy también ofrece el tipo _matriz_ (`numpy.matrix`). Sin embargo, se desaconseja su uso, pues el tipo `ndarray` puede utilizarse para manejar matrices (arrays de 2 dimensiones), pero es mucho más versátil.\n",
        "\n",
        "En particular, el operador `@` para ndarrays implementa (desde Python 3.5) la multiplicación matricial (o el producto escalar, si se trata de 2 arrays de una dimensión), en lugar de la multiplicación elemento a elemento, que produce (como ya hemos visto) el operador `*`."
      ]
    },
    {
      "cell_type": "code",
      "execution_count": 23,
      "id": "efe1b99c-fc44-4924-9956-cb6d1e4d8271",
      "metadata": {
        "id": "efe1b99c-fc44-4924-9956-cb6d1e4d8271",
        "colab": {
          "base_uri": "https://localhost:8080/"
        },
        "outputId": "ffa386fd-dd2e-46a4-cf86-f1b30bd78720"
      },
      "outputs": [
        {
          "output_type": "stream",
          "name": "stdout",
          "text": [
            "m1:\n",
            " [[3 2]\n",
            " [4 5]]\n",
            "\n",
            "m1*m1:\n",
            " [[ 9  4]\n",
            " [16 25]]\n",
            "\n",
            "m1@m1:\n",
            " [[17 16]\n",
            " [32 33]]\n"
          ]
        }
      ],
      "source": [
        "m1 = np.array([(3, 2), (4, 5)])\n",
        "print('m1:\\n', m1)\n",
        "print()\n",
        "print('m1*m1:\\n', m1*m1)\n",
        "print()\n",
        "print('m1@m1:\\n', m1@m1)"
      ]
    },
    {
      "cell_type": "code",
      "execution_count": 24,
      "id": "39ad998d-f914-458b-a383-9d3bb38a95cc",
      "metadata": {
        "id": "39ad998d-f914-458b-a383-9d3bb38a95cc",
        "colab": {
          "base_uri": "https://localhost:8080/"
        },
        "outputId": "793c4378-d702-4bb2-c7b0-e858a10632a7"
      },
      "outputs": [
        {
          "output_type": "stream",
          "name": "stdout",
          "text": [
            "v1*v1:\n",
            " [ 9  1 16]\n",
            "\n",
            "v1@v1:\n",
            " 26\n"
          ]
        }
      ],
      "source": [
        "v1 = np.array([3, 1, 4])\n",
        "print('v1*v1:\\n', v1*v1)\n",
        "print()\n",
        "print('v1@v1:\\n', v1@v1)"
      ]
    },
    {
      "cell_type": "markdown",
      "id": "1d1108c1-c13c-4a87-8e78-d79d4e9eaa2f",
      "metadata": {
        "tags": [],
        "id": "1d1108c1-c13c-4a87-8e78-d79d4e9eaa2f"
      },
      "source": [
        "## Forma y dimensiones de los arrays\n",
        "Un ndarray (o _array_) puede tener varias dimensiones, y, correspondientemente, varios ejes.\n",
        "\n",
        "Por ejemplo, el siguiente array tiene 2 ejes. El primer eje son las filas (tiene 2), y el segundo, las columnas (tiene 4)."
      ]
    },
    {
      "cell_type": "code",
      "execution_count": 25,
      "id": "6f40699b-062c-4661-8aa2-a91e838d0335",
      "metadata": {
        "id": "6f40699b-062c-4661-8aa2-a91e838d0335",
        "colab": {
          "base_uri": "https://localhost:8080/"
        },
        "outputId": "b252db8a-64a0-4c89-bb9e-a9b8d7372b2f"
      },
      "outputs": [
        {
          "output_type": "execute_result",
          "data": {
            "text/plain": [
              "array([[ 1,  2,  3,  4],\n",
              "       [10, 20, 30, 40]])"
            ]
          },
          "metadata": {},
          "execution_count": 25
        }
      ],
      "source": [
        "a = np.array([(1, 2, 3, 4), (10, 20, 30, 40)])\n",
        "a"
      ]
    },
    {
      "cell_type": "markdown",
      "id": "356e9d88-a0be-4c56-a675-49ebccff2464",
      "metadata": {
        "id": "356e9d88-a0be-4c56-a675-49ebccff2464"
      },
      "source": [
        "Algunos atributos interesantes de los arrays:\n",
        "\n",
        "- `ndim`: número de dimensiones\n",
        "- `shape`: tupla de enteros con el tamaño de cada dimension (longitud: `ndim`)\n",
        "- `size`: número total de elementos en el array (producto de los valores de `shape`)\n",
        "- `dtype`: tipo de los elementos del array\n",
        "- `itemsize`: tamaño en bytes de los elementos del array"
      ]
    },
    {
      "cell_type": "code",
      "execution_count": 26,
      "id": "5a879954-86ea-4feb-803d-24028583ddb0",
      "metadata": {
        "id": "5a879954-86ea-4feb-803d-24028583ddb0",
        "colab": {
          "base_uri": "https://localhost:8080/"
        },
        "outputId": "8909c444-1df4-4244-c902-65ce030fa86a"
      },
      "outputs": [
        {
          "output_type": "stream",
          "name": "stdout",
          "text": [
            "a.ndim: 2\n",
            "a.shape: (2, 4)\n",
            "a.size: 8\n",
            "a.dtype: int64\n",
            "a.itemsize: 8\n"
          ]
        }
      ],
      "source": [
        "for attr in 'ndim', 'shape', 'size', 'dtype', 'itemsize':\n",
        "    print(f\"a.{attr}: {getattr(a, attr)}\")    # getattr(a, 'ndim') <-> a a.ndim"
      ]
    },
    {
      "cell_type": "markdown",
      "id": "6cfb2108-08aa-4081-905a-556c69d20b6c",
      "metadata": {
        "id": "6cfb2108-08aa-4081-905a-556c69d20b6c"
      },
      "source": [
        "El método `reshape` permite redimensionar un array."
      ]
    },
    {
      "cell_type": "code",
      "execution_count": 27,
      "id": "54120543-f1ee-4aff-a338-f1a2658f8076",
      "metadata": {
        "id": "54120543-f1ee-4aff-a338-f1a2658f8076",
        "colab": {
          "base_uri": "https://localhost:8080/"
        },
        "outputId": "ebbbbc59-5c83-406e-99be-d4c5813b5fdc"
      },
      "outputs": [
        {
          "output_type": "stream",
          "name": "stdout",
          "text": [
            "Original 'a':\n",
            "[[ 1  2  3  4]\n",
            " [10 20 30 40]]\n",
            "\n",
            "Reshaped 'a1':\n",
            "[[ 1  2]\n",
            " [ 3  4]\n",
            " [10 20]\n",
            " [30 40]]\n"
          ]
        }
      ],
      "source": [
        "print(\"Original 'a':\")\n",
        "print(a)\n",
        "a1 = a.reshape(4,2)\n",
        "print(\"\\nReshaped 'a1':\")\n",
        "print(a1)"
      ]
    },
    {
      "cell_type": "markdown",
      "id": "f808998d-5c59-4bf2-a47c-281a80ba7522",
      "metadata": {
        "id": "f808998d-5c59-4bf2-a47c-281a80ba7522"
      },
      "source": [
        "Además de la forma, también se pueden cambiar las dimensiones"
      ]
    },
    {
      "cell_type": "code",
      "execution_count": 28,
      "id": "7ab22816-3952-4382-983b-705e7cf421c2",
      "metadata": {
        "id": "7ab22816-3952-4382-983b-705e7cf421c2",
        "colab": {
          "base_uri": "https://localhost:8080/"
        },
        "outputId": "4cd0eb67-d371-4d8c-dd15-674ce113a40e"
      },
      "outputs": [
        {
          "output_type": "execute_result",
          "data": {
            "text/plain": [
              "array([[[ 1,  2],\n",
              "        [ 3,  4]],\n",
              "\n",
              "       [[10, 20],\n",
              "        [30, 40]]])"
            ]
          },
          "metadata": {},
          "execution_count": 28
        }
      ],
      "source": [
        "a2 = a.reshape(2,2,2)\n",
        "a2"
      ]
    },
    {
      "cell_type": "markdown",
      "id": "8903cee1-3093-4696-bb50-2a1dee1b7014",
      "metadata": {
        "id": "8903cee1-3093-4696-bb50-2a1dee1b7014"
      },
      "source": [
        "Pero solo se puede redimensionar si se mantiene el número de elementos."
      ]
    },
    {
      "cell_type": "code",
      "execution_count": 29,
      "id": "b07d10b2-2e68-433f-ac98-52df1ed5b27f",
      "metadata": {
        "id": "b07d10b2-2e68-433f-ac98-52df1ed5b27f",
        "colab": {
          "base_uri": "https://localhost:8080/",
          "height": 144
        },
        "outputId": "7ccaf38d-f816-40a0-8b6a-8d34e01875df"
      },
      "outputs": [
        {
          "output_type": "error",
          "ename": "ValueError",
          "evalue": "cannot reshape array of size 8 into shape (4,3)",
          "traceback": [
            "\u001b[0;31m---------------------------------------------------------------------------\u001b[0m",
            "\u001b[0;31mValueError\u001b[0m                                Traceback (most recent call last)",
            "\u001b[0;32m/tmp/ipython-input-29-2036382685.py\u001b[0m in \u001b[0;36m<cell line: 0>\u001b[0;34m()\u001b[0m\n\u001b[0;32m----> 1\u001b[0;31m \u001b[0ma\u001b[0m\u001b[0;34m.\u001b[0m\u001b[0mreshape\u001b[0m\u001b[0;34m(\u001b[0m\u001b[0;36m4\u001b[0m\u001b[0;34m,\u001b[0m\u001b[0;36m3\u001b[0m\u001b[0;34m)\u001b[0m\u001b[0;34m\u001b[0m\u001b[0;34m\u001b[0m\u001b[0m\n\u001b[0m",
            "\u001b[0;31mValueError\u001b[0m: cannot reshape array of size 8 into shape (4,3)"
          ]
        }
      ],
      "source": [
        "a.reshape(4,3)"
      ]
    },
    {
      "cell_type": "markdown",
      "id": "da7e939a-2b81-47d5-8dfc-d00322e4071d",
      "metadata": {
        "id": "da7e939a-2b81-47d5-8dfc-d00322e4071d"
      },
      "source": [
        "También se puede incrementar el número de dimensiones de un array con el método `expand_dims`."
      ]
    },
    {
      "cell_type": "code",
      "execution_count": 30,
      "id": "4c94ae83-3489-4ae0-af88-6ae54a3e2fb0",
      "metadata": {
        "id": "4c94ae83-3489-4ae0-af88-6ae54a3e2fb0",
        "colab": {
          "base_uri": "https://localhost:8080/"
        },
        "outputId": "fecf73dc-5373-434c-8882-70f2f7f6fa78"
      },
      "outputs": [
        {
          "output_type": "stream",
          "name": "stdout",
          "text": [
            "\n",
            "Array with 1 dimensions and shape (3,):\n",
            "[1 2 3]\n",
            "\n",
            "Array with 2 dimensions and shape (1, 3):\n",
            "[[1 2 3]]\n",
            "\n",
            "Array with 2 dimensions and shape (3, 1):\n",
            "[[1]\n",
            " [2]\n",
            " [3]]\n"
          ]
        }
      ],
      "source": [
        "org = np.array([1, 2, 3])\n",
        "new1 = np.expand_dims(org, 0)\n",
        "new2 = np.expand_dims(org, 1)\n",
        "\n",
        "for x in org, new1, new2:\n",
        "    print(f\"\\nArray with {x.ndim} dimensions and shape {x.shape}:\\n{x}\")"
      ]
    },
    {
      "cell_type": "markdown",
      "id": "a40cbe4a-0865-442e-81e2-76dc2fa28c3e",
      "metadata": {
        "id": "a40cbe4a-0865-442e-81e2-76dc2fa28c3e"
      },
      "source": [
        "<br/>\n",
        "\n",
        "<div style=\"background-color:powderblue;\">\n",
        "\n",
        "**EJERCICIO 2:** Diferencias entre arrays y matrices fila.\n",
        "    \n",
        "- Dado el array `a`, redimensionarlo para tener una sola dimensión (`a1`) o dos dimensiones (matriz), pero una de ellas con longitud 1 (la primera dimensión, `a2`, y, la segunda, `a3`).\n",
        "    \n",
        "- Observar los tres arrays. Después, producir la _transpuesta_ de `a2` (`a4`), y comprobar si `np.array_equal(a3, a4)`.\n",
        "\n",
        "- Comprobar las diferencias en la multiplicación matricial `@` de algunos de los diferentes arrays consigo mismos, o con sus traspuestas."
      ]
    },
    {
      "cell_type": "code",
      "execution_count": 31,
      "id": "282ff11c-3e99-47a2-b43b-00c6ce127f5f",
      "metadata": {
        "id": "282ff11c-3e99-47a2-b43b-00c6ce127f5f",
        "colab": {
          "base_uri": "https://localhost:8080/"
        },
        "outputId": "431bc886-2a29-474e-87d5-a85c5f023633"
      },
      "outputs": [
        {
          "output_type": "execute_result",
          "data": {
            "text/plain": [
              "array([[ 1,  2,  3,  4],\n",
              "       [10, 20, 30, 40]])"
            ]
          },
          "metadata": {},
          "execution_count": 31
        }
      ],
      "source": [
        "a = np.array([(1, 2, 3, 4), (10, 20, 30, 40)])\n",
        "a"
      ]
    },
    {
      "cell_type": "markdown",
      "id": "982a425a-eec9-4329-bb20-c7ab6ffded75",
      "metadata": {
        "id": "982a425a-eec9-4329-bb20-c7ab6ffded75"
      },
      "source": [
        "### Operaciones en diferentes ejes de un array\n",
        "Algunos operadores aceptan un argumento `axis` para especificar si deben aplicarse en alguno de los dos ejes."
      ]
    },
    {
      "cell_type": "code",
      "execution_count": 32,
      "id": "41ed78d4-6448-4e60-8e79-97df294f94ef",
      "metadata": {
        "tags": [],
        "id": "41ed78d4-6448-4e60-8e79-97df294f94ef",
        "colab": {
          "base_uri": "https://localhost:8080/"
        },
        "outputId": "53bfe5b3-3a89-4509-9919-5739cd9c871c"
      },
      "outputs": [
        {
          "output_type": "stream",
          "name": "stdout",
          "text": [
            "Given this array...\n",
            "[[1. 1. 1. 1.]\n",
            " [1. 1. 1. 1.]]\n",
            "\n",
            "Sum of each column (per row)\n",
            "[2. 2. 2. 2.]\n",
            "\n",
            "Sum of each row (per column)\n",
            "[4. 4.]\n",
            "\n",
            "Total sum\n",
            "8.0\n"
          ]
        }
      ],
      "source": [
        "arr = np.ones([2, 4])\n",
        "print(\"Given this array...\")\n",
        "print(arr)\n",
        "\n",
        "print(\"\\nSum of each column (per row)\")\n",
        "print(arr.sum(axis=0))\n",
        "\n",
        "print(\"\\nSum of each row (per column)\")\n",
        "print(arr.sum(axis=1))\n",
        "\n",
        "print(\"\\nTotal sum\")\n",
        "print(arr.sum())"
      ]
    },
    {
      "cell_type": "markdown",
      "id": "038f3e4f-9f7d-4eec-bdd2-2b86c0934973",
      "metadata": {
        "tags": [],
        "id": "038f3e4f-9f7d-4eec-bdd2-2b86c0934973"
      },
      "source": [
        "### Broadcasting\n",
        "\n",
        "Además de operaciones entre arrays de las mismas dimensiones, también se pueden realizar operaciones entre arrays de diferentes dimensiones. Bajo ciertas condiciones, NumPy _extenderá_ (_broadcast_) el operando de menor tamaño para poder operar con el mayor.\n",
        "\n",
        "El caso más simple es operaciones entre un escalar y un array."
      ]
    },
    {
      "cell_type": "code",
      "execution_count": 33,
      "id": "30c52006-c8c8-4f34-b9b9-791cd830b2ac",
      "metadata": {
        "tags": [],
        "id": "30c52006-c8c8-4f34-b9b9-791cd830b2ac",
        "colab": {
          "base_uri": "https://localhost:8080/"
        },
        "outputId": "29744124-bc15-42ad-9519-924b486ea24b"
      },
      "outputs": [
        {
          "output_type": "stream",
          "name": "stdout",
          "text": [
            "a\n",
            " [[1. 1. 1. 1.]\n",
            " [1. 1. 1. 1.]]\n",
            "\n",
            "2*a\n",
            " [[2. 2. 2. 2.]\n",
            " [2. 2. 2. 2.]]\n",
            "\n",
            "a+3\n",
            " [[4. 4. 4. 4.]\n",
            " [4. 4. 4. 4.]]\n"
          ]
        }
      ],
      "source": [
        "a = np.ones([2, 4])\n",
        "print(\"a\\n\", a)\n",
        "\n",
        "print(\"\\n2*a\\n\", 2*a)\n",
        "\n",
        "print(\"\\na+3\\n\", a+3)"
      ]
    },
    {
      "cell_type": "markdown",
      "id": "7229137d-1a07-49bc-a43b-5a76ce5d83f3",
      "metadata": {
        "tags": [],
        "id": "7229137d-1a07-49bc-a43b-5a76ce5d83f3"
      },
      "source": [
        "En general, el  broadcasting compara el tamaño de cada dimensión, desde la última a la primera. Si las dimensiones de los dos operandos tiene el mismo tamaño, o la dimensión de uno de ellos es 1 (o no existe), la operación se puede realizar."
      ]
    },
    {
      "cell_type": "code",
      "execution_count": 34,
      "id": "e47bd3a8-e21e-414e-8da6-733d13317b2e",
      "metadata": {
        "id": "e47bd3a8-e21e-414e-8da6-733d13317b2e",
        "colab": {
          "base_uri": "https://localhost:8080/"
        },
        "outputId": "52c338c0-4dcd-4b58-e65d-743fbbeb952d"
      },
      "outputs": [
        {
          "output_type": "stream",
          "name": "stdout",
          "text": [
            "a shape: (2, 3) \n",
            " [[1. 1. 1.]\n",
            " [1. 1. 1.]]\n",
            "\n",
            "b shape: (1, 3) \n",
            " [[1 2 3]]\n",
            "\n",
            "a+b shape: (2, 3) \n",
            " [[2. 3. 4.]\n",
            " [2. 3. 4.]]\n"
          ]
        }
      ],
      "source": [
        "a = np.ones([2, 3])\n",
        "print(\"a shape:\", a.shape, \"\\n\", a)\n",
        "\n",
        "b = np.array([[1, 2, 3]])\n",
        "print(\"\\nb shape:\", b.shape, \"\\n\", b)\n",
        "\n",
        "print(\"\\na+b shape:\", (a+b).shape, \"\\n\", a+b)"
      ]
    },
    {
      "cell_type": "code",
      "execution_count": 35,
      "id": "23810e77-75a9-4225-ba28-867d8334f771",
      "metadata": {
        "id": "23810e77-75a9-4225-ba28-867d8334f771",
        "colab": {
          "base_uri": "https://localhost:8080/"
        },
        "outputId": "e6d9a88d-5d0f-4737-f95e-2691b97ab148"
      },
      "outputs": [
        {
          "output_type": "stream",
          "name": "stdout",
          "text": [
            "a shape: (2, 2, 3) \n",
            " [[[1. 1. 1.]\n",
            "  [1. 1. 1.]]\n",
            "\n",
            " [[1. 1. 1.]\n",
            "  [1. 1. 1.]]]\n",
            "\n",
            "b shape: (1, 3) \n",
            " [[1 2 3]]\n",
            "\n",
            "a+b shape: (2, 2, 3) \n",
            " [[[2. 3. 4.]\n",
            "  [2. 3. 4.]]\n",
            "\n",
            " [[2. 3. 4.]\n",
            "  [2. 3. 4.]]]\n"
          ]
        }
      ],
      "source": [
        "a = np.ones([2, 2, 3])\n",
        "print(\"a shape:\", a.shape, \"\\n\", a)\n",
        "\n",
        "b = np.array([[1, 2, 3]])\n",
        "print(\"\\nb shape:\", b.shape, \"\\n\", b)\n",
        "\n",
        "print(\"\\na+b shape:\", (a+b).shape, \"\\n\", a+b)"
      ]
    },
    {
      "cell_type": "code",
      "execution_count": 36,
      "id": "0d7dc42a-578d-4888-bb3d-1ec7b964f8b7",
      "metadata": {
        "id": "0d7dc42a-578d-4888-bb3d-1ec7b964f8b7",
        "colab": {
          "base_uri": "https://localhost:8080/"
        },
        "outputId": "11be4efb-6f77-4e5b-c8f8-35d2f8774600"
      },
      "outputs": [
        {
          "output_type": "stream",
          "name": "stdout",
          "text": [
            "a shape: (1, 3) \n",
            " [[1. 1. 1.]]\n",
            "\n",
            "b shape: (3, 1) \n",
            " [[1.]\n",
            " [1.]\n",
            " [1.]]\n",
            "\n",
            "a+b shape: (3, 3) \n",
            " [[2. 2. 2.]\n",
            " [2. 2. 2.]\n",
            " [2. 2. 2.]]\n"
          ]
        }
      ],
      "source": [
        "a = np.ones([1, 3])\n",
        "print(\"a shape:\", a.shape, \"\\n\", a)\n",
        "\n",
        "b = np.ones([3, 1])\n",
        "print(\"\\nb shape:\", b.shape, \"\\n\", b)\n",
        "\n",
        "print(\"\\na+b shape:\", (a+b).shape, \"\\n\", a+b)"
      ]
    },
    {
      "cell_type": "markdown",
      "id": "3c06d34c-a4ba-4ca2-b9eb-9b0fd5ac5510",
      "metadata": {
        "id": "3c06d34c-a4ba-4ca2-b9eb-9b0fd5ac5510"
      },
      "source": [
        "## Manipulación de arrays"
      ]
    },
    {
      "cell_type": "markdown",
      "id": "cb4cf4be-ff8d-4eb6-abfe-9f9dcb0b4c54",
      "metadata": {
        "id": "cb4cf4be-ff8d-4eb6-abfe-9f9dcb0b4c54"
      },
      "source": [
        "### Concatenación\n",
        "Podemos usar `concatenate` para unir en una dimensión (eje) existente."
      ]
    },
    {
      "cell_type": "code",
      "execution_count": 37,
      "id": "2c2989ff-614d-4cd1-b97b-085220373c3b",
      "metadata": {
        "id": "2c2989ff-614d-4cd1-b97b-085220373c3b",
        "colab": {
          "base_uri": "https://localhost:8080/"
        },
        "outputId": "8e2a79ae-8ac3-4880-c0f0-f36176c63d3f"
      },
      "outputs": [
        {
          "output_type": "stream",
          "name": "stdout",
          "text": [
            "[1 1 1 1]\n",
            "[8 8 8 8]\n",
            "(4,)\n"
          ]
        }
      ],
      "source": [
        "v1 = np.array([1, 1, 1, 1])\n",
        "v2 = np.array([8, 8, 8, 8])\n",
        "print(v1)\n",
        "print(v2)\n",
        "print(v1.shape)"
      ]
    },
    {
      "cell_type": "code",
      "execution_count": 38,
      "id": "93b43ab3-294e-4064-b784-8cce49f39087",
      "metadata": {
        "id": "93b43ab3-294e-4064-b784-8cce49f39087",
        "colab": {
          "base_uri": "https://localhost:8080/"
        },
        "outputId": "bba8dacf-1358-46f3-b6de-674efcb7b01c"
      },
      "outputs": [
        {
          "output_type": "stream",
          "name": "stdout",
          "text": [
            "[1 1 1 1 8 8 8 8]\n",
            "(8,)\n"
          ]
        }
      ],
      "source": [
        "v3_h = np.concatenate([v1, v2])\n",
        "print(v3_h)\n",
        "print(v3_h.shape)"
      ]
    },
    {
      "cell_type": "markdown",
      "id": "69f33d08-93ef-4f5c-bdca-f5bc0731fc62",
      "metadata": {
        "id": "69f33d08-93ef-4f5c-bdca-f5bc0731fc62"
      },
      "source": [
        "Podemos usar `stack` para unir en un nuevo eje (aumentando la dimensión en el resultado)"
      ]
    },
    {
      "cell_type": "code",
      "execution_count": 39,
      "id": "4ca1adfd-804d-4542-8481-92d701553a17",
      "metadata": {
        "id": "4ca1adfd-804d-4542-8481-92d701553a17",
        "colab": {
          "base_uri": "https://localhost:8080/"
        },
        "outputId": "461af905-6739-4e55-e737-f7331322adae"
      },
      "outputs": [
        {
          "output_type": "stream",
          "name": "stdout",
          "text": [
            "[[1 1 1 1]\n",
            " [8 8 8 8]]\n",
            "(2, 4)\n"
          ]
        }
      ],
      "source": [
        "v3_v = np.stack([v1, v2])\n",
        "print(v3_v)\n",
        "print(v3_v.shape)"
      ]
    },
    {
      "cell_type": "markdown",
      "id": "403893f2-4426-4af3-88f0-27cb0736c86e",
      "metadata": {
        "id": "403893f2-4426-4af3-88f0-27cb0736c86e"
      },
      "source": [
        "<br/>\n",
        "\n",
        "En estos métodos, podemos usar el argumento `axis` para elegir la dimensión sobre la que operamos (por defecto, 0)."
      ]
    },
    {
      "cell_type": "code",
      "execution_count": 40,
      "id": "16156d58-2b87-46a8-92e1-0280386bd5f2",
      "metadata": {
        "id": "16156d58-2b87-46a8-92e1-0280386bd5f2",
        "colab": {
          "base_uri": "https://localhost:8080/"
        },
        "outputId": "106837ce-a500-4712-8c24-b3482d643e2d"
      },
      "outputs": [
        {
          "output_type": "execute_result",
          "data": {
            "text/plain": [
              "array([[1, 1, 1, 1],\n",
              "       [8, 8, 8, 8],\n",
              "       [1, 1, 1, 1],\n",
              "       [8, 8, 8, 8]])"
            ]
          },
          "metadata": {},
          "execution_count": 40
        }
      ],
      "source": [
        "np.concatenate([v3_v, v3_v])"
      ]
    },
    {
      "cell_type": "code",
      "execution_count": 41,
      "id": "72785786-3213-443b-a774-48c2ef7b649d",
      "metadata": {
        "id": "72785786-3213-443b-a774-48c2ef7b649d",
        "colab": {
          "base_uri": "https://localhost:8080/"
        },
        "outputId": "a8da3009-59bc-4fe7-b283-3a82837ddce4"
      },
      "outputs": [
        {
          "output_type": "execute_result",
          "data": {
            "text/plain": [
              "array([[1, 1, 1, 1, 1, 1, 1, 1],\n",
              "       [8, 8, 8, 8, 8, 8, 8, 8]])"
            ]
          },
          "metadata": {},
          "execution_count": 41
        }
      ],
      "source": [
        "np.concatenate([v3_v, v3_v], axis=1)"
      ]
    },
    {
      "cell_type": "markdown",
      "id": "957dee6f-934a-4e46-915c-97103c049f46",
      "metadata": {
        "id": "957dee6f-934a-4e46-915c-97103c049f46"
      },
      "source": [
        "<br/>\n",
        "\n",
        "También podemos usar los métodos más específicos `hstack` y `vstack`, que hacen una concatenación horizontal y vertical respectivamente."
      ]
    },
    {
      "cell_type": "code",
      "execution_count": 42,
      "id": "5f27eb44-92fd-4731-a445-8bfaf7025552",
      "metadata": {
        "id": "5f27eb44-92fd-4731-a445-8bfaf7025552",
        "colab": {
          "base_uri": "https://localhost:8080/"
        },
        "outputId": "7dd51ff8-fba9-47cb-85cd-a9f569059ca5"
      },
      "outputs": [
        {
          "output_type": "execute_result",
          "data": {
            "text/plain": [
              "array([[1, 1, 1, 1],\n",
              "       [8, 8, 8, 8]])"
            ]
          },
          "metadata": {},
          "execution_count": 42
        }
      ],
      "source": [
        "np.vstack([v1, v2])"
      ]
    },
    {
      "cell_type": "code",
      "execution_count": 43,
      "id": "5bc417c9-b264-4807-a45d-608839a1d7ff",
      "metadata": {
        "id": "5bc417c9-b264-4807-a45d-608839a1d7ff",
        "colab": {
          "base_uri": "https://localhost:8080/"
        },
        "outputId": "6d3687c7-90ab-4efe-caad-6296a52527f6"
      },
      "outputs": [
        {
          "output_type": "execute_result",
          "data": {
            "text/plain": [
              "array([[1, 1, 1, 1],\n",
              "       [8, 8, 8, 8],\n",
              "       [1, 1, 1, 1],\n",
              "       [8, 8, 8, 8]])"
            ]
          },
          "metadata": {},
          "execution_count": 43
        }
      ],
      "source": [
        "np.vstack([v3_v, v3_v])"
      ]
    },
    {
      "cell_type": "code",
      "execution_count": 44,
      "id": "f28bd9aa-efae-4d27-a20f-3f0190ef0cb8",
      "metadata": {
        "id": "f28bd9aa-efae-4d27-a20f-3f0190ef0cb8",
        "colab": {
          "base_uri": "https://localhost:8080/"
        },
        "outputId": "7236b69a-3bcb-4378-c940-2447c6f42457"
      },
      "outputs": [
        {
          "output_type": "execute_result",
          "data": {
            "text/plain": [
              "array([1, 1, 1, 1, 8, 8, 8, 8])"
            ]
          },
          "metadata": {},
          "execution_count": 44
        }
      ],
      "source": [
        "np.hstack([v1, v2])"
      ]
    },
    {
      "cell_type": "code",
      "execution_count": 45,
      "id": "f8074d11-cb38-421b-b2bd-d1a40af1d6d9",
      "metadata": {
        "id": "f8074d11-cb38-421b-b2bd-d1a40af1d6d9",
        "colab": {
          "base_uri": "https://localhost:8080/"
        },
        "outputId": "fe021a0d-9fe1-4035-907b-05280e111c30"
      },
      "outputs": [
        {
          "output_type": "execute_result",
          "data": {
            "text/plain": [
              "array([[1, 1, 1, 1, 1, 1, 1, 1],\n",
              "       [8, 8, 8, 8, 8, 8, 8, 8]])"
            ]
          },
          "metadata": {},
          "execution_count": 45
        }
      ],
      "source": [
        "np.hstack([v3_v, v3_v])"
      ]
    },
    {
      "cell_type": "markdown",
      "id": "50879802-5324-404b-bb9d-db165da9d4b5",
      "metadata": {
        "id": "50879802-5324-404b-bb9d-db165da9d4b5"
      },
      "source": [
        "### División\n",
        "Para dividir arrays, podemos usar `split`, `vsplit` y `hsplit`, entre otros."
      ]
    },
    {
      "cell_type": "code",
      "execution_count": 46,
      "id": "5790cb4d-5721-4ba4-a9d7-cf26b43f3b48",
      "metadata": {
        "id": "5790cb4d-5721-4ba4-a9d7-cf26b43f3b48",
        "colab": {
          "base_uri": "https://localhost:8080/"
        },
        "outputId": "b60cad6d-2561-42ff-c989-f26f03c1e812"
      },
      "outputs": [
        {
          "output_type": "stream",
          "name": "stdout",
          "text": [
            "Partimos de:\n",
            "[[1 1 1 1]\n",
            " [8 8 8 8]]\n",
            "\n",
            "Con dimensiones: (2, 4)\n"
          ]
        }
      ],
      "source": [
        "print(f'Partimos de:\\n{v3_v}\\n')\n",
        "print('Con dimensiones:', v3_v.shape)"
      ]
    },
    {
      "cell_type": "code",
      "execution_count": 47,
      "id": "a69275d9-2336-45a4-aa03-4d4d289abffc",
      "metadata": {
        "id": "a69275d9-2336-45a4-aa03-4d4d289abffc",
        "colab": {
          "base_uri": "https://localhost:8080/"
        },
        "outputId": "5502f601-6f1a-48ac-900c-40c91c3b1fed"
      },
      "outputs": [
        {
          "output_type": "stream",
          "name": "stdout",
          "text": [
            "a: [[1 1 1 1]]\n",
            "b: [[8 8 8 8]]\n",
            "(1, 4)\n"
          ]
        }
      ],
      "source": [
        "a, b = np.vsplit(v3_v, 2)\n",
        "print('a:', a)\n",
        "print('b:', b)\n",
        "print(a.shape)"
      ]
    },
    {
      "cell_type": "code",
      "execution_count": 48,
      "id": "db2511b8-7016-4376-bbcf-dd69a5eb38d3",
      "metadata": {
        "id": "db2511b8-7016-4376-bbcf-dd69a5eb38d3",
        "colab": {
          "base_uri": "https://localhost:8080/"
        },
        "outputId": "c5beeba5-fd58-4fe6-bd5a-3b1a8cbf3f93"
      },
      "outputs": [
        {
          "output_type": "stream",
          "name": "stdout",
          "text": [
            "[[1]\n",
            " [8]]\n",
            "(2, 1)\n"
          ]
        }
      ],
      "source": [
        "a, b, c, d = np.hsplit(v3_v, 4)\n",
        "print(a)\n",
        "print(a.shape)"
      ]
    },
    {
      "cell_type": "markdown",
      "id": "11f56d14-85ed-4a8c-8719-d693f8734858",
      "metadata": {
        "id": "11f56d14-85ed-4a8c-8719-d693f8734858"
      },
      "source": [
        "### Otros\n",
        "Para eliminar elementos de un array se puede usar `numpy.delete`."
      ]
    },
    {
      "cell_type": "code",
      "execution_count": 49,
      "id": "6b09331d-a116-4144-a895-87c188822a1c",
      "metadata": {
        "id": "6b09331d-a116-4144-a895-87c188822a1c",
        "colab": {
          "base_uri": "https://localhost:8080/"
        },
        "outputId": "3502a27c-329f-4e88-df2a-0bdcc93a87b4"
      },
      "outputs": [
        {
          "output_type": "execute_result",
          "data": {
            "text/plain": [
              "array([[ 0,  1,  2,  3],\n",
              "       [ 4,  5,  6,  7],\n",
              "       [ 8,  9, 10, 11]])"
            ]
          },
          "metadata": {},
          "execution_count": 49
        }
      ],
      "source": [
        "arr = np.arange(12).reshape(3,4)\n",
        "arr"
      ]
    },
    {
      "cell_type": "code",
      "execution_count": 50,
      "id": "006d54b4-d462-4074-9712-5fa994d9fe68",
      "metadata": {
        "id": "006d54b4-d462-4074-9712-5fa994d9fe68",
        "colab": {
          "base_uri": "https://localhost:8080/"
        },
        "outputId": "b3e3fe82-9637-4693-db50-6b9108fa222e"
      },
      "outputs": [
        {
          "output_type": "execute_result",
          "data": {
            "text/plain": [
              "array([[ 0,  1,  2,  3],\n",
              "       [ 8,  9, 10, 11]])"
            ]
          },
          "metadata": {},
          "execution_count": 50
        }
      ],
      "source": [
        "# Borrar segunda fila\n",
        "np.delete(arr, 1, axis=0)"
      ]
    },
    {
      "cell_type": "code",
      "execution_count": 51,
      "id": "35f83b88-9856-4a06-991b-350e213c7b6f",
      "metadata": {
        "id": "35f83b88-9856-4a06-991b-350e213c7b6f",
        "colab": {
          "base_uri": "https://localhost:8080/"
        },
        "outputId": "caeaf806-a5cd-4072-b1a9-ae604e859747"
      },
      "outputs": [
        {
          "output_type": "execute_result",
          "data": {
            "text/plain": [
              "array([[ 2,  3],\n",
              "       [ 6,  7],\n",
              "       [10, 11]])"
            ]
          },
          "metadata": {},
          "execution_count": 51
        }
      ],
      "source": [
        "# Borrar primera y segunda columnas\n",
        "np.delete(arr, [0,1], axis=1)"
      ]
    },
    {
      "cell_type": "markdown",
      "id": "9fa62400-d4bb-49c2-a4d8-245d915c95fd",
      "metadata": {
        "id": "9fa62400-d4bb-49c2-a4d8-245d915c95fd"
      },
      "source": [
        "<br/>\n",
        "\n",
        "Con `numpy.insert` se pueden añadir elementos a un array, indicando su posición, tanto en 1, como en varias dimensiones."
      ]
    },
    {
      "cell_type": "code",
      "execution_count": 52,
      "id": "35799d32-8e6f-4f21-96aa-d2f46d635e86",
      "metadata": {
        "id": "35799d32-8e6f-4f21-96aa-d2f46d635e86",
        "colab": {
          "base_uri": "https://localhost:8080/"
        },
        "outputId": "72441caf-c914-472e-8728-ce1aac6a0716"
      },
      "outputs": [
        {
          "output_type": "stream",
          "name": "stdout",
          "text": [
            "[1 1 1 1]\n",
            "[ 1  1 99 99  1  1]\n"
          ]
        }
      ],
      "source": [
        "print(v1)\n",
        "print(np.insert(v1, 2, [99, 99]))"
      ]
    },
    {
      "cell_type": "code",
      "execution_count": 53,
      "id": "0b7633ba-f54f-4902-b6e0-fb2aee503910",
      "metadata": {
        "id": "0b7633ba-f54f-4902-b6e0-fb2aee503910",
        "colab": {
          "base_uri": "https://localhost:8080/"
        },
        "outputId": "2cf4a50e-4f50-4f8e-afae-4c25e32ae6d8"
      },
      "outputs": [
        {
          "output_type": "stream",
          "name": "stdout",
          "text": [
            "[[ 0  1  2  3]\n",
            " [ 4  5  6  7]\n",
            " [ 8  9 10 11]]\n",
            "\n",
            "[[ 0  1  2  3]\n",
            " [ 4  5  6  7]\n",
            " [99 99 99 99]\n",
            " [ 8  9 10 11]]\n",
            "\n",
            "[[ 0  1 88  2  3]\n",
            " [ 4  5 88  6  7]\n",
            " [ 8  9 88 10 11]]\n"
          ]
        }
      ],
      "source": [
        "print(arr)\n",
        "print()\n",
        "print(np.insert(arr, 2, [99, 99, 99, 99], axis=0))\n",
        "print()\n",
        "print(np.insert(arr, 2, [88, 88, 88], axis=1))"
      ]
    },
    {
      "cell_type": "markdown",
      "id": "f6a5f8fb-fcf0-4853-8980-ce1fdbc7ff1e",
      "metadata": {
        "id": "f6a5f8fb-fcf0-4853-8980-ce1fdbc7ff1e"
      },
      "source": [
        "<br/>\n",
        "\n",
        "Si no se especifica `axis`, el efecto es el de _aplanar_ el array (como si usara la función `flatten`)."
      ]
    },
    {
      "cell_type": "code",
      "execution_count": 54,
      "id": "b7c1df6a-4698-4c59-b22f-0082ac61101e",
      "metadata": {
        "id": "b7c1df6a-4698-4c59-b22f-0082ac61101e",
        "colab": {
          "base_uri": "https://localhost:8080/"
        },
        "outputId": "07aab36b-5d1f-405b-bf6c-388f4e7e9a6d"
      },
      "outputs": [
        {
          "output_type": "stream",
          "name": "stdout",
          "text": [
            "[ 0  1  2  3  4  5  6  7  8  9 10 11]\n",
            "\n",
            "[  0   1   2 999 999   3   4   5   6   7   8   9  10  11]\n"
          ]
        }
      ],
      "source": [
        "print(arr.flatten())\n",
        "print()\n",
        "print(np.insert(arr, 3, (999, 999)))"
      ]
    },
    {
      "cell_type": "markdown",
      "id": "3ec6378b-34c4-4f5c-9f98-b1189420297f",
      "metadata": {
        "id": "3ec6378b-34c4-4f5c-9f98-b1189420297f"
      },
      "source": [
        "<br/>\n",
        "\n",
        "La función `append` funciona como `insert`, pero añade los elementos al final del array."
      ]
    },
    {
      "cell_type": "code",
      "execution_count": 55,
      "id": "57f4856e-355e-42a1-afe4-ddf1d018af8e",
      "metadata": {
        "id": "57f4856e-355e-42a1-afe4-ddf1d018af8e",
        "colab": {
          "base_uri": "https://localhost:8080/"
        },
        "outputId": "832c9692-85db-4365-e256-f18812238192"
      },
      "outputs": [
        {
          "output_type": "stream",
          "name": "stdout",
          "text": [
            "[1 1 1 1]\n",
            "[ 1  1  1  1 99 99]\n"
          ]
        }
      ],
      "source": [
        "print(v1)\n",
        "print(np.append(v1, [99, 99]))"
      ]
    },
    {
      "cell_type": "markdown",
      "id": "2ff638ba-17e1-4c73-a5dd-06155dc21278",
      "metadata": {
        "id": "2ff638ba-17e1-4c73-a5dd-06155dc21278"
      },
      "source": [
        "<br/>\n",
        "\n",
        "<div style=\"background-color:powderblue;\">\n",
        "\n",
        "**EJERCICIO 3:**\n",
        "\n",
        "- Dados los arrays `a1` y `a2`, producir un array resultado de unir los anteriores, con forma 2x3.\n",
        "    \n",
        "- Dados los arrays `a3` y `a4`, producir un array resultado de unir los anteriores, con forma 4x3.\n",
        "    \n",
        "- Dados los arrays `a3` y `a4`, producir un array resultado de unir los anteriores, con forma 2x6.    "
      ]
    },
    {
      "cell_type": "code",
      "execution_count": 56,
      "id": "969fc1a4-c4ea-448e-b200-a03891102115",
      "metadata": {
        "id": "969fc1a4-c4ea-448e-b200-a03891102115"
      },
      "outputs": [],
      "source": [
        "a1 = np.array([1, 1, 1])\n",
        "a2 = np.array([2, 2, 2])\n",
        "a3 = np.array([[1, 1, 1], [2, 2, 2]])\n",
        "a4 = np.array([[3, 3, 3], [4, 4, 4]])"
      ]
    },
    {
      "cell_type": "markdown",
      "id": "10d531bd-c7d9-47b7-9ccd-61a856e6dfd7",
      "metadata": {
        "id": "10d531bd-c7d9-47b7-9ccd-61a856e6dfd7"
      },
      "source": [
        "## Vistas y copias\n",
        "En NumPy una _vista_ (_view_) de un ndarray es un objeto que nos permite acceder a la información del array original de una manera diferente. De esta manera, ofrece un nuevo interfaz, pero los datos son los originales (no se replican).\n",
        "\n",
        "La manera más habitual de crear una vista es con la operación de _slice_ sobre un array (ver más abajo), pero también se puede crear con el método `view`, por ejemplo para cambiar el _dtype_ de un array (algo quizás no muy recomendable)."
      ]
    },
    {
      "cell_type": "code",
      "execution_count": 57,
      "id": "5431aa48-9ddf-4252-a17b-7806b462d985",
      "metadata": {
        "id": "5431aa48-9ddf-4252-a17b-7806b462d985",
        "colab": {
          "base_uri": "https://localhost:8080/"
        },
        "outputId": "d14ca988-0c4d-40eb-83be-ce370b778867"
      },
      "outputs": [
        {
          "output_type": "stream",
          "name": "stdout",
          "text": [
            "[0 1 2 3 4 5 6 7 8 9]\n"
          ]
        }
      ],
      "source": [
        "org = np.arange(10, dtype='int16')\n",
        "print(org)"
      ]
    },
    {
      "cell_type": "code",
      "execution_count": 58,
      "id": "959d075d-ba14-4f14-a42a-869a44686324",
      "metadata": {
        "id": "959d075d-ba14-4f14-a42a-869a44686324",
        "colab": {
          "base_uri": "https://localhost:8080/"
        },
        "outputId": "960c0e9e-1b7f-4527-c7f1-76bb2b17cf90"
      },
      "outputs": [
        {
          "output_type": "stream",
          "name": "stdout",
          "text": [
            "[ 65536 196610 327684 458758 589832]\n"
          ]
        }
      ],
      "source": [
        "# Reinterpretamos los bytes agrupándolos de 4 en 4\n",
        "view = org.view('int32')\n",
        "print(view)"
      ]
    },
    {
      "cell_type": "code",
      "execution_count": 59,
      "id": "244e107b-b49a-44bb-b8c5-c62606fc3d62",
      "metadata": {
        "id": "244e107b-b49a-44bb-b8c5-c62606fc3d62",
        "colab": {
          "base_uri": "https://localhost:8080/"
        },
        "outputId": "2de36078-a02d-4695-c40a-76cdbfba0348"
      },
      "outputs": [
        {
          "output_type": "stream",
          "name": "stdout",
          "text": [
            "[ 65537 196611 327685 458759 589833]\n"
          ]
        }
      ],
      "source": [
        "# Realizamos una modificación, y afectamos al array original\n",
        "view += 1\n",
        "print(view)"
      ]
    },
    {
      "cell_type": "code",
      "execution_count": 60,
      "id": "774dd5c1-fa74-4116-b9af-02be82a1dbf9",
      "metadata": {
        "id": "774dd5c1-fa74-4116-b9af-02be82a1dbf9",
        "colab": {
          "base_uri": "https://localhost:8080/"
        },
        "outputId": "e71e4c13-7244-472b-8bc5-1b3bbd6db2f6"
      },
      "outputs": [
        {
          "output_type": "stream",
          "name": "stdout",
          "text": [
            "[1 1 3 3 5 5 7 7 9 9]\n"
          ]
        }
      ],
      "source": [
        "print(org)"
      ]
    },
    {
      "cell_type": "markdown",
      "id": "dacd7531-b382-4cc5-a522-47801b9ebac3",
      "metadata": {
        "id": "dacd7531-b382-4cc5-a522-47801b9ebac3"
      },
      "source": [
        "## Indexar, seleccionar y filtrar\n",
        "\n",
        "Con los ndarrays se pueden utilizar las mismas operaciones de indexado y _slicing_ que con una lista Python normal, con el añadido de que se pueden combinar para varios ejes a la vez (usando `,`).\n",
        "\n",
        "**Importante:** Al contrario que en el slice de listas Python, con los ndarrays esta operación devuelve _vistas_ del ndarray subyacente, no un nuevo objeto (copia)."
      ]
    },
    {
      "cell_type": "code",
      "execution_count": 61,
      "id": "c200ded0-58a9-4bf0-ba35-43cbfce15c83",
      "metadata": {
        "id": "c200ded0-58a9-4bf0-ba35-43cbfce15c83",
        "colab": {
          "base_uri": "https://localhost:8080/"
        },
        "outputId": "bb76ef76-86bd-46e5-a0e6-3824181fba4d"
      },
      "outputs": [
        {
          "output_type": "execute_result",
          "data": {
            "text/plain": [
              "array([[ 1,  2,  3,  4],\n",
              "       [10, 20, 30, 40]])"
            ]
          },
          "metadata": {},
          "execution_count": 61
        }
      ],
      "source": [
        "a = np.array([(1, 2, 3, 4), (10, 20, 30, 40)])\n",
        "a"
      ]
    },
    {
      "cell_type": "code",
      "execution_count": 62,
      "id": "46ab8cf1-cbce-4636-98e1-96d16283dc43",
      "metadata": {
        "id": "46ab8cf1-cbce-4636-98e1-96d16283dc43",
        "colab": {
          "base_uri": "https://localhost:8080/"
        },
        "outputId": "a6aedbfb-20c0-4e92-9003-951739b1cb52"
      },
      "outputs": [
        {
          "output_type": "stream",
          "name": "stdout",
          "text": [
            "[1 2 3 4]\n"
          ]
        }
      ],
      "source": [
        "# Seleccionar el primer elemento del eje 0 (primera fila)\n",
        "print(a[0])"
      ]
    },
    {
      "cell_type": "markdown",
      "id": "7bd69b2f-76bc-4bc7-8ea7-e46d50342a6c",
      "metadata": {
        "id": "7bd69b2f-76bc-4bc7-8ea7-e46d50342a6c"
      },
      "source": [
        "Veamos que la selección es una _view_"
      ]
    },
    {
      "cell_type": "code",
      "execution_count": 63,
      "id": "217cd8b2-29d3-4e16-9166-45cef24c5d04",
      "metadata": {
        "id": "217cd8b2-29d3-4e16-9166-45cef24c5d04",
        "colab": {
          "base_uri": "https://localhost:8080/"
        },
        "outputId": "c2eb9be3-fe49-4729-d3fc-2c63fc1a68a9"
      },
      "outputs": [
        {
          "output_type": "execute_result",
          "data": {
            "text/plain": [
              "array([ 1, 99,  3,  4])"
            ]
          },
          "metadata": {},
          "execution_count": 63
        }
      ],
      "source": [
        "sub = a[0]\n",
        "sub[1] = 99\n",
        "sub"
      ]
    },
    {
      "cell_type": "code",
      "execution_count": 64,
      "id": "ef4ea2c2-5c73-4b3e-bcce-95b309788ae6",
      "metadata": {
        "id": "ef4ea2c2-5c73-4b3e-bcce-95b309788ae6",
        "colab": {
          "base_uri": "https://localhost:8080/"
        },
        "outputId": "1f56af1b-a598-44b2-c6bd-4daf7b56423f"
      },
      "outputs": [
        {
          "output_type": "execute_result",
          "data": {
            "text/plain": [
              "array([[ 1, 99,  3,  4],\n",
              "       [10, 20, 30, 40]])"
            ]
          },
          "metadata": {},
          "execution_count": 64
        }
      ],
      "source": [
        "a"
      ]
    },
    {
      "cell_type": "markdown",
      "id": "71087284-20ff-4eac-8556-aaea69586129",
      "metadata": {
        "id": "71087284-20ff-4eac-8556-aaea69586129"
      },
      "source": [
        "No ocurre lo mismo con listas Python, cuyo _slice_ devuelve un objeto nuevo (copia)."
      ]
    },
    {
      "cell_type": "code",
      "execution_count": 65,
      "id": "e634ae0c-a135-4c7e-95b0-45a671da8c32",
      "metadata": {
        "id": "e634ae0c-a135-4c7e-95b0-45a671da8c32",
        "colab": {
          "base_uri": "https://localhost:8080/"
        },
        "outputId": "3dde84d4-093d-462d-9118-03599dee1da0"
      },
      "outputs": [
        {
          "output_type": "stream",
          "name": "stdout",
          "text": [
            "[1, 2, 3, 4]\n"
          ]
        }
      ],
      "source": [
        "l1 = [1, 2, 3, 4]\n",
        "print(l1)"
      ]
    },
    {
      "cell_type": "code",
      "execution_count": 66,
      "id": "4ddc87cd-5603-4145-a7af-3fca7bc5d823",
      "metadata": {
        "id": "4ddc87cd-5603-4145-a7af-3fca7bc5d823",
        "colab": {
          "base_uri": "https://localhost:8080/"
        },
        "outputId": "0b9d5f03-af5e-4c37-ef24-0c008edeb715"
      },
      "outputs": [
        {
          "output_type": "execute_result",
          "data": {
            "text/plain": [
              "[99, 2]"
            ]
          },
          "metadata": {},
          "execution_count": 66
        }
      ],
      "source": [
        "sub = l1[:2]\n",
        "sub[0] = 99\n",
        "sub"
      ]
    },
    {
      "cell_type": "code",
      "execution_count": 67,
      "id": "b48bfd3e-605b-46f3-ad4c-9740c79a22f5",
      "metadata": {
        "id": "b48bfd3e-605b-46f3-ad4c-9740c79a22f5",
        "colab": {
          "base_uri": "https://localhost:8080/"
        },
        "outputId": "8a35a1db-479a-442c-f1c2-09beb73c7bf2"
      },
      "outputs": [
        {
          "output_type": "execute_result",
          "data": {
            "text/plain": [
              "[1, 2, 3, 4]"
            ]
          },
          "metadata": {},
          "execution_count": 67
        }
      ],
      "source": [
        "l1"
      ]
    },
    {
      "cell_type": "markdown",
      "id": "28f97210-cc14-4b90-a2a2-0ea1e0fe7a63",
      "metadata": {
        "id": "28f97210-cc14-4b90-a2a2-0ea1e0fe7a63"
      },
      "source": [
        "<br/>\n",
        "\n",
        "Veamos otras formas de _slicing_ para ndarrays, con más posibilidades que en las listas Python."
      ]
    },
    {
      "cell_type": "code",
      "execution_count": 68,
      "id": "60cc0178-b263-49cc-a623-61256b1fe045",
      "metadata": {
        "id": "60cc0178-b263-49cc-a623-61256b1fe045",
        "colab": {
          "base_uri": "https://localhost:8080/"
        },
        "outputId": "28a9b01c-6545-4b98-e345-cf0be02ba6f1"
      },
      "outputs": [
        {
          "output_type": "stream",
          "name": "stdout",
          "text": [
            "[ 1 99]\n",
            "[ 1 99]\n"
          ]
        }
      ],
      "source": [
        "# Seleccionar un subconjunto de elementos de la primera fila\n",
        "print( a[0][:2] )   # notación estándar Python (listas de listas)\n",
        "print( a[0, :2] )   # notación NumPy ndarrays"
      ]
    },
    {
      "cell_type": "code",
      "execution_count": 76,
      "id": "d1ed7800-68a1-4d67-b681-b2a4ac929f1a",
      "metadata": {
        "id": "d1ed7800-68a1-4d67-b681-b2a4ac929f1a",
        "colab": {
          "base_uri": "https://localhost:8080/"
        },
        "outputId": "82703025-f442-47dd-89d5-fb998c91ef28"
      },
      "outputs": [
        {
          "output_type": "stream",
          "name": "stdout",
          "text": [
            "[1 2]\n",
            "[1 2]\n"
          ]
        }
      ],
      "source": [
        "b = np.array([[1, 2, 3, 4], [10, 20, 30, 40]])\n",
        "print(b[0][:2])\n",
        "print(b[0, :2])"
      ]
    },
    {
      "cell_type": "code",
      "execution_count": 77,
      "id": "55ca6997-6838-40ca-96a0-2bba943fffb5",
      "metadata": {
        "id": "55ca6997-6838-40ca-96a0-2bba943fffb5",
        "colab": {
          "base_uri": "https://localhost:8080/"
        },
        "outputId": "1fdb72ee-b76c-44d4-ab95-bd0bbc826225"
      },
      "outputs": [
        {
          "output_type": "execute_result",
          "data": {
            "text/plain": [
              "array([[ 1, 99,  3,  4],\n",
              "       [10, 20, 30, 40]])"
            ]
          },
          "metadata": {},
          "execution_count": 77
        }
      ],
      "source": [
        "a"
      ]
    },
    {
      "cell_type": "code",
      "execution_count": 78,
      "id": "3ad887a3-ac0e-445e-804e-63663310a4b6",
      "metadata": {
        "id": "3ad887a3-ac0e-445e-804e-63663310a4b6",
        "colab": {
          "base_uri": "https://localhost:8080/"
        },
        "outputId": "3948f7d2-41c0-41b8-d107-a27903b3799a"
      },
      "outputs": [
        {
          "output_type": "stream",
          "name": "stdout",
          "text": [
            "[ 1 10]\n"
          ]
        }
      ],
      "source": [
        "# Seleccionar la primera columna (solo posible con ndarrays)\n",
        "print(a[:,0])"
      ]
    },
    {
      "cell_type": "code",
      "execution_count": 79,
      "id": "d6665596-63d1-45a6-8a1a-47d76275c27d",
      "metadata": {
        "id": "d6665596-63d1-45a6-8a1a-47d76275c27d",
        "colab": {
          "base_uri": "https://localhost:8080/"
        },
        "outputId": "523cc3b0-948d-4ca1-9641-db5cf49e3267"
      },
      "outputs": [
        {
          "output_type": "execute_result",
          "data": {
            "text/plain": [
              "[np.int64(1), np.int64(10)]"
            ]
          },
          "metadata": {},
          "execution_count": 79
        }
      ],
      "source": [
        "[x[0] for x in b]"
      ]
    },
    {
      "cell_type": "code",
      "execution_count": 80,
      "id": "1a50e44a-d862-44e2-9ea9-5957f94e639c",
      "metadata": {
        "id": "1a50e44a-d862-44e2-9ea9-5957f94e639c",
        "colab": {
          "base_uri": "https://localhost:8080/"
        },
        "outputId": "cd8a42c7-27d5-4b48-b1b1-2d6b9d0fd9cc"
      },
      "outputs": [
        {
          "output_type": "stream",
          "name": "stdout",
          "text": [
            "[[ 1 99]\n",
            " [10 20]]\n"
          ]
        }
      ],
      "source": [
        "# Seleccionar una sub-matriz (todas las filas, primera y segunda columnas)\n",
        "print(a[:,:2])"
      ]
    },
    {
      "cell_type": "markdown",
      "id": "c8ede501-fd25-40dd-8a67-e9ebecec5753",
      "metadata": {
        "id": "c8ede501-fd25-40dd-8a67-e9ebecec5753"
      },
      "source": [
        "<br/>\n",
        "\n",
        "Finalmente, veamos que también se pueden realizar asignaciones a selecciones por _slice_. Y también aquí se puede usar _broadcasting_."
      ]
    },
    {
      "cell_type": "code",
      "execution_count": 81,
      "id": "d64eb244-1d68-44b6-aaf6-d5f2a2552f65",
      "metadata": {
        "id": "d64eb244-1d68-44b6-aaf6-d5f2a2552f65",
        "colab": {
          "base_uri": "https://localhost:8080/"
        },
        "outputId": "20abdfcd-5db7-4da9-da72-3591286b38e8"
      },
      "outputs": [
        {
          "output_type": "execute_result",
          "data": {
            "text/plain": [
              "array([[ 1, 99,  3,  4],\n",
              "       [10, 20, 30, 40]])"
            ]
          },
          "metadata": {},
          "execution_count": 81
        }
      ],
      "source": [
        "a"
      ]
    },
    {
      "cell_type": "code",
      "execution_count": 82,
      "id": "63333d2d-ea10-4a7e-b948-ca9714bbb756",
      "metadata": {
        "id": "63333d2d-ea10-4a7e-b948-ca9714bbb756",
        "colab": {
          "base_uri": "https://localhost:8080/"
        },
        "outputId": "60f9b645-dd0c-43e1-8757-07c65c3d2c98"
      },
      "outputs": [
        {
          "output_type": "execute_result",
          "data": {
            "text/plain": [
              "array([ 1, 99])"
            ]
          },
          "metadata": {},
          "execution_count": 82
        }
      ],
      "source": [
        "a[0, :2]"
      ]
    },
    {
      "cell_type": "code",
      "execution_count": 83,
      "id": "c2102b1c-c957-45d8-837a-18fa405297ae",
      "metadata": {
        "id": "c2102b1c-c957-45d8-837a-18fa405297ae",
        "colab": {
          "base_uri": "https://localhost:8080/"
        },
        "outputId": "7d01c39f-727a-49a3-f664-125dd2e1ed8b"
      },
      "outputs": [
        {
          "output_type": "execute_result",
          "data": {
            "text/plain": [
              "array([[100, 500,   3,   4],\n",
              "       [ 10,  20,  30,  40]])"
            ]
          },
          "metadata": {},
          "execution_count": 83
        }
      ],
      "source": [
        "a[0, :2] = 100, 500\n",
        "a"
      ]
    },
    {
      "cell_type": "code",
      "execution_count": 84,
      "id": "18162a99-0214-4fe5-9224-e7cbfaeecabe",
      "metadata": {
        "id": "18162a99-0214-4fe5-9224-e7cbfaeecabe",
        "colab": {
          "base_uri": "https://localhost:8080/"
        },
        "outputId": "ccd60642-9e84-48d9-fe55-4ee7cfb11316"
      },
      "outputs": [
        {
          "output_type": "execute_result",
          "data": {
            "text/plain": [
              "array([[100, 500],\n",
              "       [ 10,  20]])"
            ]
          },
          "metadata": {},
          "execution_count": 84
        }
      ],
      "source": [
        "a[:, :2]"
      ]
    },
    {
      "cell_type": "code",
      "execution_count": 85,
      "id": "1cf96f6d-8e52-4b79-ad4c-19e41254f48c",
      "metadata": {
        "id": "1cf96f6d-8e52-4b79-ad4c-19e41254f48c",
        "colab": {
          "base_uri": "https://localhost:8080/"
        },
        "outputId": "6b5ce613-a659-4502-e4ab-6c52594981cc"
      },
      "outputs": [
        {
          "output_type": "execute_result",
          "data": {
            "text/plain": [
              "array([[55, 55,  3,  4],\n",
              "       [55, 55, 30, 40]])"
            ]
          },
          "metadata": {},
          "execution_count": 85
        }
      ],
      "source": [
        "a[:, :2] = 55\n",
        "a"
      ]
    },
    {
      "cell_type": "markdown",
      "id": "3bb72962-1c49-4ce4-8820-ab6d9c496fbc",
      "metadata": {
        "id": "3bb72962-1c49-4ce4-8820-ab6d9c496fbc"
      },
      "source": [
        "<br/>\n",
        "\n",
        "<div style=\"background-color:powderblue;\">\n",
        "\n",
        "**EJERCICIO 4:**\n",
        "    \n",
        "Dado el array `in`, producir el array resultado `out` con solo dos instrucciones de transformación (asignaciones a selecciones de `in`)."
      ]
    },
    {
      "cell_type": "code",
      "execution_count": 86,
      "id": "10e7319b-31d3-43b9-933d-12dba8489bf4",
      "metadata": {
        "id": "10e7319b-31d3-43b9-933d-12dba8489bf4",
        "colab": {
          "base_uri": "https://localhost:8080/"
        },
        "outputId": "6555db96-025f-4799-d246-c5fb3dd0ca78"
      },
      "outputs": [
        {
          "output_type": "stream",
          "name": "stdout",
          "text": [
            "[[1. 1. 1. 1. 1.]\n",
            " [1. 1. 1. 1. 1.]\n",
            " [1. 1. 1. 1. 1.]\n",
            " [1. 1. 1. 1. 1.]\n",
            " [1. 1. 1. 1. 1.]]\n",
            "\n",
            "[[1. 1. 0. 1. 1.]\n",
            " [1. 1. 0. 1. 1.]\n",
            " [0. 0. 0. 0. 0.]\n",
            " [1. 1. 0. 1. 1.]\n",
            " [1. 1. 0. 1. 1.]]\n"
          ]
        }
      ],
      "source": [
        "ain = np.ones([5, 5])\n",
        "a = [1, 1, 0, 1, 1]\n",
        "aout = np.array([a, a, np.zeros(5), a, a])\n",
        "print(ain)\n",
        "print()\n",
        "print(aout)"
      ]
    },
    {
      "cell_type": "markdown",
      "id": "2def1db4-3583-4f63-b2ae-5dadd00e3ecd",
      "metadata": {
        "id": "2def1db4-3583-4f63-b2ae-5dadd00e3ecd"
      },
      "source": [
        "### Indexado avanzado\n",
        "También se pueden pasar listas (o arrays) de índices, una para cada eje, y se devolverán los elementos que correspondan con esas coordenadas.\n",
        "\n",
        "**IMPORTANTE:** en indexado avanzado, al contrario que antes, se devuelven _copias_ y no _vistas_."
      ]
    },
    {
      "cell_type": "code",
      "execution_count": null,
      "id": "8203fe7d-dd48-46dc-a2e8-44206aaa4139",
      "metadata": {
        "id": "8203fe7d-dd48-46dc-a2e8-44206aaa4139"
      },
      "outputs": [],
      "source": [
        "a = np.array([(1, 2, 3, 4), (10, 20, 30, 40)])\n",
        "print(a)"
      ]
    },
    {
      "cell_type": "code",
      "execution_count": null,
      "id": "3a808c32-46d7-4827-b02d-f712dce42d3a",
      "metadata": {
        "id": "3a808c32-46d7-4827-b02d-f712dce42d3a"
      },
      "outputs": [],
      "source": [
        "# Para recuperar los elementos (0,2) y (1,3), podemos usar:\n",
        "rows = (0, 1)\n",
        "cols = (2, 3)\n",
        "sub = a[rows, cols]\n",
        "# Igual a...\n",
        "#   a[0, 2]\n",
        "#   a[1, 3]\n",
        "\n",
        "sub"
      ]
    },
    {
      "cell_type": "markdown",
      "id": "450ef642-76ec-45ff-84a2-c75352898549",
      "metadata": {
        "id": "450ef642-76ec-45ff-84a2-c75352898549"
      },
      "source": [
        "En este caso, no se trata de una vista."
      ]
    },
    {
      "cell_type": "code",
      "execution_count": null,
      "id": "d4ac563e-4d2a-4dd2-8aa4-9cfce9b2b0f6",
      "metadata": {
        "id": "d4ac563e-4d2a-4dd2-8aa4-9cfce9b2b0f6"
      },
      "outputs": [],
      "source": [
        "sub[0] = 99\n",
        "print(sub)\n",
        "print()\n",
        "print(a)"
      ]
    },
    {
      "cell_type": "markdown",
      "id": "d742842e-72b8-4f69-a957-195e1bea10bb",
      "metadata": {
        "id": "d742842e-72b8-4f69-a957-195e1bea10bb"
      },
      "source": [
        "<p/>\n",
        "\n",
        "Sin embargo, si puede modificar si lo hago en una sola instrucción."
      ]
    },
    {
      "cell_type": "code",
      "execution_count": null,
      "id": "1e25beb3-8a56-42c6-a30c-940b3e3fca50",
      "metadata": {
        "id": "1e25beb3-8a56-42c6-a30c-940b3e3fca50"
      },
      "outputs": [],
      "source": [
        "a[rows, cols] = [99, 99]\n",
        "a"
      ]
    },
    {
      "cell_type": "markdown",
      "id": "873fd174-372c-4a8f-aca1-8dd2e6d09e39",
      "metadata": {
        "id": "873fd174-372c-4a8f-aca1-8dd2e6d09e39"
      },
      "source": [
        "<br/>\n",
        "\n",
        "También se puede usar la función `numpy.ix_` para recuperar los elementos en las combinaciones de cada coordenada con las de los otros ejes."
      ]
    },
    {
      "cell_type": "code",
      "execution_count": null,
      "id": "af54482a-dbb4-4f14-bb70-8c4e59c85309",
      "metadata": {
        "id": "af54482a-dbb4-4f14-bb70-8c4e59c85309"
      },
      "outputs": [],
      "source": [
        "# Con las mismas 'rows', 'cols', recuperaríamos los elementos (0,2), (0,3), (1,2) y (1,3):\n",
        "a[np.ix_(rows, cols)]"
      ]
    },
    {
      "cell_type": "markdown",
      "id": "aabdc144-15ca-4280-a8ad-c310bc37c4fd",
      "metadata": {
        "id": "aabdc144-15ca-4280-a8ad-c310bc37c4fd"
      },
      "source": [
        "<br/>\n",
        "\n",
        "<div style=\"background-color:powderblue;\">\n",
        "\n",
        "**EJERCICIO 5:**\n",
        "\n",
        "Partiendo del mismo `ain` que en el ejercicio anterior, y con una sola operación de asignación, obtener un array resultado igual a `aout`."
      ]
    },
    {
      "cell_type": "code",
      "execution_count": 87,
      "id": "fc1d1302-03e9-4fbf-9166-434e274d16f2",
      "metadata": {
        "id": "fc1d1302-03e9-4fbf-9166-434e274d16f2",
        "colab": {
          "base_uri": "https://localhost:8080/"
        },
        "outputId": "a200056a-1572-4db2-ac46-d3718bff37ff"
      },
      "outputs": [
        {
          "output_type": "stream",
          "name": "stdout",
          "text": [
            "[[1. 1. 1. 1. 1.]\n",
            " [1. 1. 1. 1. 1.]\n",
            " [1. 1. 1. 1. 1.]\n",
            " [1. 1. 1. 1. 1.]\n",
            " [1. 1. 1. 1. 1.]]\n",
            "\n",
            "[[1. 1. 1. 1. 1.]\n",
            " [1. 0. 0. 0. 1.]\n",
            " [1. 0. 0. 0. 1.]\n",
            " [1. 0. 0. 0. 1.]\n",
            " [1. 1. 1. 1. 1.]]\n"
          ]
        }
      ],
      "source": [
        "ain = np.ones([5, 5])\n",
        "a = np.array([1, 0, 0, 0, 1])\n",
        "aout = np.array([np.ones(5), a, a, a, np.ones(5)])\n",
        "print(ain)\n",
        "print()\n",
        "print(aout)"
      ]
    },
    {
      "cell_type": "markdown",
      "id": "86bb6868-1739-4c6f-a936-99d8db795cbd",
      "metadata": {
        "id": "86bb6868-1739-4c6f-a936-99d8db795cbd"
      },
      "source": [
        "### Filtrado con arrays de máscara\n",
        "\n",
        "Si se indexa un array con otro array de valores boolean, se devuelven solo los elementos para cuya posición hay un valor `True`. Esto se puede usar para fitrar arrays en base a condiciones.\n",
        "\n",
        "**NOTA:** también en esto caso se devolverán _copias_ y no _vistas_."
      ]
    },
    {
      "cell_type": "code",
      "execution_count": null,
      "id": "93e59db9-6ded-4024-8053-eb3c687ca445",
      "metadata": {
        "id": "93e59db9-6ded-4024-8053-eb3c687ca445"
      },
      "outputs": [],
      "source": [
        "a = np.array([(1, 2, 3, 4), (10, 20, 30, 40)])\n",
        "a"
      ]
    },
    {
      "cell_type": "code",
      "execution_count": null,
      "id": "f742b7c2-8db9-49bf-97c5-1af2f2972cec",
      "metadata": {
        "id": "f742b7c2-8db9-49bf-97c5-1af2f2972cec"
      },
      "outputs": [],
      "source": [
        "a[[True, False]]\n",
        "# a[0]"
      ]
    },
    {
      "cell_type": "code",
      "execution_count": null,
      "id": "96527f95-e4c3-425b-ab25-6460f7e9f6bc",
      "metadata": {
        "id": "96527f95-e4c3-425b-ab25-6460f7e9f6bc"
      },
      "outputs": [],
      "source": [
        "a[[True, False], [True, True, False, False]]\n",
        "#a[0, :1]"
      ]
    },
    {
      "cell_type": "code",
      "execution_count": null,
      "id": "8ff8e619-a866-4cd8-8336-93263a11e3a5",
      "metadata": {
        "id": "8ff8e619-a866-4cd8-8336-93263a11e3a5"
      },
      "outputs": [],
      "source": [
        "mask = np.array([(True, True, True, False), (True, False, False, False)])\n",
        "print(mask)"
      ]
    },
    {
      "cell_type": "code",
      "execution_count": null,
      "id": "b707b74e-1362-4425-9e54-d80fabac0b76",
      "metadata": {
        "id": "b707b74e-1362-4425-9e54-d80fabac0b76"
      },
      "outputs": [],
      "source": [
        "a[mask]"
      ]
    },
    {
      "cell_type": "markdown",
      "id": "bde50bca-5540-4222-800c-bdfac1e79deb",
      "metadata": {
        "id": "bde50bca-5540-4222-800c-bdfac1e79deb"
      },
      "source": [
        "Podemos usar como máscara el resultado de una comparación booleana."
      ]
    },
    {
      "cell_type": "code",
      "execution_count": null,
      "id": "c83fdcac-a7fb-4e64-9bef-314409b1eb50",
      "metadata": {
        "id": "c83fdcac-a7fb-4e64-9bef-314409b1eb50"
      },
      "outputs": [],
      "source": [
        "a%3 == 0"
      ]
    },
    {
      "cell_type": "code",
      "execution_count": null,
      "id": "4f25ceda-eab9-4700-bb6c-a0bcb06e94d6",
      "metadata": {
        "id": "4f25ceda-eab9-4700-bb6c-a0bcb06e94d6"
      },
      "outputs": [],
      "source": [
        "a[a%3==0]"
      ]
    },
    {
      "cell_type": "code",
      "execution_count": null,
      "id": "ff057157-f435-4356-a9aa-b179594b1ab3",
      "metadata": {
        "id": "ff057157-f435-4356-a9aa-b179594b1ab3"
      },
      "outputs": [],
      "source": [
        "# Example: return those elements that are divisible by 3 or by 4\n",
        "mask = (a%3==0) | (a%4==0)\n",
        "a[mask]"
      ]
    },
    {
      "cell_type": "markdown",
      "id": "0324369d-4b81-4828-8231-6e70e1782653",
      "metadata": {
        "id": "0324369d-4b81-4828-8231-6e70e1782653"
      },
      "source": [
        "La función `numpy.nonzero` puede usarse para recuperar los índices (coordenadas) de los elementos que satisfacen una condición, en lugar de los elementos en sí."
      ]
    },
    {
      "cell_type": "code",
      "execution_count": null,
      "id": "95656a3d-daac-4629-9ebc-bc4c57b6fa86",
      "metadata": {
        "id": "95656a3d-daac-4629-9ebc-bc4c57b6fa86"
      },
      "outputs": [],
      "source": [
        "# Los elementos divisbles entre 3 están en la columna 2 de las filas 0 y 1\n",
        "b = np.nonzero(a%3==0)\n",
        "print(b)"
      ]
    },
    {
      "cell_type": "code",
      "execution_count": null,
      "id": "f1eb6ec4-75f0-4f55-9196-02add01d73da",
      "metadata": {
        "id": "f1eb6ec4-75f0-4f55-9196-02add01d73da"
      },
      "outputs": [],
      "source": [
        "a"
      ]
    },
    {
      "cell_type": "markdown",
      "id": "4d1cbcc6-44f6-4ed1-95ad-906f131c0658",
      "metadata": {
        "id": "4d1cbcc6-44f6-4ed1-95ad-906f131c0658"
      },
      "source": [
        "<br/>\n",
        "\n",
        "<div style=\"background-color:powderblue;\">\n",
        "\n",
        "**EJERCICIO 6:**\n",
        "    \n",
        "Dado el array `a46` seleccionar los elementos que sean mayores que 10 de la segunda columna."
      ]
    },
    {
      "cell_type": "code",
      "execution_count": null,
      "id": "8f6afa8f-6868-4a59-9810-8a09825a3a7d",
      "metadata": {
        "id": "8f6afa8f-6868-4a59-9810-8a09825a3a7d"
      },
      "outputs": [],
      "source": [
        "a46 = np.array([(1, 2, 3), (10, 20, 30), (100, 200, 300)])\n",
        "a46"
      ]
    }
  ],
  "metadata": {
    "kernelspec": {
      "display_name": "Python 3",
      "language": "python",
      "name": "python3"
    },
    "language_info": {
      "codemirror_mode": {
        "name": "ipython",
        "version": 3
      },
      "file_extension": ".py",
      "mimetype": "text/x-python",
      "name": "python",
      "nbconvert_exporter": "python",
      "pygments_lexer": "ipython3",
      "version": "3.6.8"
    },
    "colab": {
      "provenance": []
    }
  },
  "nbformat": 4,
  "nbformat_minor": 5
}